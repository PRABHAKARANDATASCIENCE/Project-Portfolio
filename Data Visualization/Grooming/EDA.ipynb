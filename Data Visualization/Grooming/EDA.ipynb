{
 "cells": [
  {
   "cell_type": "code",
   "execution_count": null,
   "id": "5c31d04a",
   "metadata": {},
   "outputs": [],
   "source": []
  },
  {
   "cell_type": "code",
   "execution_count": 1,
   "id": "8c31bbca",
   "metadata": {},
   "outputs": [],
   "source": [
    "#import required library\n",
    "import numpy as np\n",
    "import pandas as pd\n",
    "import matplotlib.pyplot as plt\n",
    "import seaborn as sb\n"
   ]
  },
  {
   "cell_type": "code",
   "execution_count": 2,
   "id": "1e7e2186",
   "metadata": {},
   "outputs": [
    {
     "data": {
      "text/html": [
       "<div>\n",
       "<style scoped>\n",
       "    .dataframe tbody tr th:only-of-type {\n",
       "        vertical-align: middle;\n",
       "    }\n",
       "\n",
       "    .dataframe tbody tr th {\n",
       "        vertical-align: top;\n",
       "    }\n",
       "\n",
       "    .dataframe thead th {\n",
       "        text-align: right;\n",
       "    }\n",
       "</style>\n",
       "<table border=\"1\" class=\"dataframe\">\n",
       "  <thead>\n",
       "    <tr style=\"text-align: right;\">\n",
       "      <th></th>\n",
       "      <th>Order ID</th>\n",
       "      <th>Order Date</th>\n",
       "      <th>Customer Name</th>\n",
       "      <th>City</th>\n",
       "      <th>Country</th>\n",
       "      <th>Region</th>\n",
       "      <th>Segment</th>\n",
       "      <th>Ship Date</th>\n",
       "      <th>Ship Mode</th>\n",
       "      <th>State</th>\n",
       "    </tr>\n",
       "  </thead>\n",
       "  <tbody>\n",
       "    <tr>\n",
       "      <th>0</th>\n",
       "      <td>BN-2011-7407039</td>\n",
       "      <td>2011-01-01</td>\n",
       "      <td>Ruby Patel</td>\n",
       "      <td>Stockholm</td>\n",
       "      <td>Sweden</td>\n",
       "      <td>North</td>\n",
       "      <td>Home Office</td>\n",
       "      <td>2011-01-05</td>\n",
       "      <td>Economy Plus</td>\n",
       "      <td>Stockholm</td>\n",
       "    </tr>\n",
       "    <tr>\n",
       "      <th>1</th>\n",
       "      <td>AZ-2011-9050313</td>\n",
       "      <td>2011-01-03</td>\n",
       "      <td>Summer Hayward</td>\n",
       "      <td>Southport</td>\n",
       "      <td>United Kingdom</td>\n",
       "      <td>North</td>\n",
       "      <td>Consumer</td>\n",
       "      <td>2011-01-07</td>\n",
       "      <td>Economy</td>\n",
       "      <td>England</td>\n",
       "    </tr>\n",
       "    <tr>\n",
       "      <th>2</th>\n",
       "      <td>AZ-2011-6674300</td>\n",
       "      <td>2011-01-04</td>\n",
       "      <td>Devin Huddleston</td>\n",
       "      <td>Valence</td>\n",
       "      <td>France</td>\n",
       "      <td>Central</td>\n",
       "      <td>Consumer</td>\n",
       "      <td>2011-01-08</td>\n",
       "      <td>Economy</td>\n",
       "      <td>Auvergne-Rhône-Alpes</td>\n",
       "    </tr>\n",
       "    <tr>\n",
       "      <th>3</th>\n",
       "      <td>BN-2011-2819714</td>\n",
       "      <td>2011-01-04</td>\n",
       "      <td>Mary Parker</td>\n",
       "      <td>Birmingham</td>\n",
       "      <td>United Kingdom</td>\n",
       "      <td>North</td>\n",
       "      <td>Corporate</td>\n",
       "      <td>2011-01-09</td>\n",
       "      <td>Economy</td>\n",
       "      <td>England</td>\n",
       "    </tr>\n",
       "    <tr>\n",
       "      <th>4</th>\n",
       "      <td>AZ-2011-617423</td>\n",
       "      <td>2011-01-05</td>\n",
       "      <td>Daniel Burke</td>\n",
       "      <td>Echirolles</td>\n",
       "      <td>France</td>\n",
       "      <td>Central</td>\n",
       "      <td>Home Office</td>\n",
       "      <td>2011-01-07</td>\n",
       "      <td>Priority</td>\n",
       "      <td>Auvergne-Rhône-Alpes</td>\n",
       "    </tr>\n",
       "  </tbody>\n",
       "</table>\n",
       "</div>"
      ],
      "text/plain": [
       "          Order ID Order Date     Customer Name        City         Country  \\\n",
       "0  BN-2011-7407039 2011-01-01        Ruby Patel   Stockholm          Sweden   \n",
       "1  AZ-2011-9050313 2011-01-03    Summer Hayward   Southport  United Kingdom   \n",
       "2  AZ-2011-6674300 2011-01-04  Devin Huddleston     Valence          France   \n",
       "3  BN-2011-2819714 2011-01-04       Mary Parker  Birmingham  United Kingdom   \n",
       "4   AZ-2011-617423 2011-01-05      Daniel Burke  Echirolles          France   \n",
       "\n",
       "    Region      Segment  Ship Date     Ship Mode                 State  \n",
       "0    North  Home Office 2011-01-05  Economy Plus             Stockholm  \n",
       "1    North     Consumer 2011-01-07       Economy               England  \n",
       "2  Central     Consumer 2011-01-08       Economy  Auvergne-Rhône-Alpes  \n",
       "3    North    Corporate 2011-01-09       Economy               England  \n",
       "4  Central  Home Office 2011-01-07      Priority  Auvergne-Rhône-Alpes  "
      ]
     },
     "execution_count": 2,
     "metadata": {},
     "output_type": "execute_result"
    }
   ],
   "source": [
    "#read data set\n",
    "df1 = pd.read_excel(\"AmazingMartEU2.xlsx\",sheet_name=0)\n",
    "df1.head()"
   ]
  },
  {
   "cell_type": "code",
   "execution_count": 3,
   "id": "a55f99ba",
   "metadata": {},
   "outputs": [
    {
     "data": {
      "text/html": [
       "<div>\n",
       "<style scoped>\n",
       "    .dataframe tbody tr th:only-of-type {\n",
       "        vertical-align: middle;\n",
       "    }\n",
       "\n",
       "    .dataframe tbody tr th {\n",
       "        vertical-align: top;\n",
       "    }\n",
       "\n",
       "    .dataframe thead th {\n",
       "        text-align: right;\n",
       "    }\n",
       "</style>\n",
       "<table border=\"1\" class=\"dataframe\">\n",
       "  <thead>\n",
       "    <tr style=\"text-align: right;\">\n",
       "      <th></th>\n",
       "      <th>Order ID</th>\n",
       "      <th>Product Name</th>\n",
       "      <th>Discount</th>\n",
       "      <th>Sales</th>\n",
       "      <th>Profit</th>\n",
       "      <th>Quantity</th>\n",
       "      <th>Category</th>\n",
       "      <th>Sub-Category</th>\n",
       "    </tr>\n",
       "  </thead>\n",
       "  <tbody>\n",
       "    <tr>\n",
       "      <th>0</th>\n",
       "      <td>BN-2011-7407039</td>\n",
       "      <td>Enermax Note Cards, Premium</td>\n",
       "      <td>0.5</td>\n",
       "      <td>45</td>\n",
       "      <td>-26</td>\n",
       "      <td>3</td>\n",
       "      <td>Office Supplies</td>\n",
       "      <td>Paper</td>\n",
       "    </tr>\n",
       "    <tr>\n",
       "      <th>1</th>\n",
       "      <td>AZ-2011-9050313</td>\n",
       "      <td>Dania Corner Shelving, Traditional</td>\n",
       "      <td>0.0</td>\n",
       "      <td>854</td>\n",
       "      <td>290</td>\n",
       "      <td>7</td>\n",
       "      <td>Furniture</td>\n",
       "      <td>Bookcases</td>\n",
       "    </tr>\n",
       "    <tr>\n",
       "      <th>2</th>\n",
       "      <td>AZ-2011-6674300</td>\n",
       "      <td>Binney &amp; Smith Sketch Pad, Easy-Erase</td>\n",
       "      <td>0.0</td>\n",
       "      <td>140</td>\n",
       "      <td>21</td>\n",
       "      <td>3</td>\n",
       "      <td>Office Supplies</td>\n",
       "      <td>Art</td>\n",
       "    </tr>\n",
       "    <tr>\n",
       "      <th>3</th>\n",
       "      <td>BN-2011-2819714</td>\n",
       "      <td>Boston Markers, Easy-Erase</td>\n",
       "      <td>0.5</td>\n",
       "      <td>27</td>\n",
       "      <td>-22</td>\n",
       "      <td>2</td>\n",
       "      <td>Office Supplies</td>\n",
       "      <td>Art</td>\n",
       "    </tr>\n",
       "    <tr>\n",
       "      <th>4</th>\n",
       "      <td>BN-2011-2819714</td>\n",
       "      <td>Eldon Folders, Single Width</td>\n",
       "      <td>0.5</td>\n",
       "      <td>17</td>\n",
       "      <td>-1</td>\n",
       "      <td>2</td>\n",
       "      <td>Office Supplies</td>\n",
       "      <td>Storage</td>\n",
       "    </tr>\n",
       "  </tbody>\n",
       "</table>\n",
       "</div>"
      ],
      "text/plain": [
       "          Order ID                           Product Name  Discount  Sales  \\\n",
       "0  BN-2011-7407039            Enermax Note Cards, Premium       0.5     45   \n",
       "1  AZ-2011-9050313     Dania Corner Shelving, Traditional       0.0    854   \n",
       "2  AZ-2011-6674300  Binney & Smith Sketch Pad, Easy-Erase       0.0    140   \n",
       "3  BN-2011-2819714             Boston Markers, Easy-Erase       0.5     27   \n",
       "4  BN-2011-2819714            Eldon Folders, Single Width       0.5     17   \n",
       "\n",
       "   Profit  Quantity         Category Sub-Category  \n",
       "0     -26         3  Office Supplies        Paper  \n",
       "1     290         7        Furniture    Bookcases  \n",
       "2      21         3  Office Supplies          Art  \n",
       "3     -22         2  Office Supplies          Art  \n",
       "4      -1         2  Office Supplies      Storage  "
      ]
     },
     "execution_count": 3,
     "metadata": {},
     "output_type": "execute_result"
    }
   ],
   "source": [
    "df2 = pd.read_excel(\"AmazingMartEU2.xlsx\",sheet_name=1)\n",
    "df2.head()"
   ]
  },
  {
   "cell_type": "code",
   "execution_count": 4,
   "id": "9470c899",
   "metadata": {},
   "outputs": [
    {
     "data": {
      "text/html": [
       "<div>\n",
       "<style scoped>\n",
       "    .dataframe tbody tr th:only-of-type {\n",
       "        vertical-align: middle;\n",
       "    }\n",
       "\n",
       "    .dataframe tbody tr th {\n",
       "        vertical-align: top;\n",
       "    }\n",
       "\n",
       "    .dataframe thead th {\n",
       "        text-align: right;\n",
       "    }\n",
       "</style>\n",
       "<table border=\"1\" class=\"dataframe\">\n",
       "  <thead>\n",
       "    <tr style=\"text-align: right;\">\n",
       "      <th></th>\n",
       "      <th>Month of Order Date</th>\n",
       "      <th>Category</th>\n",
       "      <th>Target</th>\n",
       "    </tr>\n",
       "  </thead>\n",
       "  <tbody>\n",
       "    <tr>\n",
       "      <th>0</th>\n",
       "      <td>2011-01-01</td>\n",
       "      <td>Furniture</td>\n",
       "      <td>10000</td>\n",
       "    </tr>\n",
       "    <tr>\n",
       "      <th>1</th>\n",
       "      <td>2011-02-01</td>\n",
       "      <td>Furniture</td>\n",
       "      <td>10100</td>\n",
       "    </tr>\n",
       "    <tr>\n",
       "      <th>2</th>\n",
       "      <td>2011-03-01</td>\n",
       "      <td>Furniture</td>\n",
       "      <td>10300</td>\n",
       "    </tr>\n",
       "    <tr>\n",
       "      <th>3</th>\n",
       "      <td>2011-04-01</td>\n",
       "      <td>Furniture</td>\n",
       "      <td>10400</td>\n",
       "    </tr>\n",
       "    <tr>\n",
       "      <th>4</th>\n",
       "      <td>2011-05-01</td>\n",
       "      <td>Furniture</td>\n",
       "      <td>10500</td>\n",
       "    </tr>\n",
       "  </tbody>\n",
       "</table>\n",
       "</div>"
      ],
      "text/plain": [
       "  Month of Order Date   Category  Target\n",
       "0          2011-01-01  Furniture   10000\n",
       "1          2011-02-01  Furniture   10100\n",
       "2          2011-03-01  Furniture   10300\n",
       "3          2011-04-01  Furniture   10400\n",
       "4          2011-05-01  Furniture   10500"
      ]
     },
     "execution_count": 4,
     "metadata": {},
     "output_type": "execute_result"
    }
   ],
   "source": [
    "df3 = pd.read_excel(\"AmazingMartEU2.xlsx\",sheet_name=2)\n",
    "df3.head()"
   ]
  },
  {
   "cell_type": "code",
   "execution_count": 5,
   "id": "51055ceb",
   "metadata": {},
   "outputs": [],
   "source": [
    "df3.rename(columns={\"Month of Order Date\":'Order Date'},inplace=True)"
   ]
  },
  {
   "cell_type": "code",
   "execution_count": 6,
   "id": "2fe9e0a5",
   "metadata": {},
   "outputs": [
    {
     "name": "stdout",
     "output_type": "stream",
     "text": [
      "total number of rows and columns in sheet 1 (4117, 10)\n",
      "total number of rows and columns in sheet 2 (8047, 8)\n",
      "total number of rows and columns in sheet 3 (144, 3)\n"
     ]
    }
   ],
   "source": [
    "# • Check total number of rows and columns in the dataset\n",
    "print(\"total number of rows and columns in sheet 1\",df1.shape)\n",
    "print(\"total number of rows and columns in sheet 2\",df2.shape)\n",
    "print(\"total number of rows and columns in sheet 3\",df3.shape)"
   ]
  },
  {
   "cell_type": "code",
   "execution_count": 7,
   "id": "846ab86d",
   "metadata": {},
   "outputs": [],
   "source": [
    "merge_df = pd.merge(df1,df2,on='Order ID',how = \"inner\")"
   ]
  },
  {
   "cell_type": "code",
   "execution_count": 8,
   "id": "845c8561",
   "metadata": {},
   "outputs": [
    {
     "data": {
      "text/plain": [
       "(8047, 17)"
      ]
     },
     "execution_count": 8,
     "metadata": {},
     "output_type": "execute_result"
    }
   ],
   "source": [
    "merge_df.shape"
   ]
  },
  {
   "cell_type": "markdown",
   "id": "1ee7866c",
   "metadata": {},
   "source": [
    "### 2 check if all data type are appearing correctly or not"
   ]
  },
  {
   "cell_type": "code",
   "execution_count": 9,
   "id": "7f9d19f9",
   "metadata": {},
   "outputs": [
    {
     "name": "stdout",
     "output_type": "stream",
     "text": [
      "<class 'pandas.core.frame.DataFrame'>\n",
      "Int64Index: 8047 entries, 0 to 8046\n",
      "Data columns (total 17 columns):\n",
      " #   Column         Non-Null Count  Dtype         \n",
      "---  ------         --------------  -----         \n",
      " 0   Order ID       8047 non-null   object        \n",
      " 1   Order Date     8047 non-null   datetime64[ns]\n",
      " 2   Customer Name  8047 non-null   object        \n",
      " 3   City           8047 non-null   object        \n",
      " 4   Country        8047 non-null   object        \n",
      " 5   Region         8047 non-null   object        \n",
      " 6   Segment        8047 non-null   object        \n",
      " 7   Ship Date      8047 non-null   datetime64[ns]\n",
      " 8   Ship Mode      8047 non-null   object        \n",
      " 9   State          8047 non-null   object        \n",
      " 10  Product Name   8047 non-null   object        \n",
      " 11  Discount       8047 non-null   float64       \n",
      " 12  Sales          8047 non-null   int64         \n",
      " 13  Profit         8047 non-null   int64         \n",
      " 14  Quantity       8047 non-null   int64         \n",
      " 15  Category       8047 non-null   object        \n",
      " 16  Sub-Category   8047 non-null   object        \n",
      "dtypes: datetime64[ns](2), float64(1), int64(3), object(11)\n",
      "memory usage: 1.1+ MB\n"
     ]
    }
   ],
   "source": [
    "merge_df.info()"
   ]
  },
  {
   "cell_type": "markdown",
   "id": "a9ffef7a",
   "metadata": {},
   "source": [
    "### 3  Describe the data"
   ]
  },
  {
   "cell_type": "code",
   "execution_count": 10,
   "id": "75cd0744",
   "metadata": {},
   "outputs": [
    {
     "data": {
      "text/html": [
       "<div>\n",
       "<style scoped>\n",
       "    .dataframe tbody tr th:only-of-type {\n",
       "        vertical-align: middle;\n",
       "    }\n",
       "\n",
       "    .dataframe tbody tr th {\n",
       "        vertical-align: top;\n",
       "    }\n",
       "\n",
       "    .dataframe thead th {\n",
       "        text-align: right;\n",
       "    }\n",
       "</style>\n",
       "<table border=\"1\" class=\"dataframe\">\n",
       "  <thead>\n",
       "    <tr style=\"text-align: right;\">\n",
       "      <th></th>\n",
       "      <th>Discount</th>\n",
       "      <th>Sales</th>\n",
       "      <th>Profit</th>\n",
       "      <th>Quantity</th>\n",
       "    </tr>\n",
       "  </thead>\n",
       "  <tbody>\n",
       "    <tr>\n",
       "      <th>count</th>\n",
       "      <td>8047.000000</td>\n",
       "      <td>8047.000000</td>\n",
       "      <td>8047.000000</td>\n",
       "      <td>8047.000000</td>\n",
       "    </tr>\n",
       "    <tr>\n",
       "      <th>mean</th>\n",
       "      <td>0.110047</td>\n",
       "      <td>291.845657</td>\n",
       "      <td>35.198211</td>\n",
       "      <td>3.772089</td>\n",
       "    </tr>\n",
       "    <tr>\n",
       "      <th>std</th>\n",
       "      <td>0.181773</td>\n",
       "      <td>485.212156</td>\n",
       "      <td>178.125844</td>\n",
       "      <td>2.203369</td>\n",
       "    </tr>\n",
       "    <tr>\n",
       "      <th>min</th>\n",
       "      <td>0.000000</td>\n",
       "      <td>3.000000</td>\n",
       "      <td>-3060.000000</td>\n",
       "      <td>1.000000</td>\n",
       "    </tr>\n",
       "    <tr>\n",
       "      <th>25%</th>\n",
       "      <td>0.000000</td>\n",
       "      <td>48.000000</td>\n",
       "      <td>1.000000</td>\n",
       "      <td>2.000000</td>\n",
       "    </tr>\n",
       "    <tr>\n",
       "      <th>50%</th>\n",
       "      <td>0.000000</td>\n",
       "      <td>117.000000</td>\n",
       "      <td>14.000000</td>\n",
       "      <td>3.000000</td>\n",
       "    </tr>\n",
       "    <tr>\n",
       "      <th>75%</th>\n",
       "      <td>0.100000</td>\n",
       "      <td>313.000000</td>\n",
       "      <td>47.000000</td>\n",
       "      <td>5.000000</td>\n",
       "    </tr>\n",
       "    <tr>\n",
       "      <th>max</th>\n",
       "      <td>0.850000</td>\n",
       "      <td>6517.000000</td>\n",
       "      <td>2476.000000</td>\n",
       "      <td>14.000000</td>\n",
       "    </tr>\n",
       "  </tbody>\n",
       "</table>\n",
       "</div>"
      ],
      "text/plain": [
       "          Discount        Sales       Profit     Quantity\n",
       "count  8047.000000  8047.000000  8047.000000  8047.000000\n",
       "mean      0.110047   291.845657    35.198211     3.772089\n",
       "std       0.181773   485.212156   178.125844     2.203369\n",
       "min       0.000000     3.000000 -3060.000000     1.000000\n",
       "25%       0.000000    48.000000     1.000000     2.000000\n",
       "50%       0.000000   117.000000    14.000000     3.000000\n",
       "75%       0.100000   313.000000    47.000000     5.000000\n",
       "max       0.850000  6517.000000  2476.000000    14.000000"
      ]
     },
     "execution_count": 10,
     "metadata": {},
     "output_type": "execute_result"
    }
   ],
   "source": [
    "merge_df.describe()"
   ]
  },
  {
   "cell_type": "markdown",
   "id": "0830019e",
   "metadata": {},
   "source": [
    "### 4• Check if any column has null values"
   ]
  },
  {
   "cell_type": "code",
   "execution_count": 11,
   "id": "920dbc33",
   "metadata": {},
   "outputs": [
    {
     "data": {
      "text/plain": [
       "Order ID         0\n",
       "Order Date       0\n",
       "Customer Name    0\n",
       "City             0\n",
       "Country          0\n",
       "Region           0\n",
       "Segment          0\n",
       "Ship Date        0\n",
       "Ship Mode        0\n",
       "State            0\n",
       "Product Name     0\n",
       "Discount         0\n",
       "Sales            0\n",
       "Profit           0\n",
       "Quantity         0\n",
       "Category         0\n",
       "Sub-Category     0\n",
       "dtype: int64"
      ]
     },
     "execution_count": 11,
     "metadata": {},
     "output_type": "execute_result"
    }
   ],
   "source": [
    "merge_df.isnull().sum()\n",
    "# no null value presented "
   ]
  },
  {
   "cell_type": "markdown",
   "id": "329092a0",
   "metadata": {},
   "source": [
    "### 5• Check if any column has NaN values"
   ]
  },
  {
   "cell_type": "code",
   "execution_count": 12,
   "id": "29282865",
   "metadata": {},
   "outputs": [
    {
     "data": {
      "text/plain": [
       "Order ID         0\n",
       "Order Date       0\n",
       "Customer Name    0\n",
       "City             0\n",
       "Country          0\n",
       "Region           0\n",
       "Segment          0\n",
       "Ship Date        0\n",
       "Ship Mode        0\n",
       "State            0\n",
       "Product Name     0\n",
       "Discount         0\n",
       "Sales            0\n",
       "Profit           0\n",
       "Quantity         0\n",
       "Category         0\n",
       "Sub-Category     0\n",
       "dtype: int64"
      ]
     },
     "execution_count": 12,
     "metadata": {},
     "output_type": "execute_result"
    }
   ],
   "source": [
    "merge_df.isna().sum()"
   ]
  },
  {
   "cell_type": "code",
   "execution_count": 13,
   "id": "011ed423",
   "metadata": {},
   "outputs": [
    {
     "data": {
      "text/plain": [
       "Order ID         4117\n",
       "Order Date       1214\n",
       "Customer Name     792\n",
       "City              999\n",
       "Country            15\n",
       "Region              3\n",
       "Segment             3\n",
       "Ship Date        1311\n",
       "Ship Mode           4\n",
       "State             127\n",
       "Product Name     1810\n",
       "Discount           14\n",
       "Sales            1248\n",
       "Profit            845\n",
       "Quantity           14\n",
       "Category            3\n",
       "Sub-Category       17\n",
       "dtype: int64"
      ]
     },
     "execution_count": 13,
     "metadata": {},
     "output_type": "execute_result"
    }
   ],
   "source": [
    "merge_df.nunique()"
   ]
  },
  {
   "cell_type": "markdown",
   "id": "50c769c8",
   "metadata": {
    "collapsed": true
   },
   "source": [
    "### 6• Check if any column has inf values\n",
    "df.isin('Order ID')"
   ]
  },
  {
   "cell_type": "code",
   "execution_count": 14,
   "id": "b6e09598",
   "metadata": {},
   "outputs": [
    {
     "ename": "TypeError",
     "evalue": "only list-like or dict-like objects are allowed to be passed to DataFrame.isin(), you passed a 'str'",
     "output_type": "error",
     "traceback": [
      "\u001b[1;31m---------------------------------------------------------------------------\u001b[0m",
      "\u001b[1;31mTypeError\u001b[0m                                 Traceback (most recent call last)",
      "\u001b[1;32m~\\AppData\\Local\\Temp\\ipykernel_18440\\4224108976.py\u001b[0m in \u001b[0;36m<module>\u001b[1;34m\u001b[0m\n\u001b[1;32m----> 1\u001b[1;33m \u001b[0mmerge_df\u001b[0m\u001b[1;33m.\u001b[0m\u001b[0misin\u001b[0m\u001b[1;33m(\u001b[0m\u001b[1;34m\"$\"\u001b[0m\u001b[1;33m)\u001b[0m\u001b[1;33m\u001b[0m\u001b[1;33m\u001b[0m\u001b[0m\n\u001b[0m",
      "\u001b[1;32m~\\anaconda3\\lib\\site-packages\\pandas\\core\\frame.py\u001b[0m in \u001b[0;36misin\u001b[1;34m(self, values)\u001b[0m\n\u001b[0;32m  10747\u001b[0m         \u001b[1;32melse\u001b[0m\u001b[1;33m:\u001b[0m\u001b[1;33m\u001b[0m\u001b[1;33m\u001b[0m\u001b[0m\n\u001b[0;32m  10748\u001b[0m             \u001b[1;32mif\u001b[0m \u001b[1;32mnot\u001b[0m \u001b[0mis_list_like\u001b[0m\u001b[1;33m(\u001b[0m\u001b[0mvalues\u001b[0m\u001b[1;33m)\u001b[0m\u001b[1;33m:\u001b[0m\u001b[1;33m\u001b[0m\u001b[1;33m\u001b[0m\u001b[0m\n\u001b[1;32m> 10749\u001b[1;33m                 raise TypeError(\n\u001b[0m\u001b[0;32m  10750\u001b[0m                     \u001b[1;34m\"only list-like or dict-like objects are allowed \"\u001b[0m\u001b[1;33m\u001b[0m\u001b[1;33m\u001b[0m\u001b[0m\n\u001b[0;32m  10751\u001b[0m                     \u001b[1;34m\"to be passed to DataFrame.isin(), \"\u001b[0m\u001b[1;33m\u001b[0m\u001b[1;33m\u001b[0m\u001b[0m\n",
      "\u001b[1;31mTypeError\u001b[0m: only list-like or dict-like objects are allowed to be passed to DataFrame.isin(), you passed a 'str'"
     ]
    }
   ],
   "source": [
    "merge_df.isin(\"$\")"
   ]
  },
  {
   "cell_type": "code",
   "execution_count": null,
   "id": "b8c784e8",
   "metadata": {},
   "outputs": [],
   "source": [
    "a= -np.inf\n",
    "print(a)"
   ]
  },
  {
   "cell_type": "markdown",
   "id": "d8ce7719",
   "metadata": {},
   "source": [
    "### 7• Check in any column has meaningless special characters\n"
   ]
  },
  {
   "cell_type": "code",
   "execution_count": 15,
   "id": "31fb638e",
   "metadata": {},
   "outputs": [],
   "source": [
    "import re"
   ]
  },
  {
   "cell_type": "code",
   "execution_count": 16,
   "id": "f4ae7ab8",
   "metadata": {},
   "outputs": [
    {
     "data": {
      "text/plain": [
       "Index(['Order ID', 'Order Date', 'Customer Name', 'City', 'Country', 'Region',\n",
       "       'Segment', 'Ship Date', 'Ship Mode', 'State', 'Product Name',\n",
       "       'Discount', 'Sales', 'Profit', 'Quantity', 'Category', 'Sub-Category'],\n",
       "      dtype='object')"
      ]
     },
     "execution_count": 16,
     "metadata": {},
     "output_type": "execute_result"
    }
   ],
   "source": [
    "merge_df.columns"
   ]
  },
  {
   "cell_type": "code",
   "execution_count": 17,
   "id": "4b0c9682",
   "metadata": {},
   "outputs": [],
   "source": [
    "check_pattern = re.compile(r\"[^a-zA-Z0-9\\s]\")\n"
   ]
  },
  {
   "cell_type": "code",
   "execution_count": 18,
   "id": "642eef83",
   "metadata": {},
   "outputs": [],
   "source": [
    "def contain_special_character(value):\n",
    "    return bool(check_pattern.search(str(value)))"
   ]
  },
  {
   "cell_type": "code",
   "execution_count": 19,
   "id": "869953ee",
   "metadata": {},
   "outputs": [],
   "source": [
    "def column_check(column_name):\n",
    "    return merge_df[column_name].apply(contain_special_character).sum()"
   ]
  },
  {
   "cell_type": "code",
   "execution_count": 20,
   "id": "11282071",
   "metadata": {},
   "outputs": [
    {
     "name": "stdout",
     "output_type": "stream",
     "text": [
      "Order ID : 8047\n",
      "Order Date : 8047\n",
      "Customer Name : 99\n",
      "City : 523\n",
      "Country : 0\n",
      "Region : 0\n",
      "Segment : 0\n",
      "Ship Date : 8047\n",
      "Ship Mode : 0\n",
      "State : 2957\n",
      "Product Name : 8047\n",
      "Discount : 8047\n",
      "Sales : 0\n",
      "Profit : 1734\n",
      "Quantity : 0\n",
      "Category : 0\n",
      "Sub-Category : 0\n"
     ]
    }
   ],
   "source": [
    "for column in merge_df.columns:\n",
    "    print(column, \":\", column_check(column))"
   ]
  },
  {
   "cell_type": "markdown",
   "id": "0056eddc",
   "metadata": {},
   "source": [
    "### 8• Check if any row is a duplicate"
   ]
  },
  {
   "cell_type": "code",
   "execution_count": 21,
   "id": "29b8621b",
   "metadata": {},
   "outputs": [
    {
     "data": {
      "text/plain": [
       "2"
      ]
     },
     "execution_count": 21,
     "metadata": {},
     "output_type": "execute_result"
    }
   ],
   "source": [
    "merge_df.duplicated().sum()"
   ]
  },
  {
   "cell_type": "code",
   "execution_count": 22,
   "id": "5a4f0517",
   "metadata": {},
   "outputs": [],
   "source": [
    "merge_df.drop_duplicates(inplace=True)"
   ]
  },
  {
   "cell_type": "code",
   "execution_count": 23,
   "id": "9e486ccd",
   "metadata": {},
   "outputs": [
    {
     "data": {
      "text/plain": [
       "0"
      ]
     },
     "execution_count": 23,
     "metadata": {},
     "output_type": "execute_result"
    }
   ],
   "source": [
    "merge_df.duplicated().sum()"
   ]
  },
  {
   "cell_type": "markdown",
   "id": "aeae3697",
   "metadata": {},
   "source": [
    "### 9• Separate categorical and numerical columns"
   ]
  },
  {
   "cell_type": "code",
   "execution_count": 24,
   "id": "e53b281a",
   "metadata": {},
   "outputs": [],
   "source": [
    "cat = merge_df.select_dtypes(include=['object','category'])\n",
    "num = merge_df.select_dtypes(include=['int64'])"
   ]
  },
  {
   "cell_type": "code",
   "execution_count": 25,
   "id": "63335013",
   "metadata": {},
   "outputs": [
    {
     "data": {
      "text/plain": [
       "Index(['Order ID', 'Customer Name', 'City', 'Country', 'Region', 'Segment',\n",
       "       'Ship Mode', 'State', 'Product Name', 'Category', 'Sub-Category'],\n",
       "      dtype='object')"
      ]
     },
     "execution_count": 25,
     "metadata": {},
     "output_type": "execute_result"
    }
   ],
   "source": [
    "cat.columns"
   ]
  },
  {
   "cell_type": "code",
   "execution_count": 26,
   "id": "bda5557f",
   "metadata": {},
   "outputs": [
    {
     "data": {
      "text/plain": [
       "Index(['Sales', 'Profit', 'Quantity'], dtype='object')"
      ]
     },
     "execution_count": 26,
     "metadata": {},
     "output_type": "execute_result"
    }
   ],
   "source": [
    "num.columns"
   ]
  },
  {
   "cell_type": "code",
   "execution_count": 27,
   "id": "5ff260b9",
   "metadata": {},
   "outputs": [
    {
     "name": "stdout",
     "output_type": "stream",
     "text": [
      "Categorical    numerical\n",
      "-------------  -----------\n",
      "Order ID       Sales\n",
      "Customer Name  Profit\n",
      "City           Quantity\n",
      "Country\n",
      "Region\n",
      "Segment\n",
      "Ship Mode\n",
      "State\n",
      "Product Name\n",
      "Category\n",
      "Sub-Category\n"
     ]
    }
   ],
   "source": [
    "from tabulate import tabulate\n",
    "table = [cat,num]\n",
    "print(tabulate({\"categorical\":cat,\n",
    "               \"numerical\":num},headers = ['Categorical','numerical']))"
   ]
  },
  {
   "cell_type": "markdown",
   "id": "8a709673",
   "metadata": {},
   "source": [
    "### 10• Check if the numerical columns have outliers\n"
   ]
  },
  {
   "cell_type": "code",
   "execution_count": 28,
   "id": "35801866",
   "metadata": {},
   "outputs": [
    {
     "data": {
      "text/html": [
       "<div>\n",
       "<style scoped>\n",
       "    .dataframe tbody tr th:only-of-type {\n",
       "        vertical-align: middle;\n",
       "    }\n",
       "\n",
       "    .dataframe tbody tr th {\n",
       "        vertical-align: top;\n",
       "    }\n",
       "\n",
       "    .dataframe thead th {\n",
       "        text-align: right;\n",
       "    }\n",
       "</style>\n",
       "<table border=\"1\" class=\"dataframe\">\n",
       "  <thead>\n",
       "    <tr style=\"text-align: right;\">\n",
       "      <th></th>\n",
       "      <th>Sales</th>\n",
       "      <th>Profit</th>\n",
       "      <th>Quantity</th>\n",
       "    </tr>\n",
       "  </thead>\n",
       "  <tbody>\n",
       "    <tr>\n",
       "      <th>count</th>\n",
       "      <td>8045.000000</td>\n",
       "      <td>8045.000000</td>\n",
       "      <td>8045.000000</td>\n",
       "    </tr>\n",
       "    <tr>\n",
       "      <th>mean</th>\n",
       "      <td>291.903170</td>\n",
       "      <td>35.202237</td>\n",
       "      <td>3.772281</td>\n",
       "    </tr>\n",
       "    <tr>\n",
       "      <th>std</th>\n",
       "      <td>485.258616</td>\n",
       "      <td>178.147747</td>\n",
       "      <td>2.203610</td>\n",
       "    </tr>\n",
       "    <tr>\n",
       "      <th>min</th>\n",
       "      <td>3.000000</td>\n",
       "      <td>-3060.000000</td>\n",
       "      <td>1.000000</td>\n",
       "    </tr>\n",
       "    <tr>\n",
       "      <th>25%</th>\n",
       "      <td>48.000000</td>\n",
       "      <td>1.000000</td>\n",
       "      <td>2.000000</td>\n",
       "    </tr>\n",
       "    <tr>\n",
       "      <th>50%</th>\n",
       "      <td>117.000000</td>\n",
       "      <td>14.000000</td>\n",
       "      <td>3.000000</td>\n",
       "    </tr>\n",
       "    <tr>\n",
       "      <th>75%</th>\n",
       "      <td>313.000000</td>\n",
       "      <td>47.000000</td>\n",
       "      <td>5.000000</td>\n",
       "    </tr>\n",
       "    <tr>\n",
       "      <th>max</th>\n",
       "      <td>6517.000000</td>\n",
       "      <td>2476.000000</td>\n",
       "      <td>14.000000</td>\n",
       "    </tr>\n",
       "  </tbody>\n",
       "</table>\n",
       "</div>"
      ],
      "text/plain": [
       "             Sales       Profit     Quantity\n",
       "count  8045.000000  8045.000000  8045.000000\n",
       "mean    291.903170    35.202237     3.772281\n",
       "std     485.258616   178.147747     2.203610\n",
       "min       3.000000 -3060.000000     1.000000\n",
       "25%      48.000000     1.000000     2.000000\n",
       "50%     117.000000    14.000000     3.000000\n",
       "75%     313.000000    47.000000     5.000000\n",
       "max    6517.000000  2476.000000    14.000000"
      ]
     },
     "execution_count": 28,
     "metadata": {},
     "output_type": "execute_result"
    }
   ],
   "source": [
    "num.describe()"
   ]
  },
  {
   "cell_type": "code",
   "execution_count": 29,
   "id": "d52a64a5",
   "metadata": {},
   "outputs": [
    {
     "name": "stderr",
     "output_type": "stream",
     "text": [
      "C:\\Users\\prabh\\anaconda3\\lib\\site-packages\\seaborn\\_decorators.py:36: FutureWarning: Pass the following variable as a keyword arg: x. From version 0.12, the only valid positional argument will be `data`, and passing other arguments without an explicit keyword will result in an error or misinterpretation.\n",
      "  warnings.warn(\n"
     ]
    },
    {
     "data": {
      "text/plain": [
       "<AxesSubplot:xlabel='Sales'>"
      ]
     },
     "execution_count": 29,
     "metadata": {},
     "output_type": "execute_result"
    },
    {
     "data": {
      "image/png": "[encoded data removed]",
      "text/plain": [
       "<Figure size 640x480 with 1 Axes>"
      ]
     },
     "metadata": {},
     "output_type": "display_data"
    }
   ],
   "source": [
    "sb.boxplot(num['Sales'])"
   ]
  },
  {
   "cell_type": "code",
   "execution_count": 30,
   "id": "08db1cf2",
   "metadata": {},
   "outputs": [
    {
     "name": "stderr",
     "output_type": "stream",
     "text": [
      "C:\\Users\\prabh\\anaconda3\\lib\\site-packages\\seaborn\\_decorators.py:36: FutureWarning: Pass the following variable as a keyword arg: x. From version 0.12, the only valid positional argument will be `data`, and passing other arguments without an explicit keyword will result in an error or misinterpretation.\n",
      "  warnings.warn(\n"
     ]
    },
    {
     "data": {
      "text/plain": [
       "<AxesSubplot:xlabel='Profit'>"
      ]
     },
     "execution_count": 30,
     "metadata": {},
     "output_type": "execute_result"
    },
    {
     "data": {
      "image/png": "[encoded data removed]",
      "text/plain": [
       "<Figure size 640x480 with 1 Axes>"
      ]
     },
     "metadata": {},
     "output_type": "display_data"
    }
   ],
   "source": [
    "sb.boxplot(num['Profit'])"
   ]
  },
  {
   "cell_type": "code",
   "execution_count": 31,
   "id": "53b4cf09",
   "metadata": {},
   "outputs": [
    {
     "name": "stderr",
     "output_type": "stream",
     "text": [
      "C:\\Users\\prabh\\anaconda3\\lib\\site-packages\\seaborn\\_decorators.py:36: FutureWarning: Pass the following variable as a keyword arg: x. From version 0.12, the only valid positional argument will be `data`, and passing other arguments without an explicit keyword will result in an error or misinterpretation.\n",
      "  warnings.warn(\n"
     ]
    },
    {
     "data": {
      "text/plain": [
       "<AxesSubplot:xlabel='Quantity'>"
      ]
     },
     "execution_count": 31,
     "metadata": {},
     "output_type": "execute_result"
    },
    {
     "data": {
      "image/png": "[encoded data removed]",
      "text/plain": [
       "<Figure size 640x480 with 1 Axes>"
      ]
     },
     "metadata": {},
     "output_type": "display_data"
    }
   ],
   "source": [
    "sb.boxenplot (num['Quantity'])"
   ]
  },
  {
   "cell_type": "markdown",
   "id": "f87b647d",
   "metadata": {},
   "source": [
    "### 11.Fill or delete the missing values as required"
   ]
  },
  {
   "cell_type": "code",
   "execution_count": 32,
   "id": "0596d5b1",
   "metadata": {},
   "outputs": [
    {
     "data": {
      "text/plain": [
       "Order ID         0\n",
       "Order Date       0\n",
       "Customer Name    0\n",
       "City             0\n",
       "Country          0\n",
       "Region           0\n",
       "Segment          0\n",
       "Ship Date        0\n",
       "Ship Mode        0\n",
       "State            0\n",
       "Product Name     0\n",
       "Discount         0\n",
       "Sales            0\n",
       "Profit           0\n",
       "Quantity         0\n",
       "Category         0\n",
       "Sub-Category     0\n",
       "dtype: int64"
      ]
     },
     "execution_count": 32,
     "metadata": {},
     "output_type": "execute_result"
    }
   ],
   "source": [
    "merge_df.isnull().sum()\n",
    "# no missing value"
   ]
  },
  {
   "cell_type": "markdown",
   "id": "3cf93cd0",
   "metadata": {},
   "source": [
    "### 12• Clean the columns which have meaningless special characters (for example  might be written in the data unnecessarily, remove # if it is not required)"
   ]
  },
  {
   "cell_type": "code",
   "execution_count": 33,
   "id": "a5e32b5b",
   "metadata": {},
   "outputs": [
    {
     "data": {
      "text/plain": [
       "re.compile(r'[^a-zA-Z0-9\\s]', re.UNICODE)"
      ]
     },
     "execution_count": 33,
     "metadata": {},
     "output_type": "execute_result"
    }
   ],
   "source": [
    "check_pattern"
   ]
  },
  {
   "cell_type": "code",
   "execution_count": 34,
   "id": "3dffdb4c",
   "metadata": {},
   "outputs": [
    {
     "name": "stdout",
     "output_type": "stream",
     "text": [
      "Order ID : 8045\n",
      "Order Date : 8045\n",
      "Customer Name : 99\n",
      "City : 523\n",
      "Country : 0\n",
      "Region : 0\n",
      "Segment : 0\n",
      "Ship Date : 8045\n",
      "Ship Mode : 0\n",
      "State : 2957\n",
      "Product Name : 8045\n",
      "Discount : 8045\n",
      "Sales : 0\n",
      "Profit : 1734\n",
      "Quantity : 0\n",
      "Category : 0\n",
      "Sub-Category : 0\n"
     ]
    }
   ],
   "source": [
    "for column in merge_df.columns:\n",
    "    print(column, \":\", column_check(column))"
   ]
  },
  {
   "cell_type": "code",
   "execution_count": 35,
   "id": "70d4fe19",
   "metadata": {},
   "outputs": [],
   "source": [
    "def clean_spl_char(value):\n",
    "     return re.sub(check_pattern, '', str(value))"
   ]
  },
  {
   "cell_type": "code",
   "execution_count": 36,
   "id": "44ba2c12",
   "metadata": {},
   "outputs": [],
   "source": [
    "final_df = merge_df.copy()"
   ]
  },
  {
   "cell_type": "code",
   "execution_count": 37,
   "id": "8182bdde",
   "metadata": {},
   "outputs": [],
   "source": [
    "merge_df['Customer Name']=merge_df['Customer Name'].apply(clean_spl_char)\n",
    "merge_df['City']=merge_df['City'].apply(clean_spl_char)\n",
    "merge_df['State']=merge_df['State'].apply(clean_spl_char)\n",
    "merge_df['Product Name']=merge_df['Product Name'].apply(clean_spl_char)\n",
    "merge_df['Discount']=merge_df['Discount'].apply(clean_spl_char)\n",
    "merge_df['Profit']=merge_df['Profit'].apply(clean_spl_char)"
   ]
  },
  {
   "cell_type": "code",
   "execution_count": 38,
   "id": "887c6efc",
   "metadata": {},
   "outputs": [
    {
     "name": "stdout",
     "output_type": "stream",
     "text": [
      "Order ID : 8045\n",
      "Order Date : 8045\n",
      "Customer Name : 0\n",
      "City : 0\n",
      "Country : 0\n",
      "Region : 0\n",
      "Segment : 0\n",
      "Ship Date : 8045\n",
      "Ship Mode : 0\n",
      "State : 0\n",
      "Product Name : 0\n",
      "Discount : 0\n",
      "Sales : 0\n",
      "Profit : 0\n",
      "Quantity : 0\n",
      "Category : 0\n",
      "Sub-Category : 0\n"
     ]
    }
   ],
   "source": [
    "for column in merge_df.columns:\n",
    "    print(column, \":\", column_check(column))"
   ]
  },
  {
   "cell_type": "markdown",
   "id": "a4935d08",
   "metadata": {},
   "source": [
    "### 13• Treat the outliers if required"
   ]
  },
  {
   "cell_type": "code",
   "execution_count": 39,
   "id": "a90b4b9a",
   "metadata": {},
   "outputs": [
    {
     "data": {
      "text/plain": [
       "Index(['Sales', 'Profit', 'Quantity'], dtype='object')"
      ]
     },
     "execution_count": 39,
     "metadata": {},
     "output_type": "execute_result"
    }
   ],
   "source": [
    "num.columns"
   ]
  },
  {
   "cell_type": "code",
   "execution_count": 40,
   "id": "f4bd0d7e",
   "metadata": {},
   "outputs": [],
   "source": [
    "def clean_outlayer(txt):\n",
    "    Q1=txt.quantile(0.25)\n",
    "    Q3=txt.quantile(0.75)\n",
    "    IQR = Q3-Q1\n",
    "    global LF,UF\n",
    "    LF = Q1- 1.5 *IQR \n",
    "    UF = Q3+ 1.5 *IQR \n",
    "    Median = txt.median()\n",
    "    return txt.apply(lambda x:Median if x<LF or x>UF else x)\n",
    "# Keep uf lf as global variable so they can use as function also \n",
    "# after the treatment of outlayers \n",
    "# use np.where to check if any row has values greater than uf and less than lf \n"
   ]
  },
  {
   "cell_type": "code",
   "execution_count": 41,
   "id": "e6aebf35",
   "metadata": {},
   "outputs": [],
   "source": [
    "df_clean = num.copy()"
   ]
  },
  {
   "cell_type": "code",
   "execution_count": 42,
   "id": "bd63c97f",
   "metadata": {},
   "outputs": [
    {
     "data": {
      "text/html": [
       "<div>\n",
       "<style scoped>\n",
       "    .dataframe tbody tr th:only-of-type {\n",
       "        vertical-align: middle;\n",
       "    }\n",
       "\n",
       "    .dataframe tbody tr th {\n",
       "        vertical-align: top;\n",
       "    }\n",
       "\n",
       "    .dataframe thead th {\n",
       "        text-align: right;\n",
       "    }\n",
       "</style>\n",
       "<table border=\"1\" class=\"dataframe\">\n",
       "  <thead>\n",
       "    <tr style=\"text-align: right;\">\n",
       "      <th></th>\n",
       "      <th>Sales</th>\n",
       "      <th>Profit</th>\n",
       "      <th>Quantity</th>\n",
       "    </tr>\n",
       "  </thead>\n",
       "  <tbody>\n",
       "    <tr>\n",
       "      <th>0</th>\n",
       "      <td>45.0</td>\n",
       "      <td>-26.0</td>\n",
       "      <td>3.0</td>\n",
       "    </tr>\n",
       "    <tr>\n",
       "      <th>1</th>\n",
       "      <td>117.0</td>\n",
       "      <td>14.0</td>\n",
       "      <td>7.0</td>\n",
       "    </tr>\n",
       "    <tr>\n",
       "      <th>2</th>\n",
       "      <td>140.0</td>\n",
       "      <td>21.0</td>\n",
       "      <td>3.0</td>\n",
       "    </tr>\n",
       "    <tr>\n",
       "      <th>3</th>\n",
       "      <td>27.0</td>\n",
       "      <td>-22.0</td>\n",
       "      <td>2.0</td>\n",
       "    </tr>\n",
       "    <tr>\n",
       "      <th>4</th>\n",
       "      <td>17.0</td>\n",
       "      <td>-1.0</td>\n",
       "      <td>2.0</td>\n",
       "    </tr>\n",
       "    <tr>\n",
       "      <th>...</th>\n",
       "      <td>...</td>\n",
       "      <td>...</td>\n",
       "      <td>...</td>\n",
       "    </tr>\n",
       "    <tr>\n",
       "      <th>8042</th>\n",
       "      <td>289.0</td>\n",
       "      <td>75.0</td>\n",
       "      <td>5.0</td>\n",
       "    </tr>\n",
       "    <tr>\n",
       "      <th>8043</th>\n",
       "      <td>32.0</td>\n",
       "      <td>8.0</td>\n",
       "      <td>5.0</td>\n",
       "    </tr>\n",
       "    <tr>\n",
       "      <th>8044</th>\n",
       "      <td>30.0</td>\n",
       "      <td>-10.0</td>\n",
       "      <td>2.0</td>\n",
       "    </tr>\n",
       "    <tr>\n",
       "      <th>8045</th>\n",
       "      <td>23.0</td>\n",
       "      <td>-6.0</td>\n",
       "      <td>4.0</td>\n",
       "    </tr>\n",
       "    <tr>\n",
       "      <th>8046</th>\n",
       "      <td>108.0</td>\n",
       "      <td>-19.0</td>\n",
       "      <td>3.0</td>\n",
       "    </tr>\n",
       "  </tbody>\n",
       "</table>\n",
       "<p>8045 rows × 3 columns</p>\n",
       "</div>"
      ],
      "text/plain": [
       "      Sales  Profit  Quantity\n",
       "0      45.0   -26.0       3.0\n",
       "1     117.0    14.0       7.0\n",
       "2     140.0    21.0       3.0\n",
       "3      27.0   -22.0       2.0\n",
       "4      17.0    -1.0       2.0\n",
       "...     ...     ...       ...\n",
       "8042  289.0    75.0       5.0\n",
       "8043   32.0     8.0       5.0\n",
       "8044   30.0   -10.0       2.0\n",
       "8045   23.0    -6.0       4.0\n",
       "8046  108.0   -19.0       3.0\n",
       "\n",
       "[8045 rows x 3 columns]"
      ]
     },
     "execution_count": 42,
     "metadata": {},
     "output_type": "execute_result"
    }
   ],
   "source": [
    "df_clean.apply(clean_outlayer)"
   ]
  },
  {
   "cell_type": "code",
   "execution_count": 43,
   "id": "16dc79a8",
   "metadata": {},
   "outputs": [
    {
     "data": {
      "text/html": [
       "<div>\n",
       "<style scoped>\n",
       "    .dataframe tbody tr th:only-of-type {\n",
       "        vertical-align: middle;\n",
       "    }\n",
       "\n",
       "    .dataframe tbody tr th {\n",
       "        vertical-align: top;\n",
       "    }\n",
       "\n",
       "    .dataframe thead th {\n",
       "        text-align: right;\n",
       "    }\n",
       "</style>\n",
       "<table border=\"1\" class=\"dataframe\">\n",
       "  <thead>\n",
       "    <tr style=\"text-align: right;\">\n",
       "      <th></th>\n",
       "      <th>Sales</th>\n",
       "      <th>Profit</th>\n",
       "      <th>Quantity</th>\n",
       "    </tr>\n",
       "  </thead>\n",
       "  <tbody>\n",
       "    <tr>\n",
       "      <th>0</th>\n",
       "      <td>45</td>\n",
       "      <td>-26</td>\n",
       "      <td>3</td>\n",
       "    </tr>\n",
       "    <tr>\n",
       "      <th>1</th>\n",
       "      <td>854</td>\n",
       "      <td>290</td>\n",
       "      <td>7</td>\n",
       "    </tr>\n",
       "    <tr>\n",
       "      <th>2</th>\n",
       "      <td>140</td>\n",
       "      <td>21</td>\n",
       "      <td>3</td>\n",
       "    </tr>\n",
       "    <tr>\n",
       "      <th>3</th>\n",
       "      <td>27</td>\n",
       "      <td>-22</td>\n",
       "      <td>2</td>\n",
       "    </tr>\n",
       "    <tr>\n",
       "      <th>4</th>\n",
       "      <td>17</td>\n",
       "      <td>-1</td>\n",
       "      <td>2</td>\n",
       "    </tr>\n",
       "    <tr>\n",
       "      <th>...</th>\n",
       "      <td>...</td>\n",
       "      <td>...</td>\n",
       "      <td>...</td>\n",
       "    </tr>\n",
       "    <tr>\n",
       "      <th>8042</th>\n",
       "      <td>289</td>\n",
       "      <td>75</td>\n",
       "      <td>5</td>\n",
       "    </tr>\n",
       "    <tr>\n",
       "      <th>8043</th>\n",
       "      <td>32</td>\n",
       "      <td>8</td>\n",
       "      <td>5</td>\n",
       "    </tr>\n",
       "    <tr>\n",
       "      <th>8044</th>\n",
       "      <td>30</td>\n",
       "      <td>-10</td>\n",
       "      <td>2</td>\n",
       "    </tr>\n",
       "    <tr>\n",
       "      <th>8045</th>\n",
       "      <td>23</td>\n",
       "      <td>-6</td>\n",
       "      <td>4</td>\n",
       "    </tr>\n",
       "    <tr>\n",
       "      <th>8046</th>\n",
       "      <td>108</td>\n",
       "      <td>-19</td>\n",
       "      <td>3</td>\n",
       "    </tr>\n",
       "  </tbody>\n",
       "</table>\n",
       "<p>8045 rows × 3 columns</p>\n",
       "</div>"
      ],
      "text/plain": [
       "      Sales  Profit  Quantity\n",
       "0        45     -26         3\n",
       "1       854     290         7\n",
       "2       140      21         3\n",
       "3        27     -22         2\n",
       "4        17      -1         2\n",
       "...     ...     ...       ...\n",
       "8042    289      75         5\n",
       "8043     32       8         5\n",
       "8044     30     -10         2\n",
       "8045     23      -6         4\n",
       "8046    108     -19         3\n",
       "\n",
       "[8045 rows x 3 columns]"
      ]
     },
     "execution_count": 43,
     "metadata": {},
     "output_type": "execute_result"
    }
   ],
   "source": [
    "num"
   ]
  },
  {
   "cell_type": "markdown",
   "id": "3b872f19",
   "metadata": {},
   "source": [
    "### 14• Finalize the most important column in the dataset. We can refer to the most crucial column as the Target column."
   ]
  },
  {
   "cell_type": "code",
   "execution_count": null,
   "id": "ee49e471",
   "metadata": {},
   "outputs": [],
   "source": []
  },
  {
   "cell_type": "markdown",
   "id": "1f07e137",
   "metadata": {},
   "source": [
    "### 15• Display distribution of all numerical columns"
   ]
  },
  {
   "cell_type": "code",
   "execution_count": 44,
   "id": "665f2c1d",
   "metadata": {},
   "outputs": [
    {
     "data": {
      "text/plain": [
       "<seaborn.axisgrid.FacetGrid at 0x1e74e670c10>"
      ]
     },
     "execution_count": 44,
     "metadata": {},
     "output_type": "execute_result"
    },
    {
     "data": {
      "image/png": "[encoded data removed]",
      "text/plain": [
       "<Figure size 500x500 with 1 Axes>"
      ]
     },
     "metadata": {},
     "output_type": "display_data"
    }
   ],
   "source": [
    "sb.displot(df_clean['Sales'])"
   ]
  },
  {
   "cell_type": "code",
   "execution_count": 45,
   "id": "7a484feb",
   "metadata": {},
   "outputs": [
    {
     "data": {
      "text/plain": [
       "<AxesSubplot:xlabel='Profit', ylabel='Count'>"
      ]
     },
     "execution_count": 45,
     "metadata": {},
     "output_type": "execute_result"
    },
    {
     "data": {
      "image/png": "[encoded data removed]",
      "text/plain": [
       "<Figure size 640x480 with 1 Axes>"
      ]
     },
     "metadata": {},
     "output_type": "display_data"
    }
   ],
   "source": [
    "sb.histplot(df_clean['Profit'])"
   ]
  },
  {
   "cell_type": "code",
   "execution_count": 46,
   "id": "39630f12",
   "metadata": {},
   "outputs": [
    {
     "data": {
      "text/plain": [
       "<AxesSubplot:xlabel='Quantity', ylabel='Count'>"
      ]
     },
     "execution_count": 46,
     "metadata": {},
     "output_type": "execute_result"
    },
    {
     "data": {
      "image/png": "[encoded data removed]",
      "text/plain": [
       "<Figure size 640x480 with 1 Axes>"
      ]
     },
     "metadata": {},
     "output_type": "display_data"
    }
   ],
   "source": [
    "sb.histplot(df_clean['Quantity'])"
   ]
  },
  {
   "cell_type": "markdown",
   "id": "65f16d36",
   "metadata": {},
   "source": [
    "### 16• Display the ratio of unique values in all categorical columns"
   ]
  },
  {
   "cell_type": "code",
   "execution_count": 47,
   "id": "6f660acf",
   "metadata": {},
   "outputs": [
    {
     "data": {
      "text/plain": [
       "Order ID         4117\n",
       "Order Date       1214\n",
       "Customer Name     792\n",
       "City              999\n",
       "Country            15\n",
       "Region              3\n",
       "Segment             3\n",
       "Ship Date        1311\n",
       "Ship Mode           4\n",
       "State             127\n",
       "Product Name     1810\n",
       "Discount           14\n",
       "Sales            1248\n",
       "Profit            582\n",
       "Quantity           14\n",
       "Category            3\n",
       "Sub-Category       17\n",
       "dtype: int64"
      ]
     },
     "execution_count": 47,
     "metadata": {},
     "output_type": "execute_result"
    }
   ],
   "source": [
    "merge_df.nunique()"
   ]
  },
  {
   "cell_type": "code",
   "execution_count": 48,
   "id": "39d77abf",
   "metadata": {},
   "outputs": [
    {
     "data": {
      "text/plain": [
       "Order ID         4117\n",
       "Customer Name     792\n",
       "City              999\n",
       "Country            15\n",
       "Region              3\n",
       "Segment             3\n",
       "Ship Mode           4\n",
       "State             127\n",
       "Product Name     1810\n",
       "Category            3\n",
       "Sub-Category       17\n",
       "dtype: int64"
      ]
     },
     "execution_count": 48,
     "metadata": {},
     "output_type": "execute_result"
    }
   ],
   "source": [
    "cat.nunique()"
   ]
  },
  {
   "cell_type": "code",
   "execution_count": 59,
   "id": "b7276213",
   "metadata": {},
   "outputs": [
    {
     "data": {
      "text/plain": [
       "['Sweden',\n",
       " 'United Kingdom',\n",
       " 'France',\n",
       " 'Italy',\n",
       " 'Austria',\n",
       " 'Spain',\n",
       " 'Germany',\n",
       " 'Netherlands',\n",
       " 'Denmark',\n",
       " 'Belgium',\n",
       " 'Norway',\n",
       " 'Portugal',\n",
       " 'Switzerland',\n",
       " 'Ireland',\n",
       " 'Finland']"
      ]
     },
     "execution_count": 59,
     "metadata": {},
     "output_type": "execute_result"
    }
   ],
   "source": [
    "lable = list(cat['Country'].unique())\n",
    "lable"
   ]
  },
  {
   "cell_type": "code",
   "execution_count": 60,
   "id": "46d03efc",
   "metadata": {},
   "outputs": [
    {
     "data": {
      "image/png": "[encoded data removed]",
      "text/plain": [
       "<Figure size 640x480 with 1 Axes>"
      ]
     },
     "metadata": {},
     "output_type": "display_data"
    }
   ],
   "source": [
    "plt.pie(cat['Country'].value_counts(),labels=lable);"
   ]
  },
  {
   "cell_type": "markdown",
   "id": "d710a7c5",
   "metadata": {},
   "source": [
    "### 17• Find insights from univariate analysis - Apart from the most import column, find out which other columns are critical for our analysis"
   ]
  },
  {
   "cell_type": "markdown",
   "id": "f24905cc",
   "metadata": {},
   "source": [
    "## User defined functions for level 1 analysis of categorical columns\n",
    "This function will check for the following:\n",
    "\n",
    "* unique values\n",
    "* mode\n",
    "* sum of all the null values\n",
    "* Total count of missing values"
   ]
  },
  {
   "cell_type": "code",
   "execution_count": 63,
   "id": "0f49fc36",
   "metadata": {},
   "outputs": [
    {
     "data": {
      "text/plain": [
       "Index(['Order ID', 'Customer Name', 'City', 'Country', 'Region', 'Segment',\n",
       "       'Ship Mode', 'State', 'Product Name', 'Category', 'Sub-Category'],\n",
       "      dtype='object')"
      ]
     },
     "execution_count": 63,
     "metadata": {},
     "output_type": "execute_result"
    }
   ],
   "source": [
    "cat.columns"
   ]
  },
  {
   "cell_type": "code",
   "execution_count": 65,
   "id": "54d83137",
   "metadata": {},
   "outputs": [
    {
     "data": {
      "text/plain": [
       "Index(['Sales', 'Profit', 'Quantity'], dtype='object')"
      ]
     },
     "execution_count": 65,
     "metadata": {},
     "output_type": "execute_result"
    }
   ],
   "source": [
    "num.columns"
   ]
  },
  {
   "cell_type": "code",
   "execution_count": 75,
   "id": "515240f0",
   "metadata": {},
   "outputs": [],
   "source": [
    "def info(col):\n",
    "    print(f\"Unique value in {col} are :{cat[col].nunique()}\")\n",
    "    print(f\"Mode of col is {col} is : {cat[col].mode()[0]}\")\n",
    "    print(f\"Total num of missing value in {col} is: {cat[col].isnull().sum()}\")"
   ]
  },
  {
   "cell_type": "code",
   "execution_count": 76,
   "id": "ca2ee440",
   "metadata": {},
   "outputs": [
    {
     "name": "stdout",
     "output_type": "stream",
     "text": [
      "Unique value in City are :999\n",
      "Mode of col is City is : London\n",
      "Total num of missing value in City is: 0\n"
     ]
    }
   ],
   "source": [
    "info('City')"
   ]
  },
  {
   "cell_type": "code",
   "execution_count": 111,
   "id": "67294798",
   "metadata": {},
   "outputs": [
    {
     "data": {
      "text/plain": [
       "['London', 'Vienna', 'Berlin', 'Madrid', 'Stockholm']"
      ]
     },
     "execution_count": 111,
     "metadata": {},
     "output_type": "execute_result"
    }
   ],
   "source": [
    "top_city"
   ]
  },
  {
   "cell_type": "code",
   "execution_count": 115,
   "id": "e2e76c49",
   "metadata": {},
   "outputs": [
    {
     "data": {
      "text/plain": [
       "<AxesSubplot:xlabel='City', ylabel='count'>"
      ]
     },
     "execution_count": 115,
     "metadata": {},
     "output_type": "execute_result"
    },
    {
     "data": {
      "image/png": "[encoded data removed]",
      "text/plain": [
       "<Figure size 640x480 with 1 Axes>"
      ]
     },
     "metadata": {},
     "output_type": "display_data"
    }
   ],
   "source": [
    "top_city = list(cat['City'].value_counts().head().index)\n",
    "sb.countplot(x='City', data=cat[cat['City'].isin(top_city)], order=top_city)"
   ]
  },
  {
   "cell_type": "code",
   "execution_count": 116,
   "id": "1858fe73",
   "metadata": {},
   "outputs": [
    {
     "name": "stdout",
     "output_type": "stream",
     "text": [
      "Unique value in Country are :15\n",
      "Mode of col is Country is : France\n",
      "Total num of missing value in Country is: 0\n"
     ]
    }
   ],
   "source": [
    "info('Country')"
   ]
  },
  {
   "cell_type": "code",
   "execution_count": 117,
   "id": "a439c1d3",
   "metadata": {},
   "outputs": [
    {
     "name": "stdout",
     "output_type": "stream",
     "text": [
      "Unique value in Region are :3\n",
      "Mode of col is Region is : Central\n",
      "Total num of missing value in Region is: 0\n"
     ]
    }
   ],
   "source": [
    "info('Region')"
   ]
  },
  {
   "cell_type": "code",
   "execution_count": 118,
   "id": "df6ffa0a",
   "metadata": {},
   "outputs": [
    {
     "name": "stdout",
     "output_type": "stream",
     "text": [
      "Unique value in Segment are :3\n",
      "Mode of col is Segment is : Consumer\n",
      "Total num of missing value in Segment is: 0\n"
     ]
    }
   ],
   "source": [
    "info('Segment')"
   ]
  },
  {
   "cell_type": "code",
   "execution_count": 119,
   "id": "90420d36",
   "metadata": {},
   "outputs": [
    {
     "name": "stdout",
     "output_type": "stream",
     "text": [
      "Unique value in Ship Mode are :4\n",
      "Mode of col is Ship Mode is : Economy\n",
      "Total num of missing value in Ship Mode is: 0\n"
     ]
    }
   ],
   "source": [
    "info('Ship Mode')"
   ]
  },
  {
   "cell_type": "code",
   "execution_count": 121,
   "id": "fce34635",
   "metadata": {},
   "outputs": [
    {
     "name": "stdout",
     "output_type": "stream",
     "text": [
      "Unique value in State are :127\n",
      "Mode of col is State is : England\n",
      "Total num of missing value in State is: 0\n"
     ]
    }
   ],
   "source": [
    "info('State')"
   ]
  },
  {
   "cell_type": "code",
   "execution_count": 122,
   "id": "06d70030",
   "metadata": {},
   "outputs": [
    {
     "name": "stdout",
     "output_type": "stream",
     "text": [
      "Unique value in Category are :3\n",
      "Mode of col is Category is : Office Supplies\n",
      "Total num of missing value in Category is: 0\n"
     ]
    }
   ],
   "source": [
    "info('Category')"
   ]
  },
  {
   "cell_type": "code",
   "execution_count": 127,
   "id": "4f6cf6e4",
   "metadata": {},
   "outputs": [
    {
     "name": "stdout",
     "output_type": "stream",
     "text": [
      "Unique value in Sub-Category are :17\n",
      "Mode of col is Sub-Category is : Art\n",
      "Total num of missing value in Sub-Category is: 0\n"
     ]
    }
   ],
   "source": [
    "info('Sub-Category')"
   ]
  },
  {
   "cell_type": "markdown",
   "id": "af158ebe",
   "metadata": {},
   "source": [
    "### 18• Perform bivariate analysis on Target column with respect to all other columns."
   ]
  },
  {
   "cell_type": "code",
   "execution_count": 130,
   "id": "a5be2367",
   "metadata": {},
   "outputs": [
    {
     "data": {
      "text/plain": [
       "Index(['Order ID', 'Order Date', 'Customer Name', 'City', 'Country', 'Region',\n",
       "       'Segment', 'Ship Date', 'Ship Mode', 'State', 'Product Name',\n",
       "       'Discount', 'Sales', 'Profit', 'Quantity', 'Category', 'Sub-Category'],\n",
       "      dtype='object')"
      ]
     },
     "execution_count": 130,
     "metadata": {},
     "output_type": "execute_result"
    }
   ],
   "source": [
    "merge_df.columns"
   ]
  },
  {
   "cell_type": "code",
   "execution_count": null,
   "id": "b268f3ed",
   "metadata": {},
   "outputs": [],
   "source": []
  }
 ],
 "metadata": {
  "kernelspec": {
   "display_name": "Python 3 (ipykernel)",
   "language": "python",
   "name": "python3"
  },
  "language_info": {
   "codemirror_mode": {
    "name": "ipython",
    "version": 3
   },
   "file_extension": ".py",
   "mimetype": "text/x-python",
   "name": "python",
   "nbconvert_exporter": "python",
   "pygments_lexer": "ipython3",
   "version": "3.9.13"
  }
 },
 "nbformat": 4,
 "nbformat_minor": 5
}
