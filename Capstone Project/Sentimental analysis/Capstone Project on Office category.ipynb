{
 "cells": [
  {
   "cell_type": "markdown",
   "id": "3e57f5ab",
   "metadata": {},
   "source": [
    "# Capston Project"
   ]
  },
  {
   "cell_type": "markdown",
   "id": "893949b5",
   "metadata": {},
   "source": [
    "### This Jupyter notebook consits of:\n",
    "- Data Preprocessing And EDA\n",
    "- Sentimental Analysis\n",
    "- Text Classification\n",
    "- Clustering"
   ]
  },
  {
   "cell_type": "markdown",
   "id": "81448aaf",
   "metadata": {},
   "source": [
    "# Sentimental Analysis"
   ]
  },
  {
   "cell_type": "markdown",
   "id": "cfb25521",
   "metadata": {},
   "source": [
    "## Data Loading and Preprocessing:\n",
    "- The code starts by importing necessary libraries and loading the dataset.\n",
    "- Two JSON files are loaded: one containing metadata about office products and the other containing reviews.\n",
    "- The datasets are merged based on a common identifier 'asin'.\n",
    "- Data cleaning steps involve handling null values and converting data types."
   ]
  },
  {
   "cell_type": "code",
   "execution_count": 1,
   "id": "a6a9b742",
   "metadata": {},
   "outputs": [],
   "source": [
    "import numpy as np               # for numerical calculation\n",
    "import seaborn as sb             # for visualization\n",
    "import pandas as pd              # for data analysis\n",
    "import matplotlib.pyplot as plt  # for visualization\n",
    "import warnings\n",
    "warnings.filterwarnings('ignore')# to ignore warning message\n",
    "import re # regular expression"
   ]
  },
  {
   "cell_type": "code",
   "execution_count": 2,
   "id": "3bc7b1bd",
   "metadata": {},
   "outputs": [],
   "source": [
    "Of_df=pd.read_json('meta_Office_Products.json.gz',lines=True,nrows=70000) # meta data\n"
   ]
  },
  {
   "cell_type": "code",
   "execution_count": 3,
   "id": "af949ecf",
   "metadata": {},
   "outputs": [
    {
     "data": {
      "text/plain": [
       "category              0\n",
       "tech1                 0\n",
       "description           0\n",
       "fit                   0\n",
       "title                 0\n",
       "also_buy              0\n",
       "tech2                 0\n",
       "brand                 0\n",
       "feature               0\n",
       "rank                  0\n",
       "also_view             0\n",
       "main_cat              0\n",
       "similar_item          0\n",
       "date                  0\n",
       "price                 0\n",
       "asin                  0\n",
       "imageURL              0\n",
       "imageURLHighRes       0\n",
       "details            7147\n",
       "dtype: int64"
      ]
     },
     "execution_count": 3,
     "metadata": {},
     "output_type": "execute_result"
    }
   ],
   "source": [
    "Of_df.isnull().sum() # finding null value"
   ]
  },
  {
   "cell_type": "code",
   "execution_count": 4,
   "id": "f2bcd1ef",
   "metadata": {},
   "outputs": [],
   "source": [
    "Ofrev_df = pd.read_json('Office_Products.json.gz',lines=True,nrows=70000) # review data"
   ]
  },
  {
   "cell_type": "markdown",
   "id": "053285a5",
   "metadata": {},
   "source": [
    "# Data Structure"
   ]
  },
  {
   "cell_type": "code",
   "execution_count": 5,
   "id": "74e8c61b",
   "metadata": {},
   "outputs": [
    {
     "data": {
      "text/plain": [
       "(70000, 19)"
      ]
     },
     "execution_count": 5,
     "metadata": {},
     "output_type": "execute_result"
    }
   ],
   "source": [
    "Of_df.shape # meta"
   ]
  },
  {
   "cell_type": "code",
   "execution_count": 6,
   "id": "440154c1",
   "metadata": {},
   "outputs": [
    {
     "data": {
      "text/plain": [
       "(70000, 12)"
      ]
     },
     "execution_count": 6,
     "metadata": {},
     "output_type": "execute_result"
    }
   ],
   "source": [
    "Ofrev_df.shape # review"
   ]
  },
  {
   "cell_type": "code",
   "execution_count": 7,
   "id": "834ce3c2",
   "metadata": {},
   "outputs": [
    {
     "data": {
      "text/plain": [
       "Index(['category', 'tech1', 'description', 'fit', 'title', 'also_buy', 'tech2',\n",
       "       'brand', 'feature', 'rank', 'also_view', 'main_cat', 'similar_item',\n",
       "       'date', 'price', 'asin', 'imageURL', 'imageURLHighRes', 'details'],\n",
       "      dtype='object')"
      ]
     },
     "execution_count": 7,
     "metadata": {},
     "output_type": "execute_result"
    }
   ],
   "source": [
    "Of_df.columns # meta data columns "
   ]
  },
  {
   "cell_type": "code",
   "execution_count": 8,
   "id": "899aa9bb",
   "metadata": {},
   "outputs": [
    {
     "data": {
      "text/plain": [
       "Index(['overall', 'vote', 'verified', 'reviewTime', 'reviewerID', 'asin',\n",
       "       'style', 'reviewerName', 'reviewText', 'summary', 'unixReviewTime',\n",
       "       'image'],\n",
       "      dtype='object')"
      ]
     },
     "execution_count": 8,
     "metadata": {},
     "output_type": "execute_result"
    }
   ],
   "source": [
    "Ofrev_df.columns # review data columns"
   ]
  },
  {
   "cell_type": "code",
   "execution_count": 9,
   "id": "b2262a0d",
   "metadata": {},
   "outputs": [],
   "source": [
    "df=pd.merge(Of_df,Ofrev_df,on='asin') # merging the dataset"
   ]
  },
  {
   "cell_type": "code",
   "execution_count": 10,
   "id": "9d999745",
   "metadata": {},
   "outputs": [],
   "source": [
    "df.to_csv('cap_office.csv') #converting it into csv file"
   ]
  },
  {
   "cell_type": "code",
   "execution_count": 11,
   "id": "8d50c773",
   "metadata": {},
   "outputs": [
    {
     "data": {
      "text/plain": [
       "(76314, 30)"
      ]
     },
     "execution_count": 11,
     "metadata": {},
     "output_type": "execute_result"
    }
   ],
   "source": [
    "df.shape # size of the dataset"
   ]
  },
  {
   "cell_type": "code",
   "execution_count": 12,
   "id": "7528e9b1",
   "metadata": {},
   "outputs": [
    {
     "data": {
      "text/plain": [
       "Index(['category', 'tech1', 'description', 'fit', 'title', 'also_buy', 'tech2',\n",
       "       'brand', 'feature', 'rank', 'also_view', 'main_cat', 'similar_item',\n",
       "       'date', 'price', 'asin', 'imageURL', 'imageURLHighRes', 'details',\n",
       "       'overall', 'vote', 'verified', 'reviewTime', 'reviewerID', 'style',\n",
       "       'reviewerName', 'reviewText', 'summary', 'unixReviewTime', 'image'],\n",
       "      dtype='object')"
      ]
     },
     "execution_count": 12,
     "metadata": {},
     "output_type": "execute_result"
    }
   ],
   "source": [
    "df.columns #column names"
   ]
  },
  {
   "cell_type": "code",
   "execution_count": 13,
   "id": "c050ed5b",
   "metadata": {},
   "outputs": [
    {
     "data": {
      "text/html": [
       "<div>\n",
       "<style scoped>\n",
       "    .dataframe tbody tr th:only-of-type {\n",
       "        vertical-align: middle;\n",
       "    }\n",
       "\n",
       "    .dataframe tbody tr th {\n",
       "        vertical-align: top;\n",
       "    }\n",
       "\n",
       "    .dataframe thead th {\n",
       "        text-align: right;\n",
       "    }\n",
       "</style>\n",
       "<table border=\"1\" class=\"dataframe\">\n",
       "  <thead>\n",
       "    <tr style=\"text-align: right;\">\n",
       "      <th></th>\n",
       "      <th>category</th>\n",
       "      <th>tech1</th>\n",
       "      <th>description</th>\n",
       "      <th>fit</th>\n",
       "      <th>title</th>\n",
       "      <th>also_buy</th>\n",
       "      <th>tech2</th>\n",
       "      <th>brand</th>\n",
       "      <th>feature</th>\n",
       "      <th>rank</th>\n",
       "      <th>...</th>\n",
       "      <th>vote</th>\n",
       "      <th>verified</th>\n",
       "      <th>reviewTime</th>\n",
       "      <th>reviewerID</th>\n",
       "      <th>style</th>\n",
       "      <th>reviewerName</th>\n",
       "      <th>reviewText</th>\n",
       "      <th>summary</th>\n",
       "      <th>unixReviewTime</th>\n",
       "      <th>image</th>\n",
       "    </tr>\n",
       "  </thead>\n",
       "  <tbody>\n",
       "    <tr>\n",
       "      <th>20513</th>\n",
       "      <td>[Office Products, Office &amp;amp; School Supplies...</td>\n",
       "      <td>class=\"a-keyvalue prodDetTable\" role=\"present...</td>\n",
       "      <td>[Paperblanks Hummingbird Mini Week To View Dia...</td>\n",
       "      <td></td>\n",
       "      <td>Hummingbird - 2016 Paperblanks Weekly Planner ...</td>\n",
       "      <td>[]</td>\n",
       "      <td></td>\n",
       "      <td>FILLBOSS</td>\n",
       "      <td>[]</td>\n",
       "      <td>[&gt;#634,730 in Office Products (See top 100), &gt;...</td>\n",
       "      <td>...</td>\n",
       "      <td>NaN</td>\n",
       "      <td>True</td>\n",
       "      <td>11 8, 2016</td>\n",
       "      <td>A3RDNJHXZYU66X</td>\n",
       "      <td>NaN</td>\n",
       "      <td>Rachelle de Groot</td>\n",
       "      <td>It looks exactly like the picture and it is ve...</td>\n",
       "      <td>It looks exactly like the picture and it very ...</td>\n",
       "      <td>1478563200</td>\n",
       "      <td>NaN</td>\n",
       "    </tr>\n",
       "    <tr>\n",
       "      <th>19487</th>\n",
       "      <td>[Office Products, Office &amp;amp; School Supplies...</td>\n",
       "      <td>class=\"a-keyvalue prodDetTable\" role=\"present...</td>\n",
       "      <td>[The Safavid Storage Box portrays a beautifull...</td>\n",
       "      <td></td>\n",
       "      <td>Safavid Storage Box</td>\n",
       "      <td>[]</td>\n",
       "      <td></td>\n",
       "      <td>Paperblanks Safavid Accordion Box 13\" by 10\" 2\"</td>\n",
       "      <td>[Accordion style expandable file folder, Tradi...</td>\n",
       "      <td>[&gt;#499,489 in Office Products (See top 100), &gt;...</td>\n",
       "      <td>...</td>\n",
       "      <td>NaN</td>\n",
       "      <td>True</td>\n",
       "      <td>01 17, 2016</td>\n",
       "      <td>A1AY076MEP945H</td>\n",
       "      <td>NaN</td>\n",
       "      <td>Rebecca Thompson</td>\n",
       "      <td>Awesome.</td>\n",
       "      <td>Five Stars</td>\n",
       "      <td>1452988800</td>\n",
       "      <td>NaN</td>\n",
       "    </tr>\n",
       "    <tr>\n",
       "      <th>75813</th>\n",
       "      <td>[Office Products, Office Electronics, Calculat...</td>\n",
       "      <td>class=\"a-keyvalue prodDetTable\" role=\"present...</td>\n",
       "      <td>[The HP 12C Financial Calculator features buil...</td>\n",
       "      <td></td>\n",
       "      <td>HP 12C Financial Calculator</td>\n",
       "      <td>[1423208595, 1423218175, 0143116177, B0000CAQ0...</td>\n",
       "      <td></td>\n",
       "      <td>HP</td>\n",
       "      <td>[Calculator with built-in financial functions ...</td>\n",
       "      <td>[&gt;#18,253 in Office Products (See top 100), &gt;#...</td>\n",
       "      <td>...</td>\n",
       "      <td>NaN</td>\n",
       "      <td>True</td>\n",
       "      <td>11 20, 2014</td>\n",
       "      <td>A2T6Y5CHWM176A</td>\n",
       "      <td>NaN</td>\n",
       "      <td>Susan Snow</td>\n",
       "      <td>Got my first HP (11C) in the 80's.  It finally...</td>\n",
       "      <td>I'd say 30+ years is pretty good, and I expect...</td>\n",
       "      <td>1416441600</td>\n",
       "      <td>NaN</td>\n",
       "    </tr>\n",
       "  </tbody>\n",
       "</table>\n",
       "<p>3 rows × 30 columns</p>\n",
       "</div>"
      ],
      "text/plain": [
       "                                                category  \\\n",
       "20513  [Office Products, Office &amp; School Supplies...   \n",
       "19487  [Office Products, Office &amp; School Supplies...   \n",
       "75813  [Office Products, Office Electronics, Calculat...   \n",
       "\n",
       "                                                   tech1  \\\n",
       "20513   class=\"a-keyvalue prodDetTable\" role=\"present...   \n",
       "19487   class=\"a-keyvalue prodDetTable\" role=\"present...   \n",
       "75813   class=\"a-keyvalue prodDetTable\" role=\"present...   \n",
       "\n",
       "                                             description fit  \\\n",
       "20513  [Paperblanks Hummingbird Mini Week To View Dia...       \n",
       "19487  [The Safavid Storage Box portrays a beautifull...       \n",
       "75813  [The HP 12C Financial Calculator features buil...       \n",
       "\n",
       "                                                   title  \\\n",
       "20513  Hummingbird - 2016 Paperblanks Weekly Planner ...   \n",
       "19487                                Safavid Storage Box   \n",
       "75813                        HP 12C Financial Calculator   \n",
       "\n",
       "                                                also_buy tech2  \\\n",
       "20513                                                 []         \n",
       "19487                                                 []         \n",
       "75813  [1423208595, 1423218175, 0143116177, B0000CAQ0...         \n",
       "\n",
       "                                                 brand  \\\n",
       "20513                                         FILLBOSS   \n",
       "19487  Paperblanks Safavid Accordion Box 13\" by 10\" 2\"   \n",
       "75813                                               HP   \n",
       "\n",
       "                                                 feature  \\\n",
       "20513                                                 []   \n",
       "19487  [Accordion style expandable file folder, Tradi...   \n",
       "75813  [Calculator with built-in financial functions ...   \n",
       "\n",
       "                                                    rank  ... vote verified  \\\n",
       "20513  [>#634,730 in Office Products (See top 100), >...  ...  NaN     True   \n",
       "19487  [>#499,489 in Office Products (See top 100), >...  ...  NaN     True   \n",
       "75813  [>#18,253 in Office Products (See top 100), >#...  ...  NaN     True   \n",
       "\n",
       "        reviewTime      reviewerID style       reviewerName  \\\n",
       "20513   11 8, 2016  A3RDNJHXZYU66X   NaN  Rachelle de Groot   \n",
       "19487  01 17, 2016  A1AY076MEP945H   NaN   Rebecca Thompson   \n",
       "75813  11 20, 2014  A2T6Y5CHWM176A   NaN         Susan Snow   \n",
       "\n",
       "                                              reviewText  \\\n",
       "20513  It looks exactly like the picture and it is ve...   \n",
       "19487                                           Awesome.   \n",
       "75813  Got my first HP (11C) in the 80's.  It finally...   \n",
       "\n",
       "                                                 summary unixReviewTime  image  \n",
       "20513  It looks exactly like the picture and it very ...     1478563200    NaN  \n",
       "19487                                         Five Stars     1452988800    NaN  \n",
       "75813  I'd say 30+ years is pretty good, and I expect...     1416441600    NaN  \n",
       "\n",
       "[3 rows x 30 columns]"
      ]
     },
     "execution_count": 13,
     "metadata": {},
     "output_type": "execute_result"
    }
   ],
   "source": [
    "df.sample(3) # 3 sample dataset"
   ]
  },
  {
   "cell_type": "code",
   "execution_count": 14,
   "id": "10db28e5",
   "metadata": {},
   "outputs": [
    {
     "data": {
      "text/plain": [
       "category               0\n",
       "tech1                  0\n",
       "description            0\n",
       "fit                    0\n",
       "title                  0\n",
       "also_buy               0\n",
       "tech2                  0\n",
       "brand                  0\n",
       "feature                0\n",
       "rank                   0\n",
       "also_view              0\n",
       "main_cat               0\n",
       "similar_item           0\n",
       "date                   0\n",
       "price                  0\n",
       "asin                   0\n",
       "imageURL               0\n",
       "imageURLHighRes        0\n",
       "details            48656\n",
       "overall                0\n",
       "vote               63784\n",
       "verified               0\n",
       "reviewTime             0\n",
       "reviewerID             0\n",
       "style              18921\n",
       "reviewerName           8\n",
       "reviewText            48\n",
       "summary               17\n",
       "unixReviewTime         0\n",
       "image              75416\n",
       "dtype: int64"
      ]
     },
     "execution_count": 14,
     "metadata": {},
     "output_type": "execute_result"
    }
   ],
   "source": [
    "df.isnull().sum() # finding null values"
   ]
  },
  {
   "cell_type": "code",
   "execution_count": 15,
   "id": "04469240",
   "metadata": {},
   "outputs": [
    {
     "data": {
      "text/html": [
       "<div>\n",
       "<style scoped>\n",
       "    .dataframe tbody tr th:only-of-type {\n",
       "        vertical-align: middle;\n",
       "    }\n",
       "\n",
       "    .dataframe tbody tr th {\n",
       "        vertical-align: top;\n",
       "    }\n",
       "\n",
       "    .dataframe thead th {\n",
       "        text-align: right;\n",
       "    }\n",
       "</style>\n",
       "<table border=\"1\" class=\"dataframe\">\n",
       "  <thead>\n",
       "    <tr style=\"text-align: right;\">\n",
       "      <th></th>\n",
       "      <th>Unnamed: 0</th>\n",
       "      <th>category</th>\n",
       "      <th>tech1</th>\n",
       "      <th>description</th>\n",
       "      <th>fit</th>\n",
       "      <th>title</th>\n",
       "      <th>also_buy</th>\n",
       "      <th>tech2</th>\n",
       "      <th>brand</th>\n",
       "      <th>feature</th>\n",
       "      <th>...</th>\n",
       "      <th>vote</th>\n",
       "      <th>verified</th>\n",
       "      <th>reviewTime</th>\n",
       "      <th>reviewerID</th>\n",
       "      <th>style</th>\n",
       "      <th>reviewerName</th>\n",
       "      <th>reviewText</th>\n",
       "      <th>summary</th>\n",
       "      <th>unixReviewTime</th>\n",
       "      <th>image</th>\n",
       "    </tr>\n",
       "  </thead>\n",
       "  <tbody>\n",
       "    <tr>\n",
       "      <th>0</th>\n",
       "      <td>0</td>\n",
       "      <td>['Office Products', 'Office &amp; School Supplies'...</td>\n",
       "      <td>class=\"a-keyvalue prodDetTable\" role=\"present...</td>\n",
       "      <td>['Corduroy the bear goes to the launderette wi...</td>\n",
       "      <td>NaN</td>\n",
       "      <td>A Pocket for Corduroy</td>\n",
       "      <td>['0140501738', '0448421917', '0670063428', '04...</td>\n",
       "      <td>NaN</td>\n",
       "      <td>Ingram Book &amp; Distributor</td>\n",
       "      <td>['9780140503524']</td>\n",
       "      <td>...</td>\n",
       "      <td>6.0</td>\n",
       "      <td>False</td>\n",
       "      <td>11 3, 2006</td>\n",
       "      <td>A2WJLOXXIB7NF3</td>\n",
       "      <td>{'Format:': ' Hardcover'}</td>\n",
       "      <td>Brandi D&amp;#039;Angelo</td>\n",
       "      <td>I thought the book was entertaining and cute, ...</td>\n",
       "      <td>Entertaining-but maybe not for young toddlers</td>\n",
       "      <td>1162512000</td>\n",
       "      <td>NaN</td>\n",
       "    </tr>\n",
       "    <tr>\n",
       "      <th>1</th>\n",
       "      <td>1</td>\n",
       "      <td>['Office Products', 'Office &amp; School Supplies'...</td>\n",
       "      <td>class=\"a-keyvalue prodDetTable\" role=\"present...</td>\n",
       "      <td>['Corduroy the bear goes to the launderette wi...</td>\n",
       "      <td>NaN</td>\n",
       "      <td>A Pocket for Corduroy</td>\n",
       "      <td>['0140501738', '0448421917', '0670063428', '04...</td>\n",
       "      <td>NaN</td>\n",
       "      <td>Ingram Book &amp; Distributor</td>\n",
       "      <td>['9780140503524']</td>\n",
       "      <td>...</td>\n",
       "      <td>NaN</td>\n",
       "      <td>False</td>\n",
       "      <td>05 9, 2006</td>\n",
       "      <td>A1RKICUK0GG6VF</td>\n",
       "      <td>{'Format:': ' Hardcover'}</td>\n",
       "      <td>Karen Mallory</td>\n",
       "      <td>This adorable story is an all time favorite fa...</td>\n",
       "      <td>adorable!</td>\n",
       "      <td>1147132800</td>\n",
       "      <td>NaN</td>\n",
       "    </tr>\n",
       "    <tr>\n",
       "      <th>2</th>\n",
       "      <td>2</td>\n",
       "      <td>['Office Products', 'Office &amp; School Supplies'...</td>\n",
       "      <td>class=\"a-keyvalue prodDetTable\" role=\"present...</td>\n",
       "      <td>['Corduroy the bear goes to the launderette wi...</td>\n",
       "      <td>NaN</td>\n",
       "      <td>A Pocket for Corduroy</td>\n",
       "      <td>['0140501738', '0448421917', '0670063428', '04...</td>\n",
       "      <td>NaN</td>\n",
       "      <td>Ingram Book &amp; Distributor</td>\n",
       "      <td>['9780140503524']</td>\n",
       "      <td>...</td>\n",
       "      <td>NaN</td>\n",
       "      <td>False</td>\n",
       "      <td>03 11, 2006</td>\n",
       "      <td>A1QA5E50M398VW</td>\n",
       "      <td>{'Format:': ' Paperback'}</td>\n",
       "      <td>Jennifer Edwards</td>\n",
       "      <td>Lisa's bear Corduroy gets lost in the laundrom...</td>\n",
       "      <td>A sequel to the classic</td>\n",
       "      <td>1142035200</td>\n",
       "      <td>NaN</td>\n",
       "    </tr>\n",
       "    <tr>\n",
       "      <th>3</th>\n",
       "      <td>3</td>\n",
       "      <td>['Office Products', 'Office &amp; School Supplies'...</td>\n",
       "      <td>class=\"a-keyvalue prodDetTable\" role=\"present...</td>\n",
       "      <td>['Corduroy the bear goes to the launderette wi...</td>\n",
       "      <td>NaN</td>\n",
       "      <td>A Pocket for Corduroy</td>\n",
       "      <td>['0140501738', '0448421917', '0670063428', '04...</td>\n",
       "      <td>NaN</td>\n",
       "      <td>Ingram Book &amp; Distributor</td>\n",
       "      <td>['9780140503524']</td>\n",
       "      <td>...</td>\n",
       "      <td>12.0</td>\n",
       "      <td>False</td>\n",
       "      <td>01 24, 2001</td>\n",
       "      <td>A3N0HBW8IP8CZQ</td>\n",
       "      <td>{'Format:': ' Paperback'}</td>\n",
       "      <td>Melissa P. Cooper</td>\n",
       "      <td>In this installment of Corduroy's adventures w...</td>\n",
       "      <td>More adventures with Lisa's very own bear. . .</td>\n",
       "      <td>980294400</td>\n",
       "      <td>NaN</td>\n",
       "    </tr>\n",
       "    <tr>\n",
       "      <th>4</th>\n",
       "      <td>4</td>\n",
       "      <td>['Office Products', 'Office &amp; School Supplies'...</td>\n",
       "      <td>class=\"a-keyvalue prodDetTable\" role=\"present...</td>\n",
       "      <td>['Corduroy the bear goes to the launderette wi...</td>\n",
       "      <td>NaN</td>\n",
       "      <td>A Pocket for Corduroy</td>\n",
       "      <td>['0140501738', '0448421917', '0670063428', '04...</td>\n",
       "      <td>NaN</td>\n",
       "      <td>Ingram Book &amp; Distributor</td>\n",
       "      <td>['9780140503524']</td>\n",
       "      <td>...</td>\n",
       "      <td>65.0</td>\n",
       "      <td>False</td>\n",
       "      <td>07 30, 2000</td>\n",
       "      <td>A1K1JW1C5CUSUZ</td>\n",
       "      <td>{'Format:': ' Paperback'}</td>\n",
       "      <td>Donald Mitchell</td>\n",
       "      <td>Researchers constantly find that reading to ch...</td>\n",
       "      <td>Read to Your Child to Create Bonding and Intel...</td>\n",
       "      <td>964915200</td>\n",
       "      <td>NaN</td>\n",
       "    </tr>\n",
       "  </tbody>\n",
       "</table>\n",
       "<p>5 rows × 31 columns</p>\n",
       "</div>"
      ],
      "text/plain": [
       "   Unnamed: 0                                           category  \\\n",
       "0           0  ['Office Products', 'Office & School Supplies'...   \n",
       "1           1  ['Office Products', 'Office & School Supplies'...   \n",
       "2           2  ['Office Products', 'Office & School Supplies'...   \n",
       "3           3  ['Office Products', 'Office & School Supplies'...   \n",
       "4           4  ['Office Products', 'Office & School Supplies'...   \n",
       "\n",
       "                                               tech1  \\\n",
       "0   class=\"a-keyvalue prodDetTable\" role=\"present...   \n",
       "1   class=\"a-keyvalue prodDetTable\" role=\"present...   \n",
       "2   class=\"a-keyvalue prodDetTable\" role=\"present...   \n",
       "3   class=\"a-keyvalue prodDetTable\" role=\"present...   \n",
       "4   class=\"a-keyvalue prodDetTable\" role=\"present...   \n",
       "\n",
       "                                         description  fit  \\\n",
       "0  ['Corduroy the bear goes to the launderette wi...  NaN   \n",
       "1  ['Corduroy the bear goes to the launderette wi...  NaN   \n",
       "2  ['Corduroy the bear goes to the launderette wi...  NaN   \n",
       "3  ['Corduroy the bear goes to the launderette wi...  NaN   \n",
       "4  ['Corduroy the bear goes to the launderette wi...  NaN   \n",
       "\n",
       "                   title                                           also_buy  \\\n",
       "0  A Pocket for Corduroy  ['0140501738', '0448421917', '0670063428', '04...   \n",
       "1  A Pocket for Corduroy  ['0140501738', '0448421917', '0670063428', '04...   \n",
       "2  A Pocket for Corduroy  ['0140501738', '0448421917', '0670063428', '04...   \n",
       "3  A Pocket for Corduroy  ['0140501738', '0448421917', '0670063428', '04...   \n",
       "4  A Pocket for Corduroy  ['0140501738', '0448421917', '0670063428', '04...   \n",
       "\n",
       "   tech2                      brand            feature  ...  vote verified  \\\n",
       "0    NaN  Ingram Book & Distributor  ['9780140503524']  ...   6.0    False   \n",
       "1    NaN  Ingram Book & Distributor  ['9780140503524']  ...   NaN    False   \n",
       "2    NaN  Ingram Book & Distributor  ['9780140503524']  ...   NaN    False   \n",
       "3    NaN  Ingram Book & Distributor  ['9780140503524']  ...  12.0    False   \n",
       "4    NaN  Ingram Book & Distributor  ['9780140503524']  ...  65.0    False   \n",
       "\n",
       "    reviewTime      reviewerID                      style  \\\n",
       "0   11 3, 2006  A2WJLOXXIB7NF3  {'Format:': ' Hardcover'}   \n",
       "1   05 9, 2006  A1RKICUK0GG6VF  {'Format:': ' Hardcover'}   \n",
       "2  03 11, 2006  A1QA5E50M398VW  {'Format:': ' Paperback'}   \n",
       "3  01 24, 2001  A3N0HBW8IP8CZQ  {'Format:': ' Paperback'}   \n",
       "4  07 30, 2000  A1K1JW1C5CUSUZ  {'Format:': ' Paperback'}   \n",
       "\n",
       "           reviewerName                                         reviewText  \\\n",
       "0  Brandi D&#039;Angelo  I thought the book was entertaining and cute, ...   \n",
       "1         Karen Mallory  This adorable story is an all time favorite fa...   \n",
       "2      Jennifer Edwards  Lisa's bear Corduroy gets lost in the laundrom...   \n",
       "3     Melissa P. Cooper  In this installment of Corduroy's adventures w...   \n",
       "4       Donald Mitchell  Researchers constantly find that reading to ch...   \n",
       "\n",
       "                                             summary unixReviewTime image  \n",
       "0      Entertaining-but maybe not for young toddlers     1162512000   NaN  \n",
       "1                                          adorable!     1147132800   NaN  \n",
       "2                            A sequel to the classic     1142035200   NaN  \n",
       "3     More adventures with Lisa's very own bear. . .      980294400   NaN  \n",
       "4  Read to Your Child to Create Bonding and Intel...      964915200   NaN  \n",
       "\n",
       "[5 rows x 31 columns]"
      ]
     },
     "execution_count": 15,
     "metadata": {},
     "output_type": "execute_result"
    }
   ],
   "source": [
    "df1=pd.read_csv('cap_office.csv')\n",
    "df1.head()"
   ]
  },
  {
   "cell_type": "code",
   "execution_count": 16,
   "id": "ea5cc99b",
   "metadata": {},
   "outputs": [
    {
     "data": {
      "text/plain": [
       "Index(['Unnamed: 0', 'category', 'tech1', 'description', 'fit', 'title',\n",
       "       'also_buy', 'tech2', 'brand', 'feature', 'rank', 'also_view',\n",
       "       'main_cat', 'similar_item', 'date', 'price', 'asin', 'imageURL',\n",
       "       'imageURLHighRes', 'details', 'overall', 'vote', 'verified',\n",
       "       'reviewTime', 'reviewerID', 'style', 'reviewerName', 'reviewText',\n",
       "       'summary', 'unixReviewTime', 'image'],\n",
       "      dtype='object')"
      ]
     },
     "execution_count": 16,
     "metadata": {},
     "output_type": "execute_result"
    }
   ],
   "source": [
    "df1.columns # coloumn names"
   ]
  },
  {
   "cell_type": "code",
   "execution_count": 17,
   "id": "7fee0527",
   "metadata": {},
   "outputs": [
    {
     "data": {
      "text/html": [
       "<div>\n",
       "<style scoped>\n",
       "    .dataframe tbody tr th:only-of-type {\n",
       "        vertical-align: middle;\n",
       "    }\n",
       "\n",
       "    .dataframe tbody tr th {\n",
       "        vertical-align: top;\n",
       "    }\n",
       "\n",
       "    .dataframe thead th {\n",
       "        text-align: right;\n",
       "    }\n",
       "</style>\n",
       "<table border=\"1\" class=\"dataframe\">\n",
       "  <thead>\n",
       "    <tr style=\"text-align: right;\">\n",
       "      <th></th>\n",
       "      <th>category</th>\n",
       "      <th>description</th>\n",
       "      <th>title</th>\n",
       "      <th>brand</th>\n",
       "      <th>date</th>\n",
       "      <th>price</th>\n",
       "      <th>asin</th>\n",
       "      <th>imageURL</th>\n",
       "      <th>overall</th>\n",
       "      <th>verified</th>\n",
       "      <th>reviewTime</th>\n",
       "      <th>reviewText</th>\n",
       "      <th>reviewerID</th>\n",
       "    </tr>\n",
       "  </thead>\n",
       "  <tbody>\n",
       "    <tr>\n",
       "      <th>0</th>\n",
       "      <td>['Office Products', 'Office &amp; School Supplies'...</td>\n",
       "      <td>['Corduroy the bear goes to the launderette wi...</td>\n",
       "      <td>A Pocket for Corduroy</td>\n",
       "      <td>Ingram Book &amp; Distributor</td>\n",
       "      <td>September 14, 2006</td>\n",
       "      <td>$0.95</td>\n",
       "      <td>0140503528</td>\n",
       "      <td>[]</td>\n",
       "      <td>3</td>\n",
       "      <td>False</td>\n",
       "      <td>11 3, 2006</td>\n",
       "      <td>I thought the book was entertaining and cute, ...</td>\n",
       "      <td>A2WJLOXXIB7NF3</td>\n",
       "    </tr>\n",
       "    <tr>\n",
       "      <th>1</th>\n",
       "      <td>['Office Products', 'Office &amp; School Supplies'...</td>\n",
       "      <td>['Corduroy the bear goes to the launderette wi...</td>\n",
       "      <td>A Pocket for Corduroy</td>\n",
       "      <td>Ingram Book &amp; Distributor</td>\n",
       "      <td>September 14, 2006</td>\n",
       "      <td>$0.95</td>\n",
       "      <td>0140503528</td>\n",
       "      <td>[]</td>\n",
       "      <td>5</td>\n",
       "      <td>False</td>\n",
       "      <td>05 9, 2006</td>\n",
       "      <td>This adorable story is an all time favorite fa...</td>\n",
       "      <td>A1RKICUK0GG6VF</td>\n",
       "    </tr>\n",
       "    <tr>\n",
       "      <th>2</th>\n",
       "      <td>['Office Products', 'Office &amp; School Supplies'...</td>\n",
       "      <td>['Corduroy the bear goes to the launderette wi...</td>\n",
       "      <td>A Pocket for Corduroy</td>\n",
       "      <td>Ingram Book &amp; Distributor</td>\n",
       "      <td>September 14, 2006</td>\n",
       "      <td>$0.95</td>\n",
       "      <td>0140503528</td>\n",
       "      <td>[]</td>\n",
       "      <td>5</td>\n",
       "      <td>False</td>\n",
       "      <td>03 11, 2006</td>\n",
       "      <td>Lisa's bear Corduroy gets lost in the laundrom...</td>\n",
       "      <td>A1QA5E50M398VW</td>\n",
       "    </tr>\n",
       "    <tr>\n",
       "      <th>3</th>\n",
       "      <td>['Office Products', 'Office &amp; School Supplies'...</td>\n",
       "      <td>['Corduroy the bear goes to the launderette wi...</td>\n",
       "      <td>A Pocket for Corduroy</td>\n",
       "      <td>Ingram Book &amp; Distributor</td>\n",
       "      <td>September 14, 2006</td>\n",
       "      <td>$0.95</td>\n",
       "      <td>0140503528</td>\n",
       "      <td>[]</td>\n",
       "      <td>5</td>\n",
       "      <td>False</td>\n",
       "      <td>01 24, 2001</td>\n",
       "      <td>In this installment of Corduroy's adventures w...</td>\n",
       "      <td>A3N0HBW8IP8CZQ</td>\n",
       "    </tr>\n",
       "    <tr>\n",
       "      <th>4</th>\n",
       "      <td>['Office Products', 'Office &amp; School Supplies'...</td>\n",
       "      <td>['Corduroy the bear goes to the launderette wi...</td>\n",
       "      <td>A Pocket for Corduroy</td>\n",
       "      <td>Ingram Book &amp; Distributor</td>\n",
       "      <td>September 14, 2006</td>\n",
       "      <td>$0.95</td>\n",
       "      <td>0140503528</td>\n",
       "      <td>[]</td>\n",
       "      <td>5</td>\n",
       "      <td>False</td>\n",
       "      <td>07 30, 2000</td>\n",
       "      <td>Researchers constantly find that reading to ch...</td>\n",
       "      <td>A1K1JW1C5CUSUZ</td>\n",
       "    </tr>\n",
       "  </tbody>\n",
       "</table>\n",
       "</div>"
      ],
      "text/plain": [
       "                                            category  \\\n",
       "0  ['Office Products', 'Office & School Supplies'...   \n",
       "1  ['Office Products', 'Office & School Supplies'...   \n",
       "2  ['Office Products', 'Office & School Supplies'...   \n",
       "3  ['Office Products', 'Office & School Supplies'...   \n",
       "4  ['Office Products', 'Office & School Supplies'...   \n",
       "\n",
       "                                         description                  title  \\\n",
       "0  ['Corduroy the bear goes to the launderette wi...  A Pocket for Corduroy   \n",
       "1  ['Corduroy the bear goes to the launderette wi...  A Pocket for Corduroy   \n",
       "2  ['Corduroy the bear goes to the launderette wi...  A Pocket for Corduroy   \n",
       "3  ['Corduroy the bear goes to the launderette wi...  A Pocket for Corduroy   \n",
       "4  ['Corduroy the bear goes to the launderette wi...  A Pocket for Corduroy   \n",
       "\n",
       "                       brand                date  price        asin imageURL  \\\n",
       "0  Ingram Book & Distributor  September 14, 2006  $0.95  0140503528       []   \n",
       "1  Ingram Book & Distributor  September 14, 2006  $0.95  0140503528       []   \n",
       "2  Ingram Book & Distributor  September 14, 2006  $0.95  0140503528       []   \n",
       "3  Ingram Book & Distributor  September 14, 2006  $0.95  0140503528       []   \n",
       "4  Ingram Book & Distributor  September 14, 2006  $0.95  0140503528       []   \n",
       "\n",
       "   overall  verified   reviewTime  \\\n",
       "0        3     False   11 3, 2006   \n",
       "1        5     False   05 9, 2006   \n",
       "2        5     False  03 11, 2006   \n",
       "3        5     False  01 24, 2001   \n",
       "4        5     False  07 30, 2000   \n",
       "\n",
       "                                          reviewText      reviewerID  \n",
       "0  I thought the book was entertaining and cute, ...  A2WJLOXXIB7NF3  \n",
       "1  This adorable story is an all time favorite fa...  A1RKICUK0GG6VF  \n",
       "2  Lisa's bear Corduroy gets lost in the laundrom...  A1QA5E50M398VW  \n",
       "3  In this installment of Corduroy's adventures w...  A3N0HBW8IP8CZQ  \n",
       "4  Researchers constantly find that reading to ch...  A1K1JW1C5CUSUZ  "
      ]
     },
     "execution_count": 17,
     "metadata": {},
     "output_type": "execute_result"
    }
   ],
   "source": [
    "#df2=df1[['description','title','brand','feature','date','price','asin','overall','verified','reviewTime','reviewerID','reviewText','summary']]\n",
    "df2=df1[['category','description','title','brand','date','price','asin','imageURL','overall','verified','reviewTime','reviewText','reviewerID']]\n",
    "df2.head()"
   ]
  },
  {
   "cell_type": "markdown",
   "id": "09ed95c6",
   "metadata": {},
   "source": [
    "# Data Summary"
   ]
  },
  {
   "cell_type": "code",
   "execution_count": 18,
   "id": "d8c17ffb",
   "metadata": {},
   "outputs": [
    {
     "name": "stdout",
     "output_type": "stream",
     "text": [
      "<class 'pandas.core.frame.DataFrame'>\n",
      "RangeIndex: 76314 entries, 0 to 76313\n",
      "Data columns (total 13 columns):\n",
      " #   Column       Non-Null Count  Dtype \n",
      "---  ------       --------------  ----- \n",
      " 0   category     76314 non-null  object\n",
      " 1   description  76314 non-null  object\n",
      " 2   title        76314 non-null  object\n",
      " 3   brand        74224 non-null  object\n",
      " 4   date         48324 non-null  object\n",
      " 5   price        53245 non-null  object\n",
      " 6   asin         76314 non-null  object\n",
      " 7   imageURL     76314 non-null  object\n",
      " 8   overall      76314 non-null  int64 \n",
      " 9   verified     76314 non-null  bool  \n",
      " 10  reviewTime   76314 non-null  object\n",
      " 11  reviewText   76266 non-null  object\n",
      " 12  reviewerID   76314 non-null  object\n",
      "dtypes: bool(1), int64(1), object(11)\n",
      "memory usage: 7.1+ MB\n"
     ]
    }
   ],
   "source": [
    "df2.info() # dataset information"
   ]
  },
  {
   "cell_type": "markdown",
   "id": "f0420f2f",
   "metadata": {},
   "source": [
    "# Data Cleaning"
   ]
  },
  {
   "cell_type": "code",
   "execution_count": 19,
   "id": "4200286e",
   "metadata": {},
   "outputs": [
    {
     "data": {
      "text/plain": [
       "category           0\n",
       "description        0\n",
       "title              0\n",
       "brand           2090\n",
       "date           27990\n",
       "price          23069\n",
       "asin               0\n",
       "imageURL           0\n",
       "overall            0\n",
       "verified           0\n",
       "reviewTime         0\n",
       "reviewText        48\n",
       "reviewerID         0\n",
       "dtype: int64"
      ]
     },
     "execution_count": 19,
     "metadata": {},
     "output_type": "execute_result"
    }
   ],
   "source": [
    "df2.isnull().sum() # we have few null value have treat them"
   ]
  },
  {
   "cell_type": "code",
   "execution_count": 20,
   "id": "d7b86df2",
   "metadata": {},
   "outputs": [
    {
     "name": "stdout",
     "output_type": "stream",
     "text": [
      "<class 'pandas.core.frame.DataFrame'>\n",
      "RangeIndex: 76314 entries, 0 to 76313\n",
      "Data columns (total 13 columns):\n",
      " #   Column       Non-Null Count  Dtype \n",
      "---  ------       --------------  ----- \n",
      " 0   category     76314 non-null  object\n",
      " 1   description  76314 non-null  object\n",
      " 2   title        76314 non-null  object\n",
      " 3   brand        74224 non-null  object\n",
      " 4   date         48324 non-null  object\n",
      " 5   price        53245 non-null  object\n",
      " 6   asin         76314 non-null  object\n",
      " 7   imageURL     76314 non-null  object\n",
      " 8   overall      76314 non-null  int64 \n",
      " 9   verified     76314 non-null  bool  \n",
      " 10  reviewTime   76314 non-null  object\n",
      " 11  reviewText   76266 non-null  object\n",
      " 12  reviewerID   76314 non-null  object\n",
      "dtypes: bool(1), int64(1), object(11)\n",
      "memory usage: 7.1+ MB\n"
     ]
    }
   ],
   "source": [
    "df2.info() # data information"
   ]
  },
  {
   "cell_type": "code",
   "execution_count": 21,
   "id": "3446ee49",
   "metadata": {},
   "outputs": [],
   "source": [
    "df2.dropna(inplace=True) # droping rows containg null value"
   ]
  },
  {
   "cell_type": "code",
   "execution_count": 22,
   "id": "3fbb3e1a",
   "metadata": {},
   "outputs": [
    {
     "data": {
      "text/plain": [
       "category       0\n",
       "description    0\n",
       "title          0\n",
       "brand          0\n",
       "date           0\n",
       "price          0\n",
       "asin           0\n",
       "imageURL       0\n",
       "overall        0\n",
       "verified       0\n",
       "reviewTime     0\n",
       "reviewText     0\n",
       "reviewerID     0\n",
       "dtype: int64"
      ]
     },
     "execution_count": 22,
     "metadata": {},
     "output_type": "execute_result"
    }
   ],
   "source": [
    "df2.isnull().sum() # checking null values"
   ]
  },
  {
   "cell_type": "code",
   "execution_count": 23,
   "id": "766c8def",
   "metadata": {},
   "outputs": [
    {
     "data": {
      "text/plain": [
       "(36773, 13)"
      ]
     },
     "execution_count": 23,
     "metadata": {},
     "output_type": "execute_result"
    }
   ],
   "source": [
    "df2.shape # size of the dataset"
   ]
  },
  {
   "cell_type": "markdown",
   "id": "9aa5b135",
   "metadata": {},
   "source": [
    "## Feature Engineering\n",
    "- A new column 'Sentimental' is created based on the 'overall' rating of reviews.\n",
    "- Numeric values are extracted from the 'price' column and converted to float."
   ]
  },
  {
   "cell_type": "code",
   "execution_count": 24,
   "id": "24925640",
   "metadata": {},
   "outputs": [],
   "source": [
    "df2['Sentimental']=df2['overall'].apply(lambda x: \"Positive\" if x>4 else (\"Negativel\" if x<3 else \"Neutral\")) #creating new column depends upon review"
   ]
  },
  {
   "cell_type": "code",
   "execution_count": 25,
   "id": "eec70dcf",
   "metadata": {},
   "outputs": [
    {
     "name": "stdout",
     "output_type": "stream",
     "text": [
      "<class 'pandas.core.frame.DataFrame'>\n",
      "Int64Index: 36773 entries, 0 to 76313\n",
      "Data columns (total 14 columns):\n",
      " #   Column       Non-Null Count  Dtype \n",
      "---  ------       --------------  ----- \n",
      " 0   category     36773 non-null  object\n",
      " 1   description  36773 non-null  object\n",
      " 2   title        36773 non-null  object\n",
      " 3   brand        36773 non-null  object\n",
      " 4   date         36773 non-null  object\n",
      " 5   price        36773 non-null  object\n",
      " 6   asin         36773 non-null  object\n",
      " 7   imageURL     36773 non-null  object\n",
      " 8   overall      36773 non-null  int64 \n",
      " 9   verified     36773 non-null  bool  \n",
      " 10  reviewTime   36773 non-null  object\n",
      " 11  reviewText   36773 non-null  object\n",
      " 12  reviewerID   36773 non-null  object\n",
      " 13  Sentimental  36773 non-null  object\n",
      "dtypes: bool(1), int64(1), object(12)\n",
      "memory usage: 4.0+ MB\n"
     ]
    }
   ],
   "source": [
    "df2.info()"
   ]
  },
  {
   "cell_type": "code",
   "execution_count": 26,
   "id": "b4f58f62",
   "metadata": {},
   "outputs": [],
   "source": [
    "df2['price']=df2['price'].replace(r'[^\\d.]','',regex=True)#.astype('float')"
   ]
  },
  {
   "cell_type": "code",
   "execution_count": 27,
   "id": "92990286",
   "metadata": {},
   "outputs": [],
   "source": [
    "num_count=df2['price'].str.count(r'\\d') # filtering data has clear price value"
   ]
  },
  {
   "cell_type": "code",
   "execution_count": 28,
   "id": "3634324f",
   "metadata": {},
   "outputs": [],
   "source": [
    "df3=df2[num_count<=4] # filtered dataset for further analysis"
   ]
  },
  {
   "cell_type": "code",
   "execution_count": 29,
   "id": "472a04bd",
   "metadata": {},
   "outputs": [],
   "source": [
    "# converting data types\n",
    "\n",
    "df3['title']=df3.title.astype('str')\n",
    "df3['brand']=df3.brand.astype('str')\n",
    "\n",
    "df3['price']=df3.price.astype('float')\n",
    "df3['date']=pd.to_datetime(df3['date'])\n"
   ]
  },
  {
   "cell_type": "code",
   "execution_count": 30,
   "id": "13f57e65",
   "metadata": {},
   "outputs": [
    {
     "data": {
      "text/plain": [
       "category       0\n",
       "description    0\n",
       "title          0\n",
       "brand          0\n",
       "date           0\n",
       "price          0\n",
       "asin           0\n",
       "imageURL       0\n",
       "overall        0\n",
       "verified       0\n",
       "reviewTime     0\n",
       "reviewText     0\n",
       "reviewerID     0\n",
       "Sentimental    0\n",
       "dtype: int64"
      ]
     },
     "execution_count": 30,
     "metadata": {},
     "output_type": "execute_result"
    }
   ],
   "source": [
    "df3.isnull().sum() # checking null value"
   ]
  },
  {
   "cell_type": "code",
   "execution_count": 31,
   "id": "f53f5716",
   "metadata": {},
   "outputs": [
    {
     "data": {
      "text/html": [
       "<div>\n",
       "<style scoped>\n",
       "    .dataframe tbody tr th:only-of-type {\n",
       "        vertical-align: middle;\n",
       "    }\n",
       "\n",
       "    .dataframe tbody tr th {\n",
       "        vertical-align: top;\n",
       "    }\n",
       "\n",
       "    .dataframe thead th {\n",
       "        text-align: right;\n",
       "    }\n",
       "</style>\n",
       "<table border=\"1\" class=\"dataframe\">\n",
       "  <thead>\n",
       "    <tr style=\"text-align: right;\">\n",
       "      <th></th>\n",
       "      <th>category</th>\n",
       "      <th>description</th>\n",
       "      <th>title</th>\n",
       "      <th>brand</th>\n",
       "      <th>date</th>\n",
       "      <th>price</th>\n",
       "      <th>asin</th>\n",
       "      <th>imageURL</th>\n",
       "      <th>overall</th>\n",
       "      <th>verified</th>\n",
       "      <th>reviewTime</th>\n",
       "      <th>reviewText</th>\n",
       "      <th>reviewerID</th>\n",
       "      <th>Sentimental</th>\n",
       "    </tr>\n",
       "  </thead>\n",
       "  <tbody>\n",
       "    <tr>\n",
       "      <th>0</th>\n",
       "      <td>['Office Products', 'Office &amp; School Supplies'...</td>\n",
       "      <td>['Corduroy the bear goes to the launderette wi...</td>\n",
       "      <td>A Pocket for Corduroy</td>\n",
       "      <td>Ingram Book &amp; Distributor</td>\n",
       "      <td>2006-09-14</td>\n",
       "      <td>0.95</td>\n",
       "      <td>0140503528</td>\n",
       "      <td>[]</td>\n",
       "      <td>3</td>\n",
       "      <td>False</td>\n",
       "      <td>11 3, 2006</td>\n",
       "      <td>I thought the book was entertaining and cute, ...</td>\n",
       "      <td>A2WJLOXXIB7NF3</td>\n",
       "      <td>Neutral</td>\n",
       "    </tr>\n",
       "    <tr>\n",
       "      <th>1</th>\n",
       "      <td>['Office Products', 'Office &amp; School Supplies'...</td>\n",
       "      <td>['Corduroy the bear goes to the launderette wi...</td>\n",
       "      <td>A Pocket for Corduroy</td>\n",
       "      <td>Ingram Book &amp; Distributor</td>\n",
       "      <td>2006-09-14</td>\n",
       "      <td>0.95</td>\n",
       "      <td>0140503528</td>\n",
       "      <td>[]</td>\n",
       "      <td>5</td>\n",
       "      <td>False</td>\n",
       "      <td>05 9, 2006</td>\n",
       "      <td>This adorable story is an all time favorite fa...</td>\n",
       "      <td>A1RKICUK0GG6VF</td>\n",
       "      <td>Positive</td>\n",
       "    </tr>\n",
       "    <tr>\n",
       "      <th>2</th>\n",
       "      <td>['Office Products', 'Office &amp; School Supplies'...</td>\n",
       "      <td>['Corduroy the bear goes to the launderette wi...</td>\n",
       "      <td>A Pocket for Corduroy</td>\n",
       "      <td>Ingram Book &amp; Distributor</td>\n",
       "      <td>2006-09-14</td>\n",
       "      <td>0.95</td>\n",
       "      <td>0140503528</td>\n",
       "      <td>[]</td>\n",
       "      <td>5</td>\n",
       "      <td>False</td>\n",
       "      <td>03 11, 2006</td>\n",
       "      <td>Lisa's bear Corduroy gets lost in the laundrom...</td>\n",
       "      <td>A1QA5E50M398VW</td>\n",
       "      <td>Positive</td>\n",
       "    </tr>\n",
       "    <tr>\n",
       "      <th>3</th>\n",
       "      <td>['Office Products', 'Office &amp; School Supplies'...</td>\n",
       "      <td>['Corduroy the bear goes to the launderette wi...</td>\n",
       "      <td>A Pocket for Corduroy</td>\n",
       "      <td>Ingram Book &amp; Distributor</td>\n",
       "      <td>2006-09-14</td>\n",
       "      <td>0.95</td>\n",
       "      <td>0140503528</td>\n",
       "      <td>[]</td>\n",
       "      <td>5</td>\n",
       "      <td>False</td>\n",
       "      <td>01 24, 2001</td>\n",
       "      <td>In this installment of Corduroy's adventures w...</td>\n",
       "      <td>A3N0HBW8IP8CZQ</td>\n",
       "      <td>Positive</td>\n",
       "    </tr>\n",
       "    <tr>\n",
       "      <th>4</th>\n",
       "      <td>['Office Products', 'Office &amp; School Supplies'...</td>\n",
       "      <td>['Corduroy the bear goes to the launderette wi...</td>\n",
       "      <td>A Pocket for Corduroy</td>\n",
       "      <td>Ingram Book &amp; Distributor</td>\n",
       "      <td>2006-09-14</td>\n",
       "      <td>0.95</td>\n",
       "      <td>0140503528</td>\n",
       "      <td>[]</td>\n",
       "      <td>5</td>\n",
       "      <td>False</td>\n",
       "      <td>07 30, 2000</td>\n",
       "      <td>Researchers constantly find that reading to ch...</td>\n",
       "      <td>A1K1JW1C5CUSUZ</td>\n",
       "      <td>Positive</td>\n",
       "    </tr>\n",
       "  </tbody>\n",
       "</table>\n",
       "</div>"
      ],
      "text/plain": [
       "                                            category  \\\n",
       "0  ['Office Products', 'Office & School Supplies'...   \n",
       "1  ['Office Products', 'Office & School Supplies'...   \n",
       "2  ['Office Products', 'Office & School Supplies'...   \n",
       "3  ['Office Products', 'Office & School Supplies'...   \n",
       "4  ['Office Products', 'Office & School Supplies'...   \n",
       "\n",
       "                                         description                  title  \\\n",
       "0  ['Corduroy the bear goes to the launderette wi...  A Pocket for Corduroy   \n",
       "1  ['Corduroy the bear goes to the launderette wi...  A Pocket for Corduroy   \n",
       "2  ['Corduroy the bear goes to the launderette wi...  A Pocket for Corduroy   \n",
       "3  ['Corduroy the bear goes to the launderette wi...  A Pocket for Corduroy   \n",
       "4  ['Corduroy the bear goes to the launderette wi...  A Pocket for Corduroy   \n",
       "\n",
       "                       brand       date  price        asin imageURL  overall  \\\n",
       "0  Ingram Book & Distributor 2006-09-14   0.95  0140503528       []        3   \n",
       "1  Ingram Book & Distributor 2006-09-14   0.95  0140503528       []        5   \n",
       "2  Ingram Book & Distributor 2006-09-14   0.95  0140503528       []        5   \n",
       "3  Ingram Book & Distributor 2006-09-14   0.95  0140503528       []        5   \n",
       "4  Ingram Book & Distributor 2006-09-14   0.95  0140503528       []        5   \n",
       "\n",
       "   verified   reviewTime                                         reviewText  \\\n",
       "0     False   11 3, 2006  I thought the book was entertaining and cute, ...   \n",
       "1     False   05 9, 2006  This adorable story is an all time favorite fa...   \n",
       "2     False  03 11, 2006  Lisa's bear Corduroy gets lost in the laundrom...   \n",
       "3     False  01 24, 2001  In this installment of Corduroy's adventures w...   \n",
       "4     False  07 30, 2000  Researchers constantly find that reading to ch...   \n",
       "\n",
       "       reviewerID Sentimental  \n",
       "0  A2WJLOXXIB7NF3     Neutral  \n",
       "1  A1RKICUK0GG6VF    Positive  \n",
       "2  A1QA5E50M398VW    Positive  \n",
       "3  A3N0HBW8IP8CZQ    Positive  \n",
       "4  A1K1JW1C5CUSUZ    Positive  "
      ]
     },
     "execution_count": 31,
     "metadata": {},
     "output_type": "execute_result"
    }
   ],
   "source": [
    "df3.head()"
   ]
  },
  {
   "cell_type": "code",
   "execution_count": 32,
   "id": "e0e58b13",
   "metadata": {},
   "outputs": [
    {
     "name": "stdout",
     "output_type": "stream",
     "text": [
      "<class 'pandas.core.frame.DataFrame'>\n",
      "Int64Index: 33573 entries, 0 to 76313\n",
      "Data columns (total 14 columns):\n",
      " #   Column       Non-Null Count  Dtype         \n",
      "---  ------       --------------  -----         \n",
      " 0   category     33573 non-null  object        \n",
      " 1   description  33573 non-null  object        \n",
      " 2   title        33573 non-null  object        \n",
      " 3   brand        33573 non-null  object        \n",
      " 4   date         33573 non-null  datetime64[ns]\n",
      " 5   price        33573 non-null  float64       \n",
      " 6   asin         33573 non-null  object        \n",
      " 7   imageURL     33573 non-null  object        \n",
      " 8   overall      33573 non-null  int64         \n",
      " 9   verified     33573 non-null  bool          \n",
      " 10  reviewTime   33573 non-null  object        \n",
      " 11  reviewText   33573 non-null  object        \n",
      " 12  reviewerID   33573 non-null  object        \n",
      " 13  Sentimental  33573 non-null  object        \n",
      "dtypes: bool(1), datetime64[ns](1), float64(1), int64(1), object(10)\n",
      "memory usage: 3.6+ MB\n"
     ]
    }
   ],
   "source": [
    "df3.info() # data info after convertion"
   ]
  },
  {
   "cell_type": "code",
   "execution_count": 33,
   "id": "ed99f55e",
   "metadata": {},
   "outputs": [
    {
     "data": {
      "text/plain": [
       "category       0\n",
       "description    0\n",
       "title          0\n",
       "brand          0\n",
       "date           0\n",
       "price          0\n",
       "asin           0\n",
       "imageURL       0\n",
       "overall        0\n",
       "verified       0\n",
       "reviewTime     0\n",
       "reviewText     0\n",
       "reviewerID     0\n",
       "Sentimental    0\n",
       "dtype: int64"
      ]
     },
     "execution_count": 33,
     "metadata": {},
     "output_type": "execute_result"
    }
   ],
   "source": [
    "df3.isnull().sum() # checking null value"
   ]
  },
  {
   "cell_type": "code",
   "execution_count": 35,
   "id": "28308e6e",
   "metadata": {},
   "outputs": [],
   "source": [
    "df3.to_csv('t1.csv') # saving clean data in csv file"
   ]
  },
  {
   "cell_type": "markdown",
   "id": "121b20aa",
   "metadata": {},
   "source": [
    "# Exploratory Data Analysis (EDA):\n",
    "- Data types are separated into categorical and continuous variables.\n",
    "- Univariate and bivariate analysis is performed using visualizations like count plots and pie charts.\n",
    "- **Imbalanced data is handled by sampling.**"
   ]
  },
  {
   "cell_type": "code",
   "execution_count": 36,
   "id": "9d2fec61",
   "metadata": {},
   "outputs": [],
   "source": [
    "def seprate_data_type(df):\n",
    "    cat = []\n",
    "    con = []\n",
    "    for column in df.columns:\n",
    "        if df[column].nunique() <40:\n",
    "            cat.append(column)\n",
    "        else:\n",
    "            con.append(column)\n",
    "    return cat,con"
   ]
  },
  {
   "cell_type": "code",
   "execution_count": 37,
   "id": "5635ae01",
   "metadata": {},
   "outputs": [],
   "source": [
    "cat,con=seprate_data_type(df3)"
   ]
  },
  {
   "cell_type": "code",
   "execution_count": 38,
   "id": "0064030b",
   "metadata": {},
   "outputs": [],
   "source": [
    "from tabulate import tabulate"
   ]
  },
  {
   "cell_type": "code",
   "execution_count": 39,
   "id": "fbe4216b",
   "metadata": {},
   "outputs": [
    {
     "name": "stdout",
     "output_type": "stream",
     "text": [
      "catergorical    continuous\n",
      "--------------  ------------\n",
      "overall         category\n",
      "verified        description\n",
      "Sentimental     title\n",
      "                brand\n",
      "                date\n",
      "                price\n",
      "                asin\n",
      "                imageURL\n",
      "                reviewTime\n",
      "                reviewText\n",
      "                reviewerID\n"
     ]
    }
   ],
   "source": [
    "print(tabulate({\"categorical\":cat,\"continuous\":con},headers = ['catergorical','continuous'])) # spliting data "
   ]
  },
  {
   "cell_type": "markdown",
   "id": "0a6e3305",
   "metadata": {},
   "source": [
    "# Univariant analysis"
   ]
  },
  {
   "cell_type": "code",
   "execution_count": 40,
   "id": "26545bfe",
   "metadata": {},
   "outputs": [],
   "source": [
    "def cat_univariant(col): # user def function for univariant visual\n",
    "    fig,ax = plt.subplots(1,2,figsize=(15,6))\n",
    "    sb.countplot(x=col,ax=ax[0])\n",
    "    plt.pie(col.value_counts(), labels=list(col.value_counts().index),autopct=\"%0.2f%%\");"
   ]
  },
  {
   "cell_type": "code",
   "execution_count": 41,
   "id": "8a64d7e6",
   "metadata": {},
   "outputs": [
    {
     "data": {
      "image/png": "[encoded data removed]",
      "text/plain": [
       "<Figure size 1500x600 with 2 Axes>"
      ]
     },
     "metadata": {},
     "output_type": "display_data"
    }
   ],
   "source": [
    "cat_univariant(df3['overall'])\n",
    "plt.title(\"Review wise count\");"
   ]
  },
  {
   "cell_type": "code",
   "execution_count": 42,
   "id": "2c65555c",
   "metadata": {},
   "outputs": [
    {
     "data": {
      "image/png": "[encoded data removed]",
      "text/plain": [
       "<Figure size 1500x600 with 2 Axes>"
      ]
     },
     "metadata": {},
     "output_type": "display_data"
    }
   ],
   "source": [
    "cat_univariant(df3['verified']) # for verified"
   ]
  },
  {
   "cell_type": "code",
   "execution_count": 43,
   "id": "396cd3e2",
   "metadata": {},
   "outputs": [
    {
     "data": {
      "image/png": "[encoded data removed]",
      "text/plain": [
       "<Figure size 1500x600 with 2 Axes>"
      ]
     },
     "metadata": {},
     "output_type": "display_data"
    }
   ],
   "source": [
    "cat_univariant(df3['Sentimental']) # for sentimental"
   ]
  },
  {
   "cell_type": "markdown",
   "id": "a06668dd",
   "metadata": {},
   "source": [
    "With this visulaization the data is imbalanced"
   ]
  },
  {
   "cell_type": "code",
   "execution_count": 44,
   "id": "170e314c",
   "metadata": {},
   "outputs": [
    {
     "data": {
      "text/plain": [
       "Positive     23989\n",
       "Neutral       6428\n",
       "Negativel     3156\n",
       "Name: Sentimental, dtype: int64"
      ]
     },
     "execution_count": 44,
     "metadata": {},
     "output_type": "execute_result"
    }
   ],
   "source": [
    "df3['Sentimental'].value_counts()"
   ]
  },
  {
   "cell_type": "markdown",
   "id": "4a9d3c8c",
   "metadata": {},
   "source": [
    "# Bi Variant Analysis"
   ]
  },
  {
   "cell_type": "code",
   "execution_count": 45,
   "id": "49fb4fcf",
   "metadata": {},
   "outputs": [
    {
     "data": {
      "text/plain": [
       "<AxesSubplot:xlabel='overall', ylabel='count'>"
      ]
     },
     "execution_count": 45,
     "metadata": {},
     "output_type": "execute_result"
    },
    {
     "data": {
      "image/png": "[encoded data removed]",
      "text/plain": [
       "<Figure size 640x480 with 1 Axes>"
      ]
     },
     "metadata": {},
     "output_type": "display_data"
    }
   ],
   "source": [
    "sb.countplot(df3['overall'],hue=df3['verified'])"
   ]
  },
  {
   "cell_type": "code",
   "execution_count": 46,
   "id": "5f15ac73",
   "metadata": {},
   "outputs": [
    {
     "data": {
      "text/plain": [
       "(33573, 14)"
      ]
     },
     "execution_count": 46,
     "metadata": {},
     "output_type": "execute_result"
    }
   ],
   "source": [
    "df3.shape"
   ]
  },
  {
   "cell_type": "markdown",
   "id": "2d5df6fa",
   "metadata": {},
   "source": [
    "# Handling  imbalance data"
   ]
  },
  {
   "cell_type": "code",
   "execution_count": 47,
   "id": "7196fbbd",
   "metadata": {},
   "outputs": [],
   "source": [
    "pos_sam=df3[df3['Sentimental']=='Positive'].sample(7000)"
   ]
  },
  {
   "cell_type": "code",
   "execution_count": 48,
   "id": "a5f65852",
   "metadata": {},
   "outputs": [],
   "source": [
    "other_sam=df3[df3['Sentimental']!=\"Positive\"]"
   ]
  },
  {
   "cell_type": "code",
   "execution_count": 49,
   "id": "35e0afac",
   "metadata": {},
   "outputs": [],
   "source": [
    "df4=pd.concat([pos_sam,other_sam])"
   ]
  },
  {
   "cell_type": "code",
   "execution_count": 50,
   "id": "00c04695",
   "metadata": {},
   "outputs": [
    {
     "data": {
      "text/plain": [
       "Positive     7000\n",
       "Neutral      6428\n",
       "Negativel    3156\n",
       "Name: Sentimental, dtype: int64"
      ]
     },
     "execution_count": 50,
     "metadata": {},
     "output_type": "execute_result"
    }
   ],
   "source": [
    "df4['Sentimental'].value_counts()"
   ]
  },
  {
   "cell_type": "markdown",
   "id": "84bd07e6",
   "metadata": {},
   "source": [
    "## Sentiment Analysis\n",
    "- Text data preprocessing steps include tokenization, removing stopwords, and lemmatization.\n",
    "- Word frequency analysis, part-of-speech tagging, and named entity recognition (NER) are performed.\n",
    "- The dataset is split into independent and target variables.\n",
    "- TF-IDF vectorization is applied to the text data.\n",
    "- Several classification models like Logistic Regression, Decision Tree, Random Forest, etc., are trained and evaluated.\n",
    "- Model accuracy and performance metrics like confusion matrix and classification report are calculated.\n",
    "- The trained model is saved using Pickle for future use."
   ]
  },
  {
   "cell_type": "markdown",
   "id": "02f5f0d5",
   "metadata": {},
   "source": [
    "**Word Tokenization**"
   ]
  },
  {
   "cell_type": "code",
   "execution_count": 51,
   "id": "5f3c808d",
   "metadata": {},
   "outputs": [],
   "source": [
    "import spacy  # spacy library\n",
    "nlp = spacy.load('en_core_web_sm') # english pipline\n",
    "import string \n",
    "from nltk.corpus import stopwords # to remove stopwords usig nltk\n",
    "import regex # regular expression\n",
    "\n",
    "from sklearn.model_selection import train_test_split # for spliting\n",
    "from sklearn.model_selection import KFold,StratifiedKFold,RepeatedStratifiedKFold,cross_val_score # for accuracy \n",
    "\n",
    "from sklearn.feature_extraction.text import TfidfVectorizer # for vectorization\n",
    "from sklearn.metrics import classification_report,confusion_matrix,accuracy_score # accuracy\n",
    "from sklearn.naive_bayes import MultinomialNB\n",
    "from sklearn.linear_model import LogisticRegression\n",
    "from sklearn.tree import DecisionTreeClassifier\n",
    "from sklearn.ensemble import RandomForestClassifier\n",
    "from sklearn.svm import SVC\n",
    "from sklearn.neighbors import KNeighborsClassifier\n",
    "from sklearn.ensemble import AdaBoostClassifier\n",
    "from sklearn.naive_bayes import GaussianNB\n",
    "from sklearn.ensemble import StackingClassifier\n",
    "\n",
    "from sklearn.multiclass import OneVsRestClassifier # vectorization\n",
    "from sklearn.preprocessing import MultiLabelBinarizer\n"
   ]
  },
  {
   "cell_type": "code",
   "execution_count": 52,
   "id": "bad5b99a",
   "metadata": {},
   "outputs": [],
   "source": [
    "def text_process(text): # cleaning the data\n",
    "    nopunc = [char for char in  text if char not in string.punctuation]\n",
    "    nopunc = ''.join(nopunc)\n",
    "    return [word for word in nopunc.split() if word.lower() not in stopwords.words('english')]"
   ]
  },
  {
   "cell_type": "code",
   "execution_count": 53,
   "id": "271dd63f",
   "metadata": {},
   "outputs": [],
   "source": [
    "def list_to_string(s): # converting list to string\n",
    "    str1 = \" \"\n",
    "    return (str1.join(s))"
   ]
  },
  {
   "cell_type": "code",
   "execution_count": 54,
   "id": "475272b4",
   "metadata": {},
   "outputs": [],
   "source": [
    "df4['clean_review']=df4['reviewText'].apply(text_process) # cleaning data"
   ]
  },
  {
   "cell_type": "code",
   "execution_count": 55,
   "id": "65170dd8",
   "metadata": {},
   "outputs": [],
   "source": [
    "df4['clean_review']=df4['clean_review'].apply(list_to_string) # converting data from list to string"
   ]
  },
  {
   "cell_type": "markdown",
   "id": "79bd32a1",
   "metadata": {},
   "source": [
    "**Lemmatization**"
   ]
  },
  {
   "cell_type": "code",
   "execution_count": 56,
   "id": "b2ceb2ab",
   "metadata": {},
   "outputs": [],
   "source": [
    "def lemmatize_text(text): # converting words to base words\n",
    "    doc = nlp(text)\n",
    "    lemmatize_words = [token.lemma_ for token in doc]\n",
    "    return ' '.join(lemmatize_words)"
   ]
  },
  {
   "cell_type": "code",
   "execution_count": 57,
   "id": "2b77e2f1",
   "metadata": {},
   "outputs": [],
   "source": [
    "df4['Lemmatizedtext']= df4['clean_review'].apply(lemmatize_text)"
   ]
  },
  {
   "cell_type": "code",
   "execution_count": 58,
   "id": "48341d52",
   "metadata": {
    "scrolled": true
   },
   "outputs": [
    {
     "data": {
      "text/plain": [
       "'notebook simply good new color gorgeous pretty simple card plain simple simple cheap they re comparable many brand certainly fit need I d appreciate classy design card intend provide simple professional thank negative slightly small store buy card would keep buy great quality usual happy product week see quite helpfulthe hard partdisciplining take small amount time need successful great purchase  machine home several month work flawlessly would highly recommend do not want need caller ID do not like cumbersome tape Digital answer machine work much well tape counterpart move part thereby reduce chance something break another benefit fact virtually wait message start play someone leave message would recommend machine everyone little book great jot anything 3rd grader use keep ask time update reading sometimes wonder pay attention time book focus book even stop timer want discuss something interest great product Amy Browns calendar must anybody love fine artwork especially faerie artwork '"
      ]
     },
     "execution_count": 58,
     "metadata": {},
     "output_type": "execute_result"
    }
   ],
   "source": [
    "a=\" \".join(df4['Lemmatizedtext'])\n",
    "a[0:1000]"
   ]
  },
  {
   "cell_type": "markdown",
   "id": "20ad40a6",
   "metadata": {},
   "source": [
    "**Word Frequency**"
   ]
  },
  {
   "cell_type": "code",
   "execution_count": 59,
   "id": "5dfaf531",
   "metadata": {},
   "outputs": [
    {
     "data": {
      "text/plain": [
       "[('use', 272),\n",
       " ('love', 254),\n",
       " ('great', 251),\n",
       " ('one', 157),\n",
       " ('good', 132),\n",
       " ('I', 130),\n",
       " ('buy', 129),\n",
       " ('notebook', 125),\n",
       " ('not', 124),\n",
       " ('book', 120)]"
      ]
     },
     "execution_count": 59,
     "metadata": {},
     "output_type": "execute_result"
    }
   ],
   "source": [
    "words = str(a[0:100000])\n",
    "doc = nlp(words)\n",
    "from collections import Counter\n",
    "count = Counter()\n",
    "for token in doc:\n",
    "    count[token.orth_]+=1\n",
    "n= count.most_common(10)\n",
    "n"
   ]
  },
  {
   "cell_type": "code",
   "execution_count": 60,
   "id": "d1449a88",
   "metadata": {},
   "outputs": [
    {
     "data": {
      "text/html": [
       "<div>\n",
       "<style scoped>\n",
       "    .dataframe tbody tr th:only-of-type {\n",
       "        vertical-align: middle;\n",
       "    }\n",
       "\n",
       "    .dataframe tbody tr th {\n",
       "        vertical-align: top;\n",
       "    }\n",
       "\n",
       "    .dataframe thead th {\n",
       "        text-align: right;\n",
       "    }\n",
       "</style>\n",
       "<table border=\"1\" class=\"dataframe\">\n",
       "  <thead>\n",
       "    <tr style=\"text-align: right;\">\n",
       "      <th></th>\n",
       "      <th>letter</th>\n",
       "      <th>Frequency count</th>\n",
       "    </tr>\n",
       "  </thead>\n",
       "  <tbody>\n",
       "    <tr>\n",
       "      <th>0</th>\n",
       "      <td>use</td>\n",
       "      <td>272</td>\n",
       "    </tr>\n",
       "    <tr>\n",
       "      <th>1</th>\n",
       "      <td>love</td>\n",
       "      <td>254</td>\n",
       "    </tr>\n",
       "    <tr>\n",
       "      <th>2</th>\n",
       "      <td>great</td>\n",
       "      <td>251</td>\n",
       "    </tr>\n",
       "    <tr>\n",
       "      <th>3</th>\n",
       "      <td>one</td>\n",
       "      <td>157</td>\n",
       "    </tr>\n",
       "    <tr>\n",
       "      <th>4</th>\n",
       "      <td>good</td>\n",
       "      <td>132</td>\n",
       "    </tr>\n",
       "    <tr>\n",
       "      <th>5</th>\n",
       "      <td>I</td>\n",
       "      <td>130</td>\n",
       "    </tr>\n",
       "    <tr>\n",
       "      <th>6</th>\n",
       "      <td>buy</td>\n",
       "      <td>129</td>\n",
       "    </tr>\n",
       "    <tr>\n",
       "      <th>7</th>\n",
       "      <td>notebook</td>\n",
       "      <td>125</td>\n",
       "    </tr>\n",
       "    <tr>\n",
       "      <th>8</th>\n",
       "      <td>not</td>\n",
       "      <td>124</td>\n",
       "    </tr>\n",
       "    <tr>\n",
       "      <th>9</th>\n",
       "      <td>book</td>\n",
       "      <td>120</td>\n",
       "    </tr>\n",
       "  </tbody>\n",
       "</table>\n",
       "</div>"
      ],
      "text/plain": [
       "     letter  Frequency count\n",
       "0       use              272\n",
       "1      love              254\n",
       "2     great              251\n",
       "3       one              157\n",
       "4      good              132\n",
       "5         I              130\n",
       "6       buy              129\n",
       "7  notebook              125\n",
       "8       not              124\n",
       "9      book              120"
      ]
     },
     "execution_count": 60,
     "metadata": {},
     "output_type": "execute_result"
    }
   ],
   "source": [
    "frequency = pd.DataFrame(n,columns=['letter','Frequency count'])\n",
    "frequency"
   ]
  },
  {
   "cell_type": "code",
   "execution_count": 61,
   "id": "7cab5d89",
   "metadata": {},
   "outputs": [
    {
     "data": {
      "image/png": "[encoded data removed]",
      "text/plain": [
       "<Figure size 640x480 with 1 Axes>"
      ]
     },
     "metadata": {},
     "output_type": "display_data"
    }
   ],
   "source": [
    "plt.bar(x=frequency['letter'],height=frequency['Frequency count'],color='Gold')\n",
    "plt.title(\"Frequency of the words\")\n",
    "plt.xlabel('words')\n",
    "plt.ylabel('Frequecy');"
   ]
  },
  {
   "cell_type": "markdown",
   "id": "49cc82dd",
   "metadata": {},
   "source": [
    "**Part of Speech and Tagging**"
   ]
  },
  {
   "cell_type": "code",
   "execution_count": 128,
   "id": "d1d1a4a7",
   "metadata": {},
   "outputs": [
    {
     "name": "stdout",
     "output_type": "stream",
     "text": [
      "notebook  |  NOUN  |  NN\n",
      "simply  |  ADV  |  RB\n",
      "good  |  ADJ  |  JJ\n",
      "new  |  ADJ  |  JJ\n",
      "color  |  NOUN  |  NN\n",
      "gorgeous  |  ADJ  |  JJ\n",
      "pretty  |  ADJ  |  JJ\n",
      "simple  |  ADJ  |  JJ\n",
      "card  |  NOUN  |  NN\n",
      "plain  |  ADJ  |  JJ\n"
     ]
    }
   ],
   "source": [
    "for token in doc[:10]:\n",
    "    print(token.text,\" | \",token.pos_,\" | \",token.tag_)"
   ]
  },
  {
   "cell_type": "code",
   "execution_count": 63,
   "id": "33c83677",
   "metadata": {},
   "outputs": [
    {
     "name": "stdout",
     "output_type": "stream",
     "text": [
      "count of noun words = 6498\n",
      "count of adv words = 1105\n",
      "count of verb words = 2548\n",
      "count of adp words = 205\n",
      "count of adj words = 2748\n"
     ]
    }
   ],
   "source": [
    "noun = []\n",
    "adv  = []\n",
    "verb = []\n",
    "adp  = []\n",
    "adj  = []\n",
    "\n",
    "for word in doc:\n",
    "    if word.pos_== 'NOUN':\n",
    "        noun.append(word)\n",
    "    if word.pos_== 'ADV':\n",
    "        adv.append(word)\n",
    "    if word.pos_== 'VERB':\n",
    "        verb.append(word)\n",
    "    if word.pos_== 'ADP':\n",
    "        adp.append(word)\n",
    "    if word.pos_== 'ADJ':\n",
    "        adj.append(word)\n",
    "        \n",
    "print(\"count of noun words = {}\".format(len(noun)))\n",
    "print(\"count of adv words = {}\".format(len(adv)))\n",
    "print(\"count of verb words = {}\".format(len(verb)))\n",
    "print(\"count of adp words = {}\".format(len(adp)))\n",
    "print(\"count of adj words = {}\".format(len(adj)))"
   ]
  },
  {
   "cell_type": "code",
   "execution_count": 64,
   "id": "29d779e1",
   "metadata": {},
   "outputs": [],
   "source": [
    "n=len(noun)\n",
    "n_adv=len(adv)\n",
    "n_verb=len(verb)\n",
    "n_adp=len(adp)\n",
    "n_adj=len(adj)"
   ]
  },
  {
   "cell_type": "code",
   "execution_count": 65,
   "id": "75d4969f",
   "metadata": {},
   "outputs": [],
   "source": [
    "grammer=pd.DataFrame([\"noun\",\"adverb\",\"verb\",\"adp\",\"adj\"],columns=['Grammer'])\n",
    "grammer['count']=[n,n_adv,n_verb,n_adp,n_adj]"
   ]
  },
  {
   "cell_type": "code",
   "execution_count": 66,
   "id": "3e2563f4",
   "metadata": {},
   "outputs": [
    {
     "data": {
      "text/html": [
       "<div>\n",
       "<style scoped>\n",
       "    .dataframe tbody tr th:only-of-type {\n",
       "        vertical-align: middle;\n",
       "    }\n",
       "\n",
       "    .dataframe tbody tr th {\n",
       "        vertical-align: top;\n",
       "    }\n",
       "\n",
       "    .dataframe thead th {\n",
       "        text-align: right;\n",
       "    }\n",
       "</style>\n",
       "<table border=\"1\" class=\"dataframe\">\n",
       "  <thead>\n",
       "    <tr style=\"text-align: right;\">\n",
       "      <th></th>\n",
       "      <th>Grammer</th>\n",
       "      <th>count</th>\n",
       "    </tr>\n",
       "  </thead>\n",
       "  <tbody>\n",
       "    <tr>\n",
       "      <th>0</th>\n",
       "      <td>noun</td>\n",
       "      <td>6498</td>\n",
       "    </tr>\n",
       "    <tr>\n",
       "      <th>1</th>\n",
       "      <td>adverb</td>\n",
       "      <td>1105</td>\n",
       "    </tr>\n",
       "    <tr>\n",
       "      <th>2</th>\n",
       "      <td>verb</td>\n",
       "      <td>2548</td>\n",
       "    </tr>\n",
       "    <tr>\n",
       "      <th>3</th>\n",
       "      <td>adp</td>\n",
       "      <td>205</td>\n",
       "    </tr>\n",
       "    <tr>\n",
       "      <th>4</th>\n",
       "      <td>adj</td>\n",
       "      <td>2748</td>\n",
       "    </tr>\n",
       "  </tbody>\n",
       "</table>\n",
       "</div>"
      ],
      "text/plain": [
       "  Grammer  count\n",
       "0    noun   6498\n",
       "1  adverb   1105\n",
       "2    verb   2548\n",
       "3     adp    205\n",
       "4     adj   2748"
      ]
     },
     "execution_count": 66,
     "metadata": {},
     "output_type": "execute_result"
    }
   ],
   "source": [
    "grammer"
   ]
  },
  {
   "cell_type": "code",
   "execution_count": 67,
   "id": "e335abba",
   "metadata": {},
   "outputs": [
    {
     "data": {
      "image/png": "[encoded data removed]",
      "text/plain": [
       "<Figure size 640x480 with 1 Axes>"
      ]
     },
     "metadata": {},
     "output_type": "display_data"
    }
   ],
   "source": [
    "plt.bar(x=grammer['Grammer'],height=grammer['count'],color='Gold')\n",
    "plt.title(\"Part of Speech\")\n",
    "plt.xlabel(\"Pos\")\n",
    "plt.ylabel('Count');"
   ]
  },
  {
   "cell_type": "markdown",
   "id": "7b1f6e0c",
   "metadata": {},
   "source": [
    "**NER**"
   ]
  },
  {
   "cell_type": "code",
   "execution_count": 129,
   "id": "4466aef2",
   "metadata": {},
   "outputs": [
    {
     "name": "stdout",
     "output_type": "stream",
     "text": [
      "several month  |  DATE  |  Absolute or relative dates or periods\n",
      "Digital  |  ORG  |  Companies, agencies, institutions, etc.\n",
      "3rd  |  ORDINAL  |  \"first\", \"second\", etc.\n",
      "Amy Browns  |  PERSON  |  People, including fictional\n",
      "one  |  CARDINAL  |  Numerals that do not fall under another type\n",
      "seven  |  CARDINAL  |  Numerals that do not fall under another type\n",
      "five  |  CARDINAL  |  Numerals that do not fall under another type\n"
     ]
    }
   ],
   "source": [
    "for ent in doc.ents[:7]:\n",
    "    print(ent.text,\" | \",ent.label_,\" | \",spacy.explain(ent.label_))"
   ]
  },
  {
   "cell_type": "code",
   "execution_count": 69,
   "id": "6d89f630",
   "metadata": {},
   "outputs": [
    {
     "data": {
      "text/plain": [
       "(16584, 16)"
      ]
     },
     "execution_count": 69,
     "metadata": {},
     "output_type": "execute_result"
    }
   ],
   "source": [
    "df4.shape"
   ]
  },
  {
   "cell_type": "code",
   "execution_count": 70,
   "id": "cc3d49a2",
   "metadata": {},
   "outputs": [],
   "source": [
    "x=df4.Lemmatizedtext[:50000] # independent variable\n",
    "y=df4.Sentimental[:50000] # target variable"
   ]
  },
  {
   "cell_type": "code",
   "execution_count": 71,
   "id": "be81475e",
   "metadata": {},
   "outputs": [],
   "source": [
    "multilaberl_binarizer = MultiLabelBinarizer()\n",
    "multilaberl_binarizer.fit(y)\n",
    "Y=multilaberl_binarizer.transform(y)"
   ]
  },
  {
   "cell_type": "code",
   "execution_count": 72,
   "id": "e8ded1c5",
   "metadata": {},
   "outputs": [],
   "source": [
    "x_train,x_test,y_train,y_test = train_test_split(x,y,test_size=.3,random_state=47) # splitting dataset into train and test"
   ]
  },
  {
   "cell_type": "code",
   "execution_count": 73,
   "id": "dc1e77d2",
   "metadata": {},
   "outputs": [
    {
     "name": "stdout",
     "output_type": "stream",
     "text": [
      "independent variable train :  11608\n",
      "independent variable test  :  4976\n",
      "dependent variable train :  11608\n",
      "dependent variable test  :  4976\n"
     ]
    }
   ],
   "source": [
    "print(\"independent variable train : \",len(x_train))\n",
    "print(\"independent variable test  : \",len(x_test))\n",
    "print(\"dependent variable train : \", len(y_train))\n",
    "print(\"dependent variable test  : \", len(y_test))"
   ]
  },
  {
   "cell_type": "code",
   "execution_count": 74,
   "id": "9b59cd1f",
   "metadata": {},
   "outputs": [],
   "source": [
    "def vectorization(xtrain,xtest,ytrain,ytest):  # vectorizaiton\n",
    "    global myvector\n",
    "    myvector = TfidfVectorizer()\n",
    "    global myobject\n",
    "    myobject = myvector.fit_transform(xtrain)\n",
    "    global myobject1\n",
    "    myobject1= myvector.transform(xtest)\n",
    "    print(myobject.toarray())\n",
    "    \n",
    "    "
   ]
  },
  {
   "cell_type": "code",
   "execution_count": 75,
   "id": "83db5cda",
   "metadata": {},
   "outputs": [
    {
     "name": "stdout",
     "output_type": "stream",
     "text": [
      "[[0. 0. 0. ... 0. 0. 0.]\n",
      " [0. 0. 0. ... 0. 0. 0.]\n",
      " [0. 0. 0. ... 0. 0. 0.]\n",
      " ...\n",
      " [0. 0. 0. ... 0. 0. 0.]\n",
      " [0. 0. 0. ... 0. 0. 0.]\n",
      " [0. 0. 0. ... 0. 0. 0.]]\n"
     ]
    }
   ],
   "source": [
    "vectorization(x_train,x_test,y_train,y_test)"
   ]
  },
  {
   "cell_type": "code",
   "execution_count": 76,
   "id": "2d47d801",
   "metadata": {},
   "outputs": [],
   "source": [
    "def selecting_model(model):\n",
    "    clf= model()\n",
    "    clf=clf.fit(myobject,y_train)\n",
    "    y_pred=clf.predict(myobject1)\n",
    "    print(classification_report(y_test,y_pred))"
   ]
  },
  {
   "cell_type": "code",
   "execution_count": 77,
   "id": "3579f365",
   "metadata": {},
   "outputs": [],
   "source": [
    "model_log = LogisticRegression()\n",
    "model_dt  = DecisionTreeClassifier()\n",
    "model_rf  = RandomForestClassifier()\n",
    "model_svc = SVC()\n",
    "model_knn = KNeighborsClassifier()\n",
    "model_ada = AdaBoostClassifier()\n",
    "model_nb  = MultinomialNB()"
   ]
  },
  {
   "cell_type": "code",
   "execution_count": 78,
   "id": "1c6c6746",
   "metadata": {},
   "outputs": [],
   "source": [
    "ovr = OneVsRestClassifier(model_log) # it has 3 target variable"
   ]
  },
  {
   "cell_type": "code",
   "execution_count": 79,
   "id": "ecac07df",
   "metadata": {},
   "outputs": [
    {
     "data": {
      "text/plain": [
       "58217     Positive\n",
       "72085     Positive\n",
       "5878       Neutral\n",
       "74693    Negativel\n",
       "57802      Neutral\n",
       "           ...    \n",
       "47140      Neutral\n",
       "12916    Negativel\n",
       "31741      Neutral\n",
       "75161      Neutral\n",
       "71601     Positive\n",
       "Name: Sentimental, Length: 4976, dtype: object"
      ]
     },
     "execution_count": 79,
     "metadata": {},
     "output_type": "execute_result"
    }
   ],
   "source": [
    "y_test"
   ]
  },
  {
   "cell_type": "code",
   "execution_count": 80,
   "id": "e4d2822e",
   "metadata": {},
   "outputs": [
    {
     "name": "stdout",
     "output_type": "stream",
     "text": [
      "              precision    recall  f1-score   support\n",
      "\n",
      "   Negativel       0.76      0.58      0.65       952\n",
      "     Neutral       0.61      0.63      0.62      1908\n",
      "    Positive       0.71      0.78      0.74      2116\n",
      "\n",
      "    accuracy                           0.68      4976\n",
      "   macro avg       0.69      0.66      0.67      4976\n",
      "weighted avg       0.68      0.68      0.68      4976\n",
      "\n",
      "Actual : 58217     Positive\n",
      "72085     Positive\n",
      "5878       Neutral\n",
      "74693    Negativel\n",
      "57802      Neutral\n",
      "           ...    \n",
      "47140      Neutral\n",
      "12916    Negativel\n",
      "31741      Neutral\n",
      "75161      Neutral\n",
      "71601     Positive\n",
      "Name: Sentimental, Length: 4976, dtype: object \n",
      "Predicted : ['Positive' 'Neutral' 'Positive' ... 'Neutral' 'Neutral' 'Positive']\n"
     ]
    }
   ],
   "source": [
    "mod=ovr.fit(myobject,y_train)\n",
    "y_pred = ovr.predict(myobject1)\n",
    "print(classification_report(y_test,y_pred))\n",
    "print(\"Actual :\",y_test,\"\\nPredicted :\",y_pred)"
   ]
  },
  {
   "cell_type": "code",
   "execution_count": 81,
   "id": "ea2ce153",
   "metadata": {},
   "outputs": [
    {
     "data": {
      "text/html": [
       "<div>\n",
       "<style scoped>\n",
       "    .dataframe tbody tr th:only-of-type {\n",
       "        vertical-align: middle;\n",
       "    }\n",
       "\n",
       "    .dataframe tbody tr th {\n",
       "        vertical-align: top;\n",
       "    }\n",
       "\n",
       "    .dataframe thead th {\n",
       "        text-align: right;\n",
       "    }\n",
       "</style>\n",
       "<table border=\"1\" class=\"dataframe\">\n",
       "  <thead>\n",
       "    <tr style=\"text-align: right;\">\n",
       "      <th></th>\n",
       "      <th>Actual :</th>\n",
       "      <th>Predicted</th>\n",
       "    </tr>\n",
       "  </thead>\n",
       "  <tbody>\n",
       "    <tr>\n",
       "      <th>58217</th>\n",
       "      <td>Positive</td>\n",
       "      <td>Positive</td>\n",
       "    </tr>\n",
       "    <tr>\n",
       "      <th>72085</th>\n",
       "      <td>Positive</td>\n",
       "      <td>Neutral</td>\n",
       "    </tr>\n",
       "    <tr>\n",
       "      <th>5878</th>\n",
       "      <td>Neutral</td>\n",
       "      <td>Positive</td>\n",
       "    </tr>\n",
       "    <tr>\n",
       "      <th>74693</th>\n",
       "      <td>Negativel</td>\n",
       "      <td>Neutral</td>\n",
       "    </tr>\n",
       "    <tr>\n",
       "      <th>57802</th>\n",
       "      <td>Neutral</td>\n",
       "      <td>Neutral</td>\n",
       "    </tr>\n",
       "    <tr>\n",
       "      <th>...</th>\n",
       "      <td>...</td>\n",
       "      <td>...</td>\n",
       "    </tr>\n",
       "    <tr>\n",
       "      <th>47140</th>\n",
       "      <td>Neutral</td>\n",
       "      <td>Neutral</td>\n",
       "    </tr>\n",
       "    <tr>\n",
       "      <th>12916</th>\n",
       "      <td>Negativel</td>\n",
       "      <td>Negativel</td>\n",
       "    </tr>\n",
       "    <tr>\n",
       "      <th>31741</th>\n",
       "      <td>Neutral</td>\n",
       "      <td>Neutral</td>\n",
       "    </tr>\n",
       "    <tr>\n",
       "      <th>75161</th>\n",
       "      <td>Neutral</td>\n",
       "      <td>Neutral</td>\n",
       "    </tr>\n",
       "    <tr>\n",
       "      <th>71601</th>\n",
       "      <td>Positive</td>\n",
       "      <td>Positive</td>\n",
       "    </tr>\n",
       "  </tbody>\n",
       "</table>\n",
       "<p>4976 rows × 2 columns</p>\n",
       "</div>"
      ],
      "text/plain": [
       "        Actual :  Predicted\n",
       "58217   Positive   Positive\n",
       "72085   Positive    Neutral\n",
       "5878     Neutral   Positive\n",
       "74693  Negativel    Neutral\n",
       "57802    Neutral    Neutral\n",
       "...          ...        ...\n",
       "47140    Neutral    Neutral\n",
       "12916  Negativel  Negativel\n",
       "31741    Neutral    Neutral\n",
       "75161    Neutral    Neutral\n",
       "71601   Positive   Positive\n",
       "\n",
       "[4976 rows x 2 columns]"
      ]
     },
     "execution_count": 81,
     "metadata": {},
     "output_type": "execute_result"
    }
   ],
   "source": [
    "comp=pd.DataFrame({\"Actual :\":y_test,\"Predicted\":y_pred}) # for comparition\n",
    "comp\n"
   ]
  },
  {
   "cell_type": "markdown",
   "id": "01f7b122",
   "metadata": {},
   "source": [
    "**Accuracy**"
   ]
  },
  {
   "cell_type": "code",
   "execution_count": 82,
   "id": "48c8e055",
   "metadata": {},
   "outputs": [
    {
     "name": "stdout",
     "output_type": "stream",
     "text": [
      "Accuracy of train data : 0.7847174362508614\n",
      "Accuracy of test data  : 0.6806672025723473\n"
     ]
    }
   ],
   "source": [
    "print(\"Accuracy of train data :\",ovr.score(myobject,y_train))\n",
    "print(\"Accuracy of test data  :\",ovr.score(myobject1,y_test))"
   ]
  },
  {
   "cell_type": "markdown",
   "id": "a2879550",
   "metadata": {},
   "source": [
    " **Model Evaluation**"
   ]
  },
  {
   "cell_type": "code",
   "execution_count": 83,
   "id": "19104ee0",
   "metadata": {},
   "outputs": [
    {
     "data": {
      "text/plain": [
       "array([[ 548,  322,   82],\n",
       "       [ 134, 1195,  579],\n",
       "       [  42,  430, 1644]], dtype=int64)"
      ]
     },
     "execution_count": 83,
     "metadata": {},
     "output_type": "execute_result"
    }
   ],
   "source": [
    "confusion_matrix(y_test,y_pred)"
   ]
  },
  {
   "cell_type": "code",
   "execution_count": 84,
   "id": "7cd0dfc9",
   "metadata": {},
   "outputs": [
    {
     "name": "stdout",
     "output_type": "stream",
     "text": [
      "              precision    recall  f1-score   support\n",
      "\n",
      "   Negativel       0.76      0.58      0.65       952\n",
      "     Neutral       0.61      0.63      0.62      1908\n",
      "    Positive       0.71      0.78      0.74      2116\n",
      "\n",
      "    accuracy                           0.68      4976\n",
      "   macro avg       0.69      0.66      0.67      4976\n",
      "weighted avg       0.68      0.68      0.68      4976\n",
      "\n"
     ]
    }
   ],
   "source": [
    "print(classification_report(y_test,y_pred))"
   ]
  },
  {
   "cell_type": "markdown",
   "id": "a0b9eae6",
   "metadata": {},
   "source": [
    "# Prediction on new unseen review text"
   ]
  },
  {
   "cell_type": "code",
   "execution_count": 85,
   "id": "1fce49b1",
   "metadata": {},
   "outputs": [],
   "source": [
    "def new_data(txt):\n",
    "    text = myvector.transform([txt])\n",
    "    return mod.predict(text)"
   ]
  },
  {
   "cell_type": "code",
   "execution_count": 86,
   "id": "643f43ff",
   "metadata": {},
   "outputs": [
    {
     "data": {
      "text/plain": [
       "array(['Positive'], dtype='<U9')"
      ]
     },
     "execution_count": 86,
     "metadata": {},
     "output_type": "execute_result"
    }
   ],
   "source": [
    "new_data(\"Playing baseball is good for one's health\")"
   ]
  },
  {
   "cell_type": "code",
   "execution_count": 87,
   "id": "14b4a850",
   "metadata": {},
   "outputs": [
    {
     "data": {
      "text/plain": [
       "array(['Negativel'], dtype='<U9')"
      ]
     },
     "execution_count": 87,
     "metadata": {},
     "output_type": "execute_result"
    }
   ],
   "source": [
    "new_data('wrong')"
   ]
  },
  {
   "cell_type": "code",
   "execution_count": 88,
   "id": "f541d291",
   "metadata": {},
   "outputs": [
    {
     "data": {
      "text/plain": [
       "array(['Neutral'], dtype='<U9')"
      ]
     },
     "execution_count": 88,
     "metadata": {},
     "output_type": "execute_result"
    }
   ],
   "source": [
    "new_data(\"I thought the book was entertaining and cute, and an introduction to what goes on at a laundromat. However, I don't think I would get this book for a young todder (under 4) due to the fact that there was one scene where Corduroy is alone in the dark of laudromat, inside a wired laundry cart, and he looks terrified. The picture is very scary and sad. I think it's too much for a little kid. But overall, it's cute, and the ending is good.\")"
   ]
  },
  {
   "cell_type": "code",
   "execution_count": 89,
   "id": "a23c0c61",
   "metadata": {},
   "outputs": [
    {
     "data": {
      "text/plain": [
       "array(['Negativel'], dtype='<U9')"
      ]
     },
     "execution_count": 89,
     "metadata": {},
     "output_type": "execute_result"
    }
   ],
   "source": [
    "new_data(\"The map looks just fine, but Amazon shipped it in a plastic bag. With no protection, it arrived badly crushed and bent, completely unusable. Amazon did replace it promptly, but this time used a flimsy cardboard box that still didn't protect it from damage. On a third attempt, also very prompt, they didn't even use the plastic bag, and it was badly damaged again. I appreciate the quick turnaround on the original order and the replacements, but it is absolutely ridiculous that a rolled-up laminated map would be packed for shipping without a protective tube (or without even a box, in two cases). I gave up on Amazon and will purchase it somewhere else. It looks like a nice map.\")"
   ]
  },
  {
   "cell_type": "code",
   "execution_count": 90,
   "id": "c62788a5",
   "metadata": {},
   "outputs": [],
   "source": [
    "import pickle\n",
    "with open(\"sentiment_analysis_model.pickle\",\"wb\")as f:\n",
    "    pickle.dump(ovr,f)"
   ]
  },
  {
   "cell_type": "code",
   "execution_count": 91,
   "id": "9587ba2e",
   "metadata": {},
   "outputs": [],
   "source": [
    "import joblib\n",
    "model = joblib.load(\"sentiment_analysis_model.pickle\")"
   ]
  },
  {
   "cell_type": "markdown",
   "id": "89177a85",
   "metadata": {},
   "source": [
    "### Building a GUI for Sentiment Analysis:\n",
    "- A simple GUI using Tkinter is created to input a sentence and analyze its sentiment using TextBlob.\n",
    "- TextBlob provides polarity and subjectivity scores to determine sentiment."
   ]
  },
  {
   "cell_type": "code",
   "execution_count": 92,
   "id": "8fb949ec",
   "metadata": {},
   "outputs": [],
   "source": [
    "#!pip install textblob\n",
    "\n",
    "from tkinter import *\n",
    "import tkinter as tk\n",
    "\n",
    "from textblob import TextBlob\n",
    " \n",
    "def analyze_sentiment():\n",
    "\n",
    "    sentence = entry_field.get()\n",
    "\n",
    "    analysis = TextBlob(sentence)\n",
    "\n",
    "    polarity = analysis.sentiment.polarity\n",
    "\n",
    "    subjectivity = analysis.sentiment.subjectivity\n",
    " \n",
    "    if polarity > 0:\n",
    "\n",
    "        sentiment_label.config(text=\"Positive\")\n",
    "\n",
    "    elif polarity == 0:\n",
    "\n",
    "        sentiment_label.config(text=\"Neutral\")\n",
    "\n",
    "    else:\n",
    "\n",
    "        sentiment_label.config(text=\"Negative\")\n",
    " \n",
    "    subjectivity_label.config(text=f\"Subjectivity: {subjectivity:.2f}\")\n",
    " \n",
    "root = tk.Tk()\n",
    "\n",
    "root.title(\"Sentiment Analysis\")\n",
    "\n",
    "root.geometry(\"1080x400\")\n",
    "root.config(bg='lightgreen')\n",
    "\n",
    "\n",
    "header = Label(root,text='Sentimental analysis',bg='yellow',foreground='black',font=('Arial',25,'bold'))\n",
    "header.pack()\n",
    " \n",
    "label = tk.Label(root, text=\"Enter a sentence:\",font=('Arial',20,'bold'),bg='yellow')\n",
    "label.pack(pady=12)\n",
    " \n",
    "entry_field = tk.Entry(root,width=40,font=(\"Arial\",18),bg='White',fg='black')\n",
    "\n",
    "entry_field.pack()\n",
    " \n",
    "analyze_button = tk.Button(root, text=\"Analyze review\", command=analyze_sentiment,font=(\"Arial\",15,\"bold\"))\n",
    "\n",
    "analyze_button.pack(pady=20)\n",
    " \n",
    "sentiment_label = tk.Label(root, text=\"\",font=(\"Arial\",18,'bold'))\n",
    "\n",
    "sentiment_label.pack(pady=10)\n",
    " \n",
    "subjectivity_label = tk.Label(root, text=\"\")\n",
    "\n",
    "subjectivity_label.pack()\n",
    " \n",
    "root.mainloop()\n"
   ]
  },
  {
   "cell_type": "markdown",
   "id": "4f52fc43",
   "metadata": {},
   "source": [
    "# Clustering Analysis\n",
    "- KMeans, Hierarchical Clustering, and DBSCAN clustering algorithms are implemented.\n",
    "- Elbow method and silhouette score are used for determining the optimal number of clusters.\n",
    "- Clustering results are visualized using scatter plots."
   ]
  },
  {
   "cell_type": "code",
   "execution_count": 93,
   "id": "d7d7c4fd",
   "metadata": {},
   "outputs": [],
   "source": [
    "from sklearn.preprocessing import LabelEncoder # encoding\n",
    "from sklearn.preprocessing import MinMaxScaler,StandardScaler # scaling\n",
    "\n",
    "from sklearn.cluster import k_means\n",
    "from sklearn.metrics import silhouette_score\n",
    "from sklearn.cluster import KMeans"
   ]
  },
  {
   "cell_type": "code",
   "execution_count": 94,
   "id": "52e9180c",
   "metadata": {},
   "outputs": [
    {
     "data": {
      "text/html": [
       "<div>\n",
       "<style scoped>\n",
       "    .dataframe tbody tr th:only-of-type {\n",
       "        vertical-align: middle;\n",
       "    }\n",
       "\n",
       "    .dataframe tbody tr th {\n",
       "        vertical-align: top;\n",
       "    }\n",
       "\n",
       "    .dataframe thead th {\n",
       "        text-align: right;\n",
       "    }\n",
       "</style>\n",
       "<table border=\"1\" class=\"dataframe\">\n",
       "  <thead>\n",
       "    <tr style=\"text-align: right;\">\n",
       "      <th></th>\n",
       "      <th>price</th>\n",
       "      <th>overall</th>\n",
       "    </tr>\n",
       "  </thead>\n",
       "  <tbody>\n",
       "    <tr>\n",
       "      <th>0</th>\n",
       "      <td>0.95</td>\n",
       "      <td>3</td>\n",
       "    </tr>\n",
       "    <tr>\n",
       "      <th>1</th>\n",
       "      <td>0.95</td>\n",
       "      <td>5</td>\n",
       "    </tr>\n",
       "    <tr>\n",
       "      <th>2</th>\n",
       "      <td>0.95</td>\n",
       "      <td>5</td>\n",
       "    </tr>\n",
       "    <tr>\n",
       "      <th>3</th>\n",
       "      <td>0.95</td>\n",
       "      <td>5</td>\n",
       "    </tr>\n",
       "    <tr>\n",
       "      <th>4</th>\n",
       "      <td>0.95</td>\n",
       "      <td>5</td>\n",
       "    </tr>\n",
       "  </tbody>\n",
       "</table>\n",
       "</div>"
      ],
      "text/plain": [
       "   price  overall\n",
       "0   0.95        3\n",
       "1   0.95        5\n",
       "2   0.95        5\n",
       "3   0.95        5\n",
       "4   0.95        5"
      ]
     },
     "execution_count": 94,
     "metadata": {},
     "output_type": "execute_result"
    }
   ],
   "source": [
    "df4= df3[['price','overall']]\n",
    "df4.head()"
   ]
  },
  {
   "cell_type": "code",
   "execution_count": 95,
   "id": "a21b3907",
   "metadata": {},
   "outputs": [
    {
     "data": {
      "text/html": [
       "<div>\n",
       "<style scoped>\n",
       "    .dataframe tbody tr th:only-of-type {\n",
       "        vertical-align: middle;\n",
       "    }\n",
       "\n",
       "    .dataframe tbody tr th {\n",
       "        vertical-align: top;\n",
       "    }\n",
       "\n",
       "    .dataframe thead th {\n",
       "        text-align: right;\n",
       "    }\n",
       "</style>\n",
       "<table border=\"1\" class=\"dataframe\">\n",
       "  <thead>\n",
       "    <tr style=\"text-align: right;\">\n",
       "      <th></th>\n",
       "      <th>price</th>\n",
       "      <th>overall</th>\n",
       "    </tr>\n",
       "  </thead>\n",
       "  <tbody>\n",
       "    <tr>\n",
       "      <th>76309</th>\n",
       "      <td>4.86</td>\n",
       "      <td>5</td>\n",
       "    </tr>\n",
       "    <tr>\n",
       "      <th>76310</th>\n",
       "      <td>4.86</td>\n",
       "      <td>5</td>\n",
       "    </tr>\n",
       "    <tr>\n",
       "      <th>76311</th>\n",
       "      <td>4.86</td>\n",
       "      <td>2</td>\n",
       "    </tr>\n",
       "    <tr>\n",
       "      <th>76312</th>\n",
       "      <td>4.86</td>\n",
       "      <td>5</td>\n",
       "    </tr>\n",
       "    <tr>\n",
       "      <th>76313</th>\n",
       "      <td>4.86</td>\n",
       "      <td>1</td>\n",
       "    </tr>\n",
       "  </tbody>\n",
       "</table>\n",
       "</div>"
      ],
      "text/plain": [
       "       price  overall\n",
       "76309   4.86        5\n",
       "76310   4.86        5\n",
       "76311   4.86        2\n",
       "76312   4.86        5\n",
       "76313   4.86        1"
      ]
     },
     "execution_count": 95,
     "metadata": {},
     "output_type": "execute_result"
    }
   ],
   "source": [
    "df4.tail()"
   ]
  },
  {
   "cell_type": "code",
   "execution_count": 96,
   "id": "e9ec3684",
   "metadata": {},
   "outputs": [
    {
     "name": "stdout",
     "output_type": "stream",
     "text": [
      "<class 'pandas.core.frame.DataFrame'>\n",
      "Int64Index: 33573 entries, 0 to 76313\n",
      "Data columns (total 2 columns):\n",
      " #   Column   Non-Null Count  Dtype  \n",
      "---  ------   --------------  -----  \n",
      " 0   price    33573 non-null  float64\n",
      " 1   overall  33573 non-null  int64  \n",
      "dtypes: float64(1), int64(1)\n",
      "memory usage: 786.9 KB\n"
     ]
    }
   ],
   "source": [
    "df4.info()"
   ]
  },
  {
   "cell_type": "code",
   "execution_count": 97,
   "id": "35756118",
   "metadata": {},
   "outputs": [],
   "source": [
    "mn=MinMaxScaler()\n",
    "sc=StandardScaler()"
   ]
  },
  {
   "cell_type": "code",
   "execution_count": 98,
   "id": "278040ad",
   "metadata": {},
   "outputs": [
    {
     "data": {
      "text/plain": [
       "price      0\n",
       "overall    0\n",
       "dtype: int64"
      ]
     },
     "execution_count": 98,
     "metadata": {},
     "output_type": "execute_result"
    }
   ],
   "source": [
    "df4.isnull().sum()"
   ]
  },
  {
   "cell_type": "code",
   "execution_count": 99,
   "id": "c068172c",
   "metadata": {},
   "outputs": [
    {
     "data": {
      "text/plain": [
       "(33573, 2)"
      ]
     },
     "execution_count": 99,
     "metadata": {},
     "output_type": "execute_result"
    }
   ],
   "source": [
    "df4.shape"
   ]
  },
  {
   "cell_type": "code",
   "execution_count": 100,
   "id": "61e34422",
   "metadata": {},
   "outputs": [
    {
     "data": {
      "text/html": [
       "<div>\n",
       "<style scoped>\n",
       "    .dataframe tbody tr th:only-of-type {\n",
       "        vertical-align: middle;\n",
       "    }\n",
       "\n",
       "    .dataframe tbody tr th {\n",
       "        vertical-align: top;\n",
       "    }\n",
       "\n",
       "    .dataframe thead th {\n",
       "        text-align: right;\n",
       "    }\n",
       "</style>\n",
       "<table border=\"1\" class=\"dataframe\">\n",
       "  <thead>\n",
       "    <tr style=\"text-align: right;\">\n",
       "      <th></th>\n",
       "      <th>price</th>\n",
       "      <th>overall</th>\n",
       "    </tr>\n",
       "  </thead>\n",
       "  <tbody>\n",
       "    <tr>\n",
       "      <th>15317</th>\n",
       "      <td>24.95</td>\n",
       "      <td>5</td>\n",
       "    </tr>\n",
       "    <tr>\n",
       "      <th>53179</th>\n",
       "      <td>26.50</td>\n",
       "      <td>5</td>\n",
       "    </tr>\n",
       "    <tr>\n",
       "      <th>49373</th>\n",
       "      <td>13.99</td>\n",
       "      <td>5</td>\n",
       "    </tr>\n",
       "    <tr>\n",
       "      <th>54648</th>\n",
       "      <td>25.00</td>\n",
       "      <td>5</td>\n",
       "    </tr>\n",
       "    <tr>\n",
       "      <th>15057</th>\n",
       "      <td>13.85</td>\n",
       "      <td>5</td>\n",
       "    </tr>\n",
       "    <tr>\n",
       "      <th>47701</th>\n",
       "      <td>9.96</td>\n",
       "      <td>5</td>\n",
       "    </tr>\n",
       "    <tr>\n",
       "      <th>50660</th>\n",
       "      <td>15.29</td>\n",
       "      <td>3</td>\n",
       "    </tr>\n",
       "    <tr>\n",
       "      <th>66033</th>\n",
       "      <td>63.07</td>\n",
       "      <td>2</td>\n",
       "    </tr>\n",
       "    <tr>\n",
       "      <th>22383</th>\n",
       "      <td>24.62</td>\n",
       "      <td>5</td>\n",
       "    </tr>\n",
       "    <tr>\n",
       "      <th>58241</th>\n",
       "      <td>12.74</td>\n",
       "      <td>5</td>\n",
       "    </tr>\n",
       "    <tr>\n",
       "      <th>30677</th>\n",
       "      <td>11.99</td>\n",
       "      <td>1</td>\n",
       "    </tr>\n",
       "    <tr>\n",
       "      <th>66706</th>\n",
       "      <td>63.07</td>\n",
       "      <td>5</td>\n",
       "    </tr>\n",
       "    <tr>\n",
       "      <th>66084</th>\n",
       "      <td>63.07</td>\n",
       "      <td>5</td>\n",
       "    </tr>\n",
       "    <tr>\n",
       "      <th>47091</th>\n",
       "      <td>54.99</td>\n",
       "      <td>4</td>\n",
       "    </tr>\n",
       "    <tr>\n",
       "      <th>66375</th>\n",
       "      <td>63.07</td>\n",
       "      <td>5</td>\n",
       "    </tr>\n",
       "    <tr>\n",
       "      <th>31099</th>\n",
       "      <td>6.09</td>\n",
       "      <td>5</td>\n",
       "    </tr>\n",
       "    <tr>\n",
       "      <th>54990</th>\n",
       "      <td>25.86</td>\n",
       "      <td>5</td>\n",
       "    </tr>\n",
       "    <tr>\n",
       "      <th>66211</th>\n",
       "      <td>63.07</td>\n",
       "      <td>5</td>\n",
       "    </tr>\n",
       "    <tr>\n",
       "      <th>3325</th>\n",
       "      <td>16.49</td>\n",
       "      <td>3</td>\n",
       "    </tr>\n",
       "    <tr>\n",
       "      <th>5679</th>\n",
       "      <td>15.18</td>\n",
       "      <td>5</td>\n",
       "    </tr>\n",
       "    <tr>\n",
       "      <th>15256</th>\n",
       "      <td>24.95</td>\n",
       "      <td>5</td>\n",
       "    </tr>\n",
       "    <tr>\n",
       "      <th>73440</th>\n",
       "      <td>21.14</td>\n",
       "      <td>5</td>\n",
       "    </tr>\n",
       "    <tr>\n",
       "      <th>49846</th>\n",
       "      <td>13.99</td>\n",
       "      <td>5</td>\n",
       "    </tr>\n",
       "    <tr>\n",
       "      <th>74905</th>\n",
       "      <td>19.50</td>\n",
       "      <td>5</td>\n",
       "    </tr>\n",
       "    <tr>\n",
       "      <th>49695</th>\n",
       "      <td>13.99</td>\n",
       "      <td>2</td>\n",
       "    </tr>\n",
       "    <tr>\n",
       "      <th>71465</th>\n",
       "      <td>80.99</td>\n",
       "      <td>1</td>\n",
       "    </tr>\n",
       "    <tr>\n",
       "      <th>60596</th>\n",
       "      <td>9.99</td>\n",
       "      <td>4</td>\n",
       "    </tr>\n",
       "    <tr>\n",
       "      <th>16707</th>\n",
       "      <td>9.77</td>\n",
       "      <td>5</td>\n",
       "    </tr>\n",
       "    <tr>\n",
       "      <th>33429</th>\n",
       "      <td>9.81</td>\n",
       "      <td>5</td>\n",
       "    </tr>\n",
       "    <tr>\n",
       "      <th>57032</th>\n",
       "      <td>15.48</td>\n",
       "      <td>5</td>\n",
       "    </tr>\n",
       "    <tr>\n",
       "      <th>66220</th>\n",
       "      <td>63.07</td>\n",
       "      <td>5</td>\n",
       "    </tr>\n",
       "    <tr>\n",
       "      <th>50814</th>\n",
       "      <td>19.95</td>\n",
       "      <td>2</td>\n",
       "    </tr>\n",
       "    <tr>\n",
       "      <th>59217</th>\n",
       "      <td>8.53</td>\n",
       "      <td>1</td>\n",
       "    </tr>\n",
       "    <tr>\n",
       "      <th>70427</th>\n",
       "      <td>8.98</td>\n",
       "      <td>5</td>\n",
       "    </tr>\n",
       "    <tr>\n",
       "      <th>71361</th>\n",
       "      <td>10.22</td>\n",
       "      <td>5</td>\n",
       "    </tr>\n",
       "    <tr>\n",
       "      <th>53707</th>\n",
       "      <td>26.50</td>\n",
       "      <td>5</td>\n",
       "    </tr>\n",
       "    <tr>\n",
       "      <th>58486</th>\n",
       "      <td>9.09</td>\n",
       "      <td>5</td>\n",
       "    </tr>\n",
       "    <tr>\n",
       "      <th>10919</th>\n",
       "      <td>59.99</td>\n",
       "      <td>3</td>\n",
       "    </tr>\n",
       "    <tr>\n",
       "      <th>75867</th>\n",
       "      <td>4.86</td>\n",
       "      <td>5</td>\n",
       "    </tr>\n",
       "    <tr>\n",
       "      <th>52118</th>\n",
       "      <td>19.95</td>\n",
       "      <td>5</td>\n",
       "    </tr>\n",
       "    <tr>\n",
       "      <th>64271</th>\n",
       "      <td>53.09</td>\n",
       "      <td>5</td>\n",
       "    </tr>\n",
       "    <tr>\n",
       "      <th>34000</th>\n",
       "      <td>12.11</td>\n",
       "      <td>2</td>\n",
       "    </tr>\n",
       "    <tr>\n",
       "      <th>13800</th>\n",
       "      <td>50.00</td>\n",
       "      <td>4</td>\n",
       "    </tr>\n",
       "    <tr>\n",
       "      <th>23685</th>\n",
       "      <td>4.99</td>\n",
       "      <td>3</td>\n",
       "    </tr>\n",
       "    <tr>\n",
       "      <th>75070</th>\n",
       "      <td>19.50</td>\n",
       "      <td>5</td>\n",
       "    </tr>\n",
       "    <tr>\n",
       "      <th>31181</th>\n",
       "      <td>6.09</td>\n",
       "      <td>5</td>\n",
       "    </tr>\n",
       "    <tr>\n",
       "      <th>50603</th>\n",
       "      <td>15.29</td>\n",
       "      <td>5</td>\n",
       "    </tr>\n",
       "    <tr>\n",
       "      <th>10951</th>\n",
       "      <td>59.99</td>\n",
       "      <td>5</td>\n",
       "    </tr>\n",
       "    <tr>\n",
       "      <th>62689</th>\n",
       "      <td>4.75</td>\n",
       "      <td>2</td>\n",
       "    </tr>\n",
       "    <tr>\n",
       "      <th>50146</th>\n",
       "      <td>15.19</td>\n",
       "      <td>4</td>\n",
       "    </tr>\n",
       "  </tbody>\n",
       "</table>\n",
       "</div>"
      ],
      "text/plain": [
       "       price  overall\n",
       "15317  24.95        5\n",
       "53179  26.50        5\n",
       "49373  13.99        5\n",
       "54648  25.00        5\n",
       "15057  13.85        5\n",
       "47701   9.96        5\n",
       "50660  15.29        3\n",
       "66033  63.07        2\n",
       "22383  24.62        5\n",
       "58241  12.74        5\n",
       "30677  11.99        1\n",
       "66706  63.07        5\n",
       "66084  63.07        5\n",
       "47091  54.99        4\n",
       "66375  63.07        5\n",
       "31099   6.09        5\n",
       "54990  25.86        5\n",
       "66211  63.07        5\n",
       "3325   16.49        3\n",
       "5679   15.18        5\n",
       "15256  24.95        5\n",
       "73440  21.14        5\n",
       "49846  13.99        5\n",
       "74905  19.50        5\n",
       "49695  13.99        2\n",
       "71465  80.99        1\n",
       "60596   9.99        4\n",
       "16707   9.77        5\n",
       "33429   9.81        5\n",
       "57032  15.48        5\n",
       "66220  63.07        5\n",
       "50814  19.95        2\n",
       "59217   8.53        1\n",
       "70427   8.98        5\n",
       "71361  10.22        5\n",
       "53707  26.50        5\n",
       "58486   9.09        5\n",
       "10919  59.99        3\n",
       "75867   4.86        5\n",
       "52118  19.95        5\n",
       "64271  53.09        5\n",
       "34000  12.11        2\n",
       "13800  50.00        4\n",
       "23685   4.99        3\n",
       "75070  19.50        5\n",
       "31181   6.09        5\n",
       "50603  15.29        5\n",
       "10951  59.99        5\n",
       "62689   4.75        2\n",
       "50146  15.19        4"
      ]
     },
     "execution_count": 100,
     "metadata": {},
     "output_type": "execute_result"
    }
   ],
   "source": [
    "df4.sample(50)"
   ]
  },
  {
   "cell_type": "code",
   "execution_count": 101,
   "id": "e895b2b9",
   "metadata": {},
   "outputs": [
    {
     "name": "stdout",
     "output_type": "stream",
     "text": [
      "<class 'pandas.core.frame.DataFrame'>\n",
      "Int64Index: 33573 entries, 0 to 76313\n",
      "Data columns (total 2 columns):\n",
      " #   Column   Non-Null Count  Dtype  \n",
      "---  ------   --------------  -----  \n",
      " 0   price    33573 non-null  float64\n",
      " 1   overall  33573 non-null  int64  \n",
      "dtypes: float64(1), int64(1)\n",
      "memory usage: 786.9 KB\n"
     ]
    }
   ],
   "source": [
    "df4.info()"
   ]
  },
  {
   "cell_type": "code",
   "execution_count": 102,
   "id": "a8636967",
   "metadata": {},
   "outputs": [],
   "source": [
    "df5 = mn.fit_transform(df4[['price','overall']])"
   ]
  },
  {
   "cell_type": "code",
   "execution_count": 103,
   "id": "7566006b",
   "metadata": {},
   "outputs": [
    {
     "data": {
      "text/html": [
       "<div>\n",
       "<style scoped>\n",
       "    .dataframe tbody tr th:only-of-type {\n",
       "        vertical-align: middle;\n",
       "    }\n",
       "\n",
       "    .dataframe tbody tr th {\n",
       "        vertical-align: top;\n",
       "    }\n",
       "\n",
       "    .dataframe thead th {\n",
       "        text-align: right;\n",
       "    }\n",
       "</style>\n",
       "<table border=\"1\" class=\"dataframe\">\n",
       "  <thead>\n",
       "    <tr style=\"text-align: right;\">\n",
       "      <th></th>\n",
       "      <th>price</th>\n",
       "      <th>overall</th>\n",
       "    </tr>\n",
       "  </thead>\n",
       "  <tbody>\n",
       "    <tr>\n",
       "      <th>0</th>\n",
       "      <td>0.0</td>\n",
       "      <td>0.5</td>\n",
       "    </tr>\n",
       "    <tr>\n",
       "      <th>1</th>\n",
       "      <td>0.0</td>\n",
       "      <td>1.0</td>\n",
       "    </tr>\n",
       "    <tr>\n",
       "      <th>2</th>\n",
       "      <td>0.0</td>\n",
       "      <td>1.0</td>\n",
       "    </tr>\n",
       "    <tr>\n",
       "      <th>3</th>\n",
       "      <td>0.0</td>\n",
       "      <td>1.0</td>\n",
       "    </tr>\n",
       "    <tr>\n",
       "      <th>4</th>\n",
       "      <td>0.0</td>\n",
       "      <td>1.0</td>\n",
       "    </tr>\n",
       "  </tbody>\n",
       "</table>\n",
       "</div>"
      ],
      "text/plain": [
       "   price  overall\n",
       "0    0.0      0.5\n",
       "1    0.0      1.0\n",
       "2    0.0      1.0\n",
       "3    0.0      1.0\n",
       "4    0.0      1.0"
      ]
     },
     "execution_count": 103,
     "metadata": {},
     "output_type": "execute_result"
    }
   ],
   "source": [
    "df6=pd.DataFrame(df5,columns=df4.columns)[:10000]\n",
    "df6.head()"
   ]
  },
  {
   "cell_type": "code",
   "execution_count": 104,
   "id": "6c9a8045",
   "metadata": {},
   "outputs": [
    {
     "data": {
      "text/plain": [
       "(10000, 2)"
      ]
     },
     "execution_count": 104,
     "metadata": {},
     "output_type": "execute_result"
    }
   ],
   "source": [
    "df6.shape"
   ]
  },
  {
   "cell_type": "code",
   "execution_count": 105,
   "id": "2242d029",
   "metadata": {},
   "outputs": [
    {
     "data": {
      "image/png": "[encoded data removed]",
      "text/plain": [
       "<Figure size 1200x700 with 1 Axes>"
      ]
     },
     "metadata": {},
     "output_type": "display_data"
    }
   ],
   "source": [
    "err= []\n",
    "for k in range(2,12):\n",
    "    km= KMeans(k)\n",
    "    km.fit(df6)\n",
    "    err.append(km.inertia_)\n",
    "    \n",
    "plt.figure(figsize=(12,7))\n",
    "plt.plot(range(2,12),err)\n",
    "plt.xlabel(\"K\")\n",
    "plt.ylabel(\"WCSS-Error\")\n",
    "plt.grid(True)"
   ]
  },
  {
   "cell_type": "code",
   "execution_count": 106,
   "id": "32330b0a",
   "metadata": {},
   "outputs": [
    {
     "name": "stdout",
     "output_type": "stream",
     "text": [
      "2 = 0.729610890989049\n",
      "3 = 0.6390511964042971\n",
      "4 = 0.6501402356003788\n",
      "5 = 0.6778416688121457\n",
      "6 = 0.645097761101303\n",
      "7 = 0.6583027653432603\n",
      "8 = 0.6414564306049657\n",
      "9 = 0.658871255684566\n",
      "10 = 0.617225918417089\n",
      "11 = 0.6260088830805495\n"
     ]
    }
   ],
   "source": [
    "for k in range(2,12):\n",
    "    km =KMeans(k)\n",
    "    hc =km.fit_predict(df6)\n",
    "    print(k,\"=\",silhouette_score(df6,hc))"
   ]
  },
  {
   "cell_type": "markdown",
   "id": "a8ca6823",
   "metadata": {},
   "source": [
    "**here the best cluster is 4**"
   ]
  },
  {
   "cell_type": "code",
   "execution_count": 107,
   "id": "6718ab91",
   "metadata": {},
   "outputs": [
    {
     "data": {
      "text/plain": [
       "KMeans(n_clusters=4)"
      ]
     },
     "execution_count": 107,
     "metadata": {},
     "output_type": "execute_result"
    }
   ],
   "source": [
    "kmeans_model = KMeans(4)\n",
    "kmeans_model.fit(df6)"
   ]
  },
  {
   "cell_type": "code",
   "execution_count": 108,
   "id": "064bcb88",
   "metadata": {},
   "outputs": [
    {
     "data": {
      "text/plain": [
       "array([2, 0, 0, ..., 0, 0, 0])"
      ]
     },
     "execution_count": 108,
     "metadata": {},
     "output_type": "execute_result"
    }
   ],
   "source": [
    "kmeans_model.labels_"
   ]
  },
  {
   "cell_type": "code",
   "execution_count": 109,
   "id": "ec37c7bd",
   "metadata": {},
   "outputs": [
    {
     "data": {
      "text/plain": [
       "array([2, 3, 3, ..., 3, 3, 3])"
      ]
     },
     "execution_count": 109,
     "metadata": {},
     "output_type": "execute_result"
    }
   ],
   "source": [
    "pred= kmeans_model.fit_predict(df6)\n",
    "pred"
   ]
  },
  {
   "cell_type": "code",
   "execution_count": 110,
   "id": "7b5be34c",
   "metadata": {},
   "outputs": [],
   "source": [
    "df6['kmean']=pred"
   ]
  },
  {
   "cell_type": "code",
   "execution_count": 111,
   "id": "4634b862",
   "metadata": {},
   "outputs": [
    {
     "data": {
      "text/html": [
       "<div>\n",
       "<style scoped>\n",
       "    .dataframe tbody tr th:only-of-type {\n",
       "        vertical-align: middle;\n",
       "    }\n",
       "\n",
       "    .dataframe tbody tr th {\n",
       "        vertical-align: top;\n",
       "    }\n",
       "\n",
       "    .dataframe thead th {\n",
       "        text-align: right;\n",
       "    }\n",
       "</style>\n",
       "<table border=\"1\" class=\"dataframe\">\n",
       "  <thead>\n",
       "    <tr style=\"text-align: right;\">\n",
       "      <th></th>\n",
       "      <th>price</th>\n",
       "      <th>overall</th>\n",
       "      <th>kmean</th>\n",
       "    </tr>\n",
       "  </thead>\n",
       "  <tbody>\n",
       "    <tr>\n",
       "      <th>2632</th>\n",
       "      <td>0.596123</td>\n",
       "      <td>0.0</td>\n",
       "      <td>1</td>\n",
       "    </tr>\n",
       "    <tr>\n",
       "      <th>9670</th>\n",
       "      <td>0.091377</td>\n",
       "      <td>1.0</td>\n",
       "      <td>3</td>\n",
       "    </tr>\n",
       "    <tr>\n",
       "      <th>4154</th>\n",
       "      <td>0.103796</td>\n",
       "      <td>1.0</td>\n",
       "      <td>3</td>\n",
       "    </tr>\n",
       "    <tr>\n",
       "      <th>9298</th>\n",
       "      <td>0.091377</td>\n",
       "      <td>1.0</td>\n",
       "      <td>3</td>\n",
       "    </tr>\n",
       "    <tr>\n",
       "      <th>8811</th>\n",
       "      <td>0.051898</td>\n",
       "      <td>1.0</td>\n",
       "      <td>3</td>\n",
       "    </tr>\n",
       "  </tbody>\n",
       "</table>\n",
       "</div>"
      ],
      "text/plain": [
       "         price  overall  kmean\n",
       "2632  0.596123      0.0      1\n",
       "9670  0.091377      1.0      3\n",
       "4154  0.103796      1.0      3\n",
       "9298  0.091377      1.0      3\n",
       "8811  0.051898      1.0      3"
      ]
     },
     "execution_count": 111,
     "metadata": {},
     "output_type": "execute_result"
    }
   ],
   "source": [
    "df6.sample(5)"
   ]
  },
  {
   "cell_type": "markdown",
   "id": "227c06e5",
   "metadata": {},
   "source": [
    "# Visualizing all the clustering"
   ]
  },
  {
   "cell_type": "markdown",
   "id": "ff05cc8e",
   "metadata": {},
   "source": [
    "# Kmeans model"
   ]
  },
  {
   "cell_type": "code",
   "execution_count": 112,
   "id": "2558860a",
   "metadata": {},
   "outputs": [
    {
     "data": {
      "text/plain": [
       "array([[0.33939304, 0.99295011],\n",
       "       [0.13083022, 0.10831063],\n",
       "       [0.12527228, 0.66514143],\n",
       "       [0.09895215, 1.        ]])"
      ]
     },
     "execution_count": 112,
     "metadata": {},
     "output_type": "execute_result"
    }
   ],
   "source": [
    "kmeans_model.cluster_centers_ # centroid center"
   ]
  },
  {
   "cell_type": "code",
   "execution_count": 113,
   "id": "6f7f21b1",
   "metadata": {},
   "outputs": [
    {
     "data": {
      "image/png": "[encoded data removed]",
      "text/plain": [
       "<Figure size 640x480 with 1 Axes>"
      ]
     },
     "metadata": {},
     "output_type": "display_data"
    }
   ],
   "source": [
    "\n",
    "clus_no = ['black', 'violet', 'red', 'green']#, 'yellow', 'blue', 'brown', 'orange', 'pink', 'purple','grey']\n",
    "n=0\n",
    "plt.scatter(df6['price'],df6['overall'],c='pink')\n",
    "for i,j in kmeans_model.cluster_centers_:\n",
    "    plt.scatter(i,j,s=60,marker='s',c=clus_no[n])\n",
    "    n+=1"
   ]
  },
  {
   "cell_type": "code",
   "execution_count": 114,
   "id": "6b1bee8f",
   "metadata": {},
   "outputs": [
    {
     "name": "stderr",
     "output_type": "stream",
     "text": [
      "No artists with labels found to put in legend.  Note that artists whose label start with an underscore are ignored when legend() is called with no argument.\n"
     ]
    },
    {
     "data": {
      "image/png": "[encoded data removed]",
      "text/plain": [
       "<Figure size 640x480 with 1 Axes>"
      ]
     },
     "metadata": {},
     "output_type": "display_data"
    }
   ],
   "source": [
    "plt.scatter(df6.values[pred==0,0],df6.values[pred==0,1],s=50,c='red')\n",
    "plt.scatter(df6.values[pred==1,0],df6.values[pred==1,1],s=30,c='blue')\n",
    "plt.scatter(df6.values[pred==2,0],df6.values[pred==2,1],s=30,color='green')#,label='Low price and high review')\n",
    "plt.scatter(df6.values[pred==3,0],df6.values[pred==3,1],s=40,color='yellow')\n",
    "plt.title(\"Cluster of price and review\")\n",
    "plt.xlabel(\"Price\")\n",
    "plt.ylabel(\"overall\")\n",
    "plt.legend()\n",
    "plt.show()"
   ]
  },
  {
   "cell_type": "markdown",
   "id": "096c64f0",
   "metadata": {},
   "source": [
    "**Ther 4 clusters are classified using kMeans with their Price and Overall relation.**"
   ]
  },
  {
   "cell_type": "markdown",
   "id": "5a488bf6",
   "metadata": {},
   "source": [
    "# Hierarchical clustering"
   ]
  },
  {
   "cell_type": "code",
   "execution_count": 115,
   "id": "26b99d12",
   "metadata": {},
   "outputs": [],
   "source": [
    "from sklearn.cluster import AgglomerativeClustering\n",
    "import scipy.cluster.hierarchy as sch"
   ]
  },
  {
   "cell_type": "code",
   "execution_count": 116,
   "id": "38d3306e",
   "metadata": {
    "scrolled": true
   },
   "outputs": [
    {
     "name": "stdout",
     "output_type": "stream",
     "text": [
      "2 = 0.7360398170879695 ward\n",
      "2 = 0.7360398170879695 single\n",
      "2 = 0.7844075777457771 complete\n",
      "2 = 0.7844075777457771 average\n",
      "3 = 0.8427946796251347 ward\n",
      "3 = 0.764868512313711 single\n",
      "3 = 0.764868512313711 complete\n",
      "3 = 0.764868512313711 average\n",
      "4 = 0.9164407875107319 ward\n",
      "4 = 0.9164407875107319 single\n",
      "4 = 0.9164407875107319 complete\n",
      "4 = 0.9164407875107319 average\n",
      "5 = 0.8912891130417816 ward\n",
      "5 = 0.8680611410825446 single\n",
      "5 = 0.865847127488942 complete\n",
      "5 = 0.8696831241225603 average\n",
      "6 = 0.8584409145482554 ward\n",
      "6 = 0.8562767918168903 single\n",
      "6 = 0.8473872295245372 complete\n",
      "6 = 0.8498598670035663 average\n",
      "7 = 0.8469735887279514 ward\n",
      "7 = 0.8324362729572509 single\n",
      "7 = 0.8076933877171862 complete\n",
      "7 = 0.8173673447821728 average\n",
      "8 = 0.6535759772597391 ward\n",
      "8 = 0.8250880479886966 single\n",
      "8 = 0.7880732032590737 complete\n",
      "8 = 0.8137162663237372 average\n",
      "9 = 0.6626677086283951 ward\n",
      "9 = 0.8252899134518018 single\n",
      "9 = 0.7979694334836118 complete\n",
      "9 = 0.8160950061301363 average\n"
     ]
    }
   ],
   "source": [
    "for i in range(2,10):\n",
    "    for j in ['ward','single','complete','average']:\n",
    "        hc = AgglomerativeClustering(n_clusters=i,affinity='euclidean',linkage=j)\n",
    "        y_ch = hc.fit_predict(df6)\n",
    "        print(i,\"=\",silhouette_score(df6,y_ch),j)"
   ]
  },
  {
   "cell_type": "code",
   "execution_count": 117,
   "id": "5e04195a",
   "metadata": {
    "scrolled": true
   },
   "outputs": [
    {
     "data": {
      "image/png": "[encoded data removed]",
      "text/plain": [
       "<Figure size 2000x600 with 1 Axes>"
      ]
     },
     "metadata": {},
     "output_type": "display_data"
    }
   ],
   "source": [
    "plt.figure(figsize=(20,6))\n",
    "sch.dendrogram(sch.linkage(df6,method='average'),labels=df6.index)\n",
    "plt.axhline(y=2,color='blue',linestyle='--')\n",
    "plt.title(\"Dendogram\")\n",
    "plt.xlabel(\"\")\n",
    "plt.ylabel(\"distance\")\n",
    "plt.show()"
   ]
  },
  {
   "cell_type": "markdown",
   "id": "272589a6",
   "metadata": {},
   "source": [
    "2 = 0.8574725121548454 ward has best"
   ]
  },
  {
   "cell_type": "code",
   "execution_count": 118,
   "id": "8829eaa1",
   "metadata": {},
   "outputs": [
    {
     "data": {
      "text/plain": [
       "0.7360398170879695"
      ]
     },
     "execution_count": 118,
     "metadata": {},
     "output_type": "execute_result"
    }
   ],
   "source": [
    "hc = AgglomerativeClustering(n_clusters=2,affinity='euclidean',linkage='ward')\n",
    "y_hc = hc.fit_predict(df6)\n",
    "silhouette_score(df6,y_hc)"
   ]
  },
  {
   "cell_type": "code",
   "execution_count": 125,
   "id": "87422624",
   "metadata": {},
   "outputs": [
    {
     "data": {
      "text/plain": [
       "<matplotlib.collections.PathCollection at 0x12235d43370>"
      ]
     },
     "execution_count": 125,
     "metadata": {},
     "output_type": "execute_result"
    },
    {
     "data": {
      "image/png": "[encoded data removed]",
      "text/plain": [
       "<Figure size 640x480 with 1 Axes>"
      ]
     },
     "metadata": {},
     "output_type": "display_data"
    }
   ],
   "source": [
    "plt.scatter(df6.values[y_hc==0,0],df6.values[y_hc==0,1],s=50,color='red',label='clust-1')\n",
    "plt.scatter(df6.values[y_hc==1,0],df6.values[y_hc==1,1],s=10,color='blue',label='clust-2')\n"
   ]
  },
  {
   "cell_type": "markdown",
   "id": "be3830a1",
   "metadata": {},
   "source": [
    "# DBSCAN Algorithm"
   ]
  },
  {
   "cell_type": "code",
   "execution_count": 120,
   "id": "47ac528d",
   "metadata": {},
   "outputs": [],
   "source": [
    "from sklearn.cluster import DBSCAN"
   ]
  },
  {
   "cell_type": "code",
   "execution_count": 121,
   "id": "73bdbf27",
   "metadata": {},
   "outputs": [
    {
     "data": {
      "text/plain": [
       "0.9384528154742009"
      ]
     },
     "execution_count": 121,
     "metadata": {},
     "output_type": "execute_result"
    }
   ],
   "source": [
    "dbscan = DBSCAN()\n",
    "dbscan.fit(df6)\n",
    "df6['dbscan_label']=dbscan.labels_\n",
    "silhouette_score(df6,df6['dbscan_label'])"
   ]
  },
  {
   "cell_type": "code",
   "execution_count": 122,
   "id": "51b1ebac",
   "metadata": {},
   "outputs": [
    {
     "data": {
      "text/plain": [
       "array([[0.      , 0.5     ],\n",
       "       [0.      , 1.      ],\n",
       "       [0.      , 1.      ],\n",
       "       ...,\n",
       "       [0.039479, 0.25    ],\n",
       "       [0.039479, 1.      ],\n",
       "       [0.039479, 0.      ]])"
      ]
     },
     "execution_count": 122,
     "metadata": {},
     "output_type": "execute_result"
    }
   ],
   "source": [
    "df5"
   ]
  },
  {
   "cell_type": "code",
   "execution_count": 123,
   "id": "62b12100",
   "metadata": {},
   "outputs": [
    {
     "data": {
      "text/plain": [
       "<matplotlib.collections.PathCollection at 0x12235ef52b0>"
      ]
     },
     "execution_count": 123,
     "metadata": {},
     "output_type": "execute_result"
    },
    {
     "data": {
      "image/png": "[encoded data removed]",
      "text/plain": [
       "<Figure size 640x480 with 1 Axes>"
      ]
     },
     "metadata": {},
     "output_type": "display_data"
    }
   ],
   "source": [
    "plt.scatter(df6['price'],df6['overall'],c=df6['dbscan_label'])\n"
   ]
  },
  {
   "cell_type": "code",
   "execution_count": 124,
   "id": "f76d4df4",
   "metadata": {},
   "outputs": [
    {
     "data": {
      "image/png": "[encoded data removed]",
      "text/plain": [
       "<Figure size 1000x600 with 1 Axes>"
      ]
     },
     "metadata": {},
     "output_type": "display_data"
    }
   ],
   "source": [
    "#evaluate the dbscan\n",
    "from sklearn.neighbors import NearestNeighbors\n",
    "neigh = NearestNeighbors(n_neighbors=2)\n",
    "nrbr = neigh.fit(df6)\n",
    "distance,indices = nrbr.kneighbors(df6)\n",
    "\n",
    "distances = np.sort(distance,axis=0)\n",
    "distances = distances[:,1]\n",
    "plt.figure(figsize=(10,6))\n",
    "plt.plot(distances)\n",
    "plt.title(\"K-Distribution plot\")\n",
    "plt.xlabel(\"Data point\")\n",
    "plt.ylabel(\"Distance(epsilon)\")\n",
    "plt.grid(True);"
   ]
  },
  {
   "cell_type": "markdown",
   "id": "df299317",
   "metadata": {},
   "source": [
    "**DBSCAN model aslo it has 4 clustering**"
   ]
  }
 ],
 "metadata": {
  "kernelspec": {
   "display_name": "Python 3 (ipykernel)",
   "language": "python",
   "name": "python3"
  },
  "language_info": {
   "codemirror_mode": {
    "name": "ipython",
    "version": 3
   },
   "file_extension": ".py",
   "mimetype": "text/x-python",
   "name": "python",
   "nbconvert_exporter": "python",
   "pygments_lexer": "ipython3",
   "version": "3.9.13"
  }
 },
 "nbformat": 4,
 "nbformat_minor": 5
}
