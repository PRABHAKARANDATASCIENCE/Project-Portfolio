{
 "cells": [
  {
   "cell_type": "markdown",
   "id": "b883e9f2",
   "metadata": {},
   "source": [
    "# Recommendation based on collaboration Office category"
   ]
  },
  {
   "cell_type": "markdown",
   "id": "b3f2fd0b",
   "metadata": {},
   "source": [
    "## Project Overview:\n",
    "The project focuses on building a recommender system that suggests products to users based on their past ratings and preferences. It employs two main approaches: memory-based collaborative filtering and model-based collaborative filtering."
   ]
  },
  {
   "cell_type": "markdown",
   "id": "7fab2e14",
   "metadata": {},
   "source": [
    "### Data Loading and Preprocessing:\n",
    "\n",
    "- Load the dataset containing user ratings for products (presumably from an e-commerce platform).\n",
    "- Select relevant columns such as reviewerID, asin (product ID), and overall (rating)."
   ]
  },
  {
   "cell_type": "code",
   "execution_count": 1,
   "id": "f2e28a00",
   "metadata": {},
   "outputs": [],
   "source": [
    "import numpy as np\n",
    "import pandas as pd\n",
    "\n",
    "import matplotlib.pyplot as plt\n",
    "import seaborn as sb"
   ]
  },
  {
   "cell_type": "code",
   "execution_count": 2,
   "id": "c706f259",
   "metadata": {},
   "outputs": [
    {
     "data": {
      "text/html": [
       "<div>\n",
       "<style scoped>\n",
       "    .dataframe tbody tr th:only-of-type {\n",
       "        vertical-align: middle;\n",
       "    }\n",
       "\n",
       "    .dataframe tbody tr th {\n",
       "        vertical-align: top;\n",
       "    }\n",
       "\n",
       "    .dataframe thead th {\n",
       "        text-align: right;\n",
       "    }\n",
       "</style>\n",
       "<table border=\"1\" class=\"dataframe\">\n",
       "  <thead>\n",
       "    <tr style=\"text-align: right;\">\n",
       "      <th></th>\n",
       "      <th>Unnamed: 0</th>\n",
       "      <th>category</th>\n",
       "      <th>description</th>\n",
       "      <th>title</th>\n",
       "      <th>brand</th>\n",
       "      <th>date</th>\n",
       "      <th>price</th>\n",
       "      <th>asin</th>\n",
       "      <th>imageURL</th>\n",
       "      <th>overall</th>\n",
       "      <th>verified</th>\n",
       "      <th>reviewTime</th>\n",
       "      <th>reviewText</th>\n",
       "      <th>reviewerID</th>\n",
       "      <th>Sentimental</th>\n",
       "    </tr>\n",
       "  </thead>\n",
       "  <tbody>\n",
       "    <tr>\n",
       "      <th>0</th>\n",
       "      <td>0</td>\n",
       "      <td>['Office Products', 'Office &amp; School Supplies'...</td>\n",
       "      <td>['Corduroy the bear goes to the launderette wi...</td>\n",
       "      <td>A Pocket for Corduroy</td>\n",
       "      <td>Ingram Book &amp; Distributor</td>\n",
       "      <td>2006-09-14</td>\n",
       "      <td>0.95</td>\n",
       "      <td>0140503528</td>\n",
       "      <td>[]</td>\n",
       "      <td>3</td>\n",
       "      <td>False</td>\n",
       "      <td>11 3, 2006</td>\n",
       "      <td>I thought the book was entertaining and cute, ...</td>\n",
       "      <td>A2WJLOXXIB7NF3</td>\n",
       "      <td>Neutral</td>\n",
       "    </tr>\n",
       "    <tr>\n",
       "      <th>1</th>\n",
       "      <td>1</td>\n",
       "      <td>['Office Products', 'Office &amp; School Supplies'...</td>\n",
       "      <td>['Corduroy the bear goes to the launderette wi...</td>\n",
       "      <td>A Pocket for Corduroy</td>\n",
       "      <td>Ingram Book &amp; Distributor</td>\n",
       "      <td>2006-09-14</td>\n",
       "      <td>0.95</td>\n",
       "      <td>0140503528</td>\n",
       "      <td>[]</td>\n",
       "      <td>5</td>\n",
       "      <td>False</td>\n",
       "      <td>05 9, 2006</td>\n",
       "      <td>This adorable story is an all time favorite fa...</td>\n",
       "      <td>A1RKICUK0GG6VF</td>\n",
       "      <td>Positive</td>\n",
       "    </tr>\n",
       "    <tr>\n",
       "      <th>2</th>\n",
       "      <td>2</td>\n",
       "      <td>['Office Products', 'Office &amp; School Supplies'...</td>\n",
       "      <td>['Corduroy the bear goes to the launderette wi...</td>\n",
       "      <td>A Pocket for Corduroy</td>\n",
       "      <td>Ingram Book &amp; Distributor</td>\n",
       "      <td>2006-09-14</td>\n",
       "      <td>0.95</td>\n",
       "      <td>0140503528</td>\n",
       "      <td>[]</td>\n",
       "      <td>5</td>\n",
       "      <td>False</td>\n",
       "      <td>03 11, 2006</td>\n",
       "      <td>Lisa's bear Corduroy gets lost in the laundrom...</td>\n",
       "      <td>A1QA5E50M398VW</td>\n",
       "      <td>Positive</td>\n",
       "    </tr>\n",
       "    <tr>\n",
       "      <th>3</th>\n",
       "      <td>3</td>\n",
       "      <td>['Office Products', 'Office &amp; School Supplies'...</td>\n",
       "      <td>['Corduroy the bear goes to the launderette wi...</td>\n",
       "      <td>A Pocket for Corduroy</td>\n",
       "      <td>Ingram Book &amp; Distributor</td>\n",
       "      <td>2006-09-14</td>\n",
       "      <td>0.95</td>\n",
       "      <td>0140503528</td>\n",
       "      <td>[]</td>\n",
       "      <td>5</td>\n",
       "      <td>False</td>\n",
       "      <td>01 24, 2001</td>\n",
       "      <td>In this installment of Corduroy's adventures w...</td>\n",
       "      <td>A3N0HBW8IP8CZQ</td>\n",
       "      <td>Positive</td>\n",
       "    </tr>\n",
       "    <tr>\n",
       "      <th>4</th>\n",
       "      <td>4</td>\n",
       "      <td>['Office Products', 'Office &amp; School Supplies'...</td>\n",
       "      <td>['Corduroy the bear goes to the launderette wi...</td>\n",
       "      <td>A Pocket for Corduroy</td>\n",
       "      <td>Ingram Book &amp; Distributor</td>\n",
       "      <td>2006-09-14</td>\n",
       "      <td>0.95</td>\n",
       "      <td>0140503528</td>\n",
       "      <td>[]</td>\n",
       "      <td>5</td>\n",
       "      <td>False</td>\n",
       "      <td>07 30, 2000</td>\n",
       "      <td>Researchers constantly find that reading to ch...</td>\n",
       "      <td>A1K1JW1C5CUSUZ</td>\n",
       "      <td>Positive</td>\n",
       "    </tr>\n",
       "  </tbody>\n",
       "</table>\n",
       "</div>"
      ],
      "text/plain": [
       "   Unnamed: 0                                           category  \\\n",
       "0           0  ['Office Products', 'Office & School Supplies'...   \n",
       "1           1  ['Office Products', 'Office & School Supplies'...   \n",
       "2           2  ['Office Products', 'Office & School Supplies'...   \n",
       "3           3  ['Office Products', 'Office & School Supplies'...   \n",
       "4           4  ['Office Products', 'Office & School Supplies'...   \n",
       "\n",
       "                                         description                  title  \\\n",
       "0  ['Corduroy the bear goes to the launderette wi...  A Pocket for Corduroy   \n",
       "1  ['Corduroy the bear goes to the launderette wi...  A Pocket for Corduroy   \n",
       "2  ['Corduroy the bear goes to the launderette wi...  A Pocket for Corduroy   \n",
       "3  ['Corduroy the bear goes to the launderette wi...  A Pocket for Corduroy   \n",
       "4  ['Corduroy the bear goes to the launderette wi...  A Pocket for Corduroy   \n",
       "\n",
       "                       brand        date  price        asin imageURL  overall  \\\n",
       "0  Ingram Book & Distributor  2006-09-14   0.95  0140503528       []        3   \n",
       "1  Ingram Book & Distributor  2006-09-14   0.95  0140503528       []        5   \n",
       "2  Ingram Book & Distributor  2006-09-14   0.95  0140503528       []        5   \n",
       "3  Ingram Book & Distributor  2006-09-14   0.95  0140503528       []        5   \n",
       "4  Ingram Book & Distributor  2006-09-14   0.95  0140503528       []        5   \n",
       "\n",
       "   verified   reviewTime                                         reviewText  \\\n",
       "0     False   11 3, 2006  I thought the book was entertaining and cute, ...   \n",
       "1     False   05 9, 2006  This adorable story is an all time favorite fa...   \n",
       "2     False  03 11, 2006  Lisa's bear Corduroy gets lost in the laundrom...   \n",
       "3     False  01 24, 2001  In this installment of Corduroy's adventures w...   \n",
       "4     False  07 30, 2000  Researchers constantly find that reading to ch...   \n",
       "\n",
       "       reviewerID Sentimental  \n",
       "0  A2WJLOXXIB7NF3     Neutral  \n",
       "1  A1RKICUK0GG6VF    Positive  \n",
       "2  A1QA5E50M398VW    Positive  \n",
       "3  A3N0HBW8IP8CZQ    Positive  \n",
       "4  A1K1JW1C5CUSUZ    Positive  "
      ]
     },
     "execution_count": 2,
     "metadata": {},
     "output_type": "execute_result"
    }
   ],
   "source": [
    "df= pd.read_csv('t1.csv')\n",
    "df.head()"
   ]
  },
  {
   "cell_type": "code",
   "execution_count": 3,
   "id": "5b57e371",
   "metadata": {},
   "outputs": [
    {
     "data": {
      "text/html": [
       "<div>\n",
       "<style scoped>\n",
       "    .dataframe tbody tr th:only-of-type {\n",
       "        vertical-align: middle;\n",
       "    }\n",
       "\n",
       "    .dataframe tbody tr th {\n",
       "        vertical-align: top;\n",
       "    }\n",
       "\n",
       "    .dataframe thead th {\n",
       "        text-align: right;\n",
       "    }\n",
       "</style>\n",
       "<table border=\"1\" class=\"dataframe\">\n",
       "  <thead>\n",
       "    <tr style=\"text-align: right;\">\n",
       "      <th></th>\n",
       "      <th>reviewerID</th>\n",
       "      <th>asin</th>\n",
       "      <th>overall</th>\n",
       "    </tr>\n",
       "  </thead>\n",
       "  <tbody>\n",
       "    <tr>\n",
       "      <th>0</th>\n",
       "      <td>A2WJLOXXIB7NF3</td>\n",
       "      <td>0140503528</td>\n",
       "      <td>3</td>\n",
       "    </tr>\n",
       "    <tr>\n",
       "      <th>1</th>\n",
       "      <td>A1RKICUK0GG6VF</td>\n",
       "      <td>0140503528</td>\n",
       "      <td>5</td>\n",
       "    </tr>\n",
       "    <tr>\n",
       "      <th>2</th>\n",
       "      <td>A1QA5E50M398VW</td>\n",
       "      <td>0140503528</td>\n",
       "      <td>5</td>\n",
       "    </tr>\n",
       "    <tr>\n",
       "      <th>3</th>\n",
       "      <td>A3N0HBW8IP8CZQ</td>\n",
       "      <td>0140503528</td>\n",
       "      <td>5</td>\n",
       "    </tr>\n",
       "    <tr>\n",
       "      <th>4</th>\n",
       "      <td>A1K1JW1C5CUSUZ</td>\n",
       "      <td>0140503528</td>\n",
       "      <td>5</td>\n",
       "    </tr>\n",
       "  </tbody>\n",
       "</table>\n",
       "</div>"
      ],
      "text/plain": [
       "       reviewerID        asin  overall\n",
       "0  A2WJLOXXIB7NF3  0140503528        3\n",
       "1  A1RKICUK0GG6VF  0140503528        5\n",
       "2  A1QA5E50M398VW  0140503528        5\n",
       "3  A3N0HBW8IP8CZQ  0140503528        5\n",
       "4  A1K1JW1C5CUSUZ  0140503528        5"
      ]
     },
     "execution_count": 3,
     "metadata": {},
     "output_type": "execute_result"
    }
   ],
   "source": [
    "df1=df[['reviewerID','asin','overall']][:12000]\n",
    "df1.head()"
   ]
  },
  {
   "cell_type": "markdown",
   "id": "92d863ab",
   "metadata": {},
   "source": [
    "### Data Exploration:\n",
    "\n",
    "- Explore basic statistics and visualizations to understand the distribution of ratings and user behavior."
   ]
  },
  {
   "cell_type": "code",
   "execution_count": 4,
   "id": "81b15403",
   "metadata": {},
   "outputs": [
    {
     "name": "stdout",
     "output_type": "stream",
     "text": [
      "<class 'pandas.core.frame.DataFrame'>\n",
      "RangeIndex: 12000 entries, 0 to 11999\n",
      "Data columns (total 3 columns):\n",
      " #   Column      Non-Null Count  Dtype \n",
      "---  ------      --------------  ----- \n",
      " 0   reviewerID  12000 non-null  object\n",
      " 1   asin        12000 non-null  object\n",
      " 2   overall     12000 non-null  int64 \n",
      "dtypes: int64(1), object(2)\n",
      "memory usage: 281.4+ KB\n"
     ]
    }
   ],
   "source": [
    "df1.info()"
   ]
  },
  {
   "cell_type": "code",
   "execution_count": 5,
   "id": "24453449",
   "metadata": {},
   "outputs": [
    {
     "data": {
      "text/html": [
       "<div>\n",
       "<style scoped>\n",
       "    .dataframe tbody tr th:only-of-type {\n",
       "        vertical-align: middle;\n",
       "    }\n",
       "\n",
       "    .dataframe tbody tr th {\n",
       "        vertical-align: top;\n",
       "    }\n",
       "\n",
       "    .dataframe thead th {\n",
       "        text-align: right;\n",
       "    }\n",
       "</style>\n",
       "<table border=\"1\" class=\"dataframe\">\n",
       "  <thead>\n",
       "    <tr style=\"text-align: right;\">\n",
       "      <th></th>\n",
       "      <th>overall</th>\n",
       "    </tr>\n",
       "  </thead>\n",
       "  <tbody>\n",
       "    <tr>\n",
       "      <th>count</th>\n",
       "      <td>12000.000000</td>\n",
       "    </tr>\n",
       "    <tr>\n",
       "      <th>mean</th>\n",
       "      <td>4.502750</td>\n",
       "    </tr>\n",
       "    <tr>\n",
       "      <th>std</th>\n",
       "      <td>1.016241</td>\n",
       "    </tr>\n",
       "    <tr>\n",
       "      <th>min</th>\n",
       "      <td>1.000000</td>\n",
       "    </tr>\n",
       "    <tr>\n",
       "      <th>25%</th>\n",
       "      <td>4.000000</td>\n",
       "    </tr>\n",
       "    <tr>\n",
       "      <th>50%</th>\n",
       "      <td>5.000000</td>\n",
       "    </tr>\n",
       "    <tr>\n",
       "      <th>75%</th>\n",
       "      <td>5.000000</td>\n",
       "    </tr>\n",
       "    <tr>\n",
       "      <th>max</th>\n",
       "      <td>5.000000</td>\n",
       "    </tr>\n",
       "  </tbody>\n",
       "</table>\n",
       "</div>"
      ],
      "text/plain": [
       "            overall\n",
       "count  12000.000000\n",
       "mean       4.502750\n",
       "std        1.016241\n",
       "min        1.000000\n",
       "25%        4.000000\n",
       "50%        5.000000\n",
       "75%        5.000000\n",
       "max        5.000000"
      ]
     },
     "execution_count": 5,
     "metadata": {},
     "output_type": "execute_result"
    }
   ],
   "source": [
    "df1.describe()"
   ]
  },
  {
   "cell_type": "code",
   "execution_count": 6,
   "id": "00e6cd5e",
   "metadata": {},
   "outputs": [
    {
     "data": {
      "text/plain": [
       "reviewerID    0\n",
       "asin          0\n",
       "overall       0\n",
       "dtype: int64"
      ]
     },
     "execution_count": 6,
     "metadata": {},
     "output_type": "execute_result"
    }
   ],
   "source": [
    "df1.isnull().sum()"
   ]
  },
  {
   "cell_type": "code",
   "execution_count": 7,
   "id": "8ff7400f",
   "metadata": {},
   "outputs": [
    {
     "data": {
      "text/plain": [
       "(12000, 3)"
      ]
     },
     "execution_count": 7,
     "metadata": {},
     "output_type": "execute_result"
    }
   ],
   "source": [
    "df1.shape"
   ]
  },
  {
   "cell_type": "code",
   "execution_count": 8,
   "id": "f8051d9f",
   "metadata": {},
   "outputs": [],
   "source": [
    "df1.drop_duplicates(inplace=True)"
   ]
  },
  {
   "cell_type": "code",
   "execution_count": 9,
   "id": "232541e9",
   "metadata": {},
   "outputs": [
    {
     "data": {
      "text/plain": [
       "(11958, 3)"
      ]
     },
     "execution_count": 9,
     "metadata": {},
     "output_type": "execute_result"
    }
   ],
   "source": [
    "df1.shape"
   ]
  },
  {
   "cell_type": "code",
   "execution_count": 10,
   "id": "6dc98e3c",
   "metadata": {},
   "outputs": [
    {
     "name": "stderr",
     "output_type": "stream",
     "text": [
      "C:\\Users\\prabh\\anaconda3\\lib\\site-packages\\seaborn\\_decorators.py:36: FutureWarning: Pass the following variable as a keyword arg: x. From version 0.12, the only valid positional argument will be `data`, and passing other arguments without an explicit keyword will result in an error or misinterpretation.\n",
      "  warnings.warn(\n"
     ]
    },
    {
     "data": {
      "text/plain": [
       "<AxesSubplot:xlabel='overall', ylabel='count'>"
      ]
     },
     "execution_count": 10,
     "metadata": {},
     "output_type": "execute_result"
    },
    {
     "data": {
      "image/png": "[encoded data removed]",
      "text/plain": [
       "<Figure size 640x480 with 1 Axes>"
      ]
     },
     "metadata": {},
     "output_type": "display_data"
    }
   ],
   "source": [
    "sb.countplot(df1['overall'])"
   ]
  },
  {
   "cell_type": "code",
   "execution_count": 11,
   "id": "1bc728da",
   "metadata": {},
   "outputs": [
    {
     "name": "stdout",
     "output_type": "stream",
     "text": [
      "total rating = 11958\n",
      "Total unique users =  11667\n",
      "Total unique Products =  287\n"
     ]
    }
   ],
   "source": [
    "print(\"total rating =\",len(df1['overall']))\n",
    "print(\"Total unique users = \",df1['reviewerID'].nunique())\n",
    "print(\"Total unique Products = \",df1['asin'].nunique())"
   ]
  },
  {
   "cell_type": "markdown",
   "id": "2c390368",
   "metadata": {},
   "source": [
    "## Memory-Based Collaborative Filtering:\n",
    "\n",
    "- Calculate the number of rated products per user to understand user engagement.\n",
    "- Compute the average rating for each product to identify popular products.\n",
    "- Visualize the distribution of average ratings for products.\n",
    "- Utilize the Surprise library to implement KNN-based collaborative filtering.\n",
    "- Train the model using the training set and evaluate its performance using the test set.\n",
    "- Print the Root Mean Squared Error (RMSE) as a measure of model accuracy."
   ]
  },
  {
   "cell_type": "markdown",
   "id": "38befbeb",
   "metadata": {},
   "source": [
    "Analyzing the rating by user"
   ]
  },
  {
   "cell_type": "code",
   "execution_count": 12,
   "id": "cac8c61b",
   "metadata": {},
   "outputs": [
    {
     "data": {
      "text/plain": [
       "reviewerID\n",
       "A2OMDCK5PYHTXO    4\n",
       "A1U68LJSSK8H98    3\n",
       "AMGGNP5A71PP2     3\n",
       "A2RLX5MG9VCAN1    3\n",
       "A3OU08KASX7OCC    3\n",
       "Name: overall, dtype: int64"
      ]
     },
     "execution_count": 12,
     "metadata": {},
     "output_type": "execute_result"
    }
   ],
   "source": [
    "no_of_rated_product_per_user = df1.groupby(by='reviewerID')['overall'].count().sort_values(ascending=False)\n",
    "no_of_rated_product_per_user.head()"
   ]
  },
  {
   "cell_type": "code",
   "execution_count": 13,
   "id": "c98a6b2e",
   "metadata": {},
   "outputs": [
    {
     "data": {
      "text/plain": [
       "<AxesSubplot:xlabel='reviewerID'>"
      ]
     },
     "execution_count": 13,
     "metadata": {},
     "output_type": "execute_result"
    },
    {
     "data": {
      "image/png": "[encoded data removed]",
      "text/plain": [
       "<Figure size 640x480 with 1 Axes>"
      ]
     },
     "metadata": {},
     "output_type": "display_data"
    }
   ],
   "source": [
    "no_of_rated_product_per_user.head(20).plot(kind='bar')"
   ]
  },
  {
   "cell_type": "markdown",
   "id": "2055c1a6",
   "metadata": {},
   "source": [
    "# Average Rating Product"
   ]
  },
  {
   "cell_type": "code",
   "execution_count": 14,
   "id": "6330b0d6",
   "metadata": {},
   "outputs": [],
   "source": [
    "mean_rating_prodcut_count = pd.DataFrame(df1.groupby('asin')['overall'].mean())"
   ]
  },
  {
   "cell_type": "code",
   "execution_count": 15,
   "id": "9e841223",
   "metadata": {},
   "outputs": [
    {
     "data": {
      "text/html": [
       "<div>\n",
       "<style scoped>\n",
       "    .dataframe tbody tr th:only-of-type {\n",
       "        vertical-align: middle;\n",
       "    }\n",
       "\n",
       "    .dataframe tbody tr th {\n",
       "        vertical-align: top;\n",
       "    }\n",
       "\n",
       "    .dataframe thead th {\n",
       "        text-align: right;\n",
       "    }\n",
       "</style>\n",
       "<table border=\"1\" class=\"dataframe\">\n",
       "  <thead>\n",
       "    <tr style=\"text-align: right;\">\n",
       "      <th></th>\n",
       "      <th>overall</th>\n",
       "    </tr>\n",
       "    <tr>\n",
       "      <th>asin</th>\n",
       "      <th></th>\n",
       "    </tr>\n",
       "  </thead>\n",
       "  <tbody>\n",
       "    <tr>\n",
       "      <th>0140503528</th>\n",
       "      <td>4.573913</td>\n",
       "    </tr>\n",
       "    <tr>\n",
       "      <th>0245109919</th>\n",
       "      <td>5.000000</td>\n",
       "    </tr>\n",
       "    <tr>\n",
       "      <th>0439394058</th>\n",
       "      <td>4.153846</td>\n",
       "    </tr>\n",
       "    <tr>\n",
       "      <th>043949950X</th>\n",
       "      <td>5.000000</td>\n",
       "    </tr>\n",
       "    <tr>\n",
       "      <th>0439537886</th>\n",
       "      <td>4.458333</td>\n",
       "    </tr>\n",
       "  </tbody>\n",
       "</table>\n",
       "</div>"
      ],
      "text/plain": [
       "             overall\n",
       "asin                \n",
       "0140503528  4.573913\n",
       "0245109919  5.000000\n",
       "0439394058  4.153846\n",
       "043949950X  5.000000\n",
       "0439537886  4.458333"
      ]
     },
     "execution_count": 15,
     "metadata": {},
     "output_type": "execute_result"
    }
   ],
   "source": [
    "mean_rating_prodcut_count.head()"
   ]
  },
  {
   "cell_type": "code",
   "execution_count": 16,
   "id": "36edc742",
   "metadata": {},
   "outputs": [
    {
     "data": {
      "image/png": "[encoded data removed]",
      "text/plain": [
       "<Figure size 640x480 with 1 Axes>"
      ]
     },
     "metadata": {},
     "output_type": "display_data"
    }
   ],
   "source": [
    "# plot the rating distribution of average rating product\n",
    "plt.hist(mean_rating_prodcut_count['overall'],bins=100);"
   ]
  },
  {
   "cell_type": "code",
   "execution_count": 17,
   "id": "7ce0f871",
   "metadata": {},
   "outputs": [
    {
     "data": {
      "text/plain": [
       "-1.5696703119010356"
      ]
     },
     "execution_count": 17,
     "metadata": {},
     "output_type": "execute_result"
    }
   ],
   "source": [
    "mean_rating_prodcut_count['overall'].skew()"
   ]
  },
  {
   "cell_type": "code",
   "execution_count": 18,
   "id": "277336f7",
   "metadata": {},
   "outputs": [],
   "source": [
    "#conda install -c conda-forge scikit-surprise "
   ]
  },
  {
   "cell_type": "code",
   "execution_count": 19,
   "id": "6e1a8066",
   "metadata": {},
   "outputs": [],
   "source": [
    "#import surprise libraru for collabrative filtering\n",
    "#!pip install scikit-surprise"
   ]
  },
  {
   "cell_type": "code",
   "execution_count": 22,
   "id": "aff6f874",
   "metadata": {},
   "outputs": [],
   "source": [
    "from surprise import KNNWithMeans\n",
    "from surprise import Dataset\n",
    "from surprise import accuracy\n",
    "from surprise import Reader\n",
    "from surprise.model_selection import train_test_split"
   ]
  },
  {
   "cell_type": "code",
   "execution_count": 23,
   "id": "7fdb3993",
   "metadata": {},
   "outputs": [],
   "source": [
    "reader = Reader(rating_scale=(1,5))\n",
    "surprise_data = Dataset.load_from_df(df1,reader)"
   ]
  },
  {
   "cell_type": "code",
   "execution_count": 24,
   "id": "6bfe9ddd",
   "metadata": {},
   "outputs": [],
   "source": [
    "#splitting surprise the dataset into 80:20\n",
    "train,test= train_test_split(surprise_data,test_size=0.3,random_state=47)"
   ]
  },
  {
   "cell_type": "code",
   "execution_count": 25,
   "id": "1ac018cd",
   "metadata": {},
   "outputs": [
    {
     "name": "stdout",
     "output_type": "stream",
     "text": [
      "Estimating biases using als...\n",
      "Computing the pearson_baseline similarity matrix...\n",
      "Done computing similarity matrix.\n"
     ]
    },
    {
     "data": {
      "text/plain": [
       "<surprise.prediction_algorithms.knns.KNNWithMeans at 0x2805f4eadc0>"
      ]
     },
     "execution_count": 25,
     "metadata": {},
     "output_type": "execute_result"
    }
   ],
   "source": [
    "algo = KNNWithMeans(k=5,sim_options={'name':'pearson_baseline','used_based':False})\n",
    "algo.fit(train)"
   ]
  },
  {
   "cell_type": "code",
   "execution_count": 26,
   "id": "d389f4f5",
   "metadata": {},
   "outputs": [],
   "source": [
    "#make prediction using test\n",
    "test_pred = algo.test(test)"
   ]
  },
  {
   "cell_type": "code",
   "execution_count": 27,
   "id": "00782089",
   "metadata": {},
   "outputs": [
    {
     "name": "stdout",
     "output_type": "stream",
     "text": [
      "Item-Based Model : Test set\n",
      "RMSE: 1.0310\n"
     ]
    },
    {
     "data": {
      "text/plain": [
       "1.0310240525854146"
      ]
     },
     "execution_count": 27,
     "metadata": {},
     "output_type": "execute_result"
    }
   ],
   "source": [
    "#print RMSE\n",
    "print(\"Item-Based Model : Test set\")\n",
    "accuracy.rmse(test_pred,verbose=True)"
   ]
  },
  {
   "cell_type": "markdown",
   "id": "f109df6e",
   "metadata": {},
   "source": [
    "# Model Based collabrative filtering system\n",
    "- Create a user-item matrix where rows represent users, columns represent products, and cells contain ratings.\n",
    "- Transpose the matrix to get an item-user matrix.\n",
    "- Decompose the item-user matrix using Singular Value Decomposition (SVD) to capture latent factors.\n",
    "- Compute the correlation matrix between products based on decomposed features.\n",
    "- Recommend top correlated products for a given product based on correlation threshold.\n",
    "- Merge recommended products with the original dataset to retrieve additional information such as product titles and ratings."
   ]
  },
  {
   "cell_type": "code",
   "execution_count": 28,
   "id": "93f67c7d",
   "metadata": {},
   "outputs": [
    {
     "data": {
      "text/plain": [
       "(11958, 3)"
      ]
     },
     "execution_count": 28,
     "metadata": {},
     "output_type": "execute_result"
    }
   ],
   "source": [
    "df1.shape"
   ]
  },
  {
   "cell_type": "code",
   "execution_count": 29,
   "id": "c6262d70",
   "metadata": {},
   "outputs": [
    {
     "data": {
      "text/html": [
       "<div>\n",
       "<style scoped>\n",
       "    .dataframe tbody tr th:only-of-type {\n",
       "        vertical-align: middle;\n",
       "    }\n",
       "\n",
       "    .dataframe tbody tr th {\n",
       "        vertical-align: top;\n",
       "    }\n",
       "\n",
       "    .dataframe thead th {\n",
       "        text-align: right;\n",
       "    }\n",
       "</style>\n",
       "<table border=\"1\" class=\"dataframe\">\n",
       "  <thead>\n",
       "    <tr style=\"text-align: right;\">\n",
       "      <th>asin</th>\n",
       "      <th>0140503528</th>\n",
       "      <th>0245109919</th>\n",
       "      <th>0439394058</th>\n",
       "      <th>043949950X</th>\n",
       "      <th>0439537886</th>\n",
       "      <th>0439654939</th>\n",
       "      <th>0439731593</th>\n",
       "      <th>0439731771</th>\n",
       "      <th>0439784395</th>\n",
       "      <th>0439893577</th>\n",
       "      <th>...</th>\n",
       "      <th>1604189541</th>\n",
       "      <th>1604189568</th>\n",
       "      <th>1605160091</th>\n",
       "      <th>1605160210</th>\n",
       "      <th>160516156X</th>\n",
       "      <th>1605161594</th>\n",
       "      <th>1605161713</th>\n",
       "      <th>1605162957</th>\n",
       "      <th>160817641X</th>\n",
       "      <th>1608176428</th>\n",
       "    </tr>\n",
       "    <tr>\n",
       "      <th>reviewerID</th>\n",
       "      <th></th>\n",
       "      <th></th>\n",
       "      <th></th>\n",
       "      <th></th>\n",
       "      <th></th>\n",
       "      <th></th>\n",
       "      <th></th>\n",
       "      <th></th>\n",
       "      <th></th>\n",
       "      <th></th>\n",
       "      <th></th>\n",
       "      <th></th>\n",
       "      <th></th>\n",
       "      <th></th>\n",
       "      <th></th>\n",
       "      <th></th>\n",
       "      <th></th>\n",
       "      <th></th>\n",
       "      <th></th>\n",
       "      <th></th>\n",
       "      <th></th>\n",
       "    </tr>\n",
       "  </thead>\n",
       "  <tbody>\n",
       "    <tr>\n",
       "      <th>A0440970QIFGYIPSB9LS</th>\n",
       "      <td>0</td>\n",
       "      <td>0</td>\n",
       "      <td>0</td>\n",
       "      <td>0</td>\n",
       "      <td>0</td>\n",
       "      <td>0</td>\n",
       "      <td>0</td>\n",
       "      <td>0</td>\n",
       "      <td>0</td>\n",
       "      <td>0</td>\n",
       "      <td>...</td>\n",
       "      <td>0</td>\n",
       "      <td>0</td>\n",
       "      <td>0</td>\n",
       "      <td>0</td>\n",
       "      <td>0</td>\n",
       "      <td>0</td>\n",
       "      <td>0</td>\n",
       "      <td>0</td>\n",
       "      <td>0</td>\n",
       "      <td>0</td>\n",
       "    </tr>\n",
       "    <tr>\n",
       "      <th>A0776669NZZD6IZI2J5P</th>\n",
       "      <td>0</td>\n",
       "      <td>0</td>\n",
       "      <td>0</td>\n",
       "      <td>0</td>\n",
       "      <td>0</td>\n",
       "      <td>0</td>\n",
       "      <td>0</td>\n",
       "      <td>0</td>\n",
       "      <td>0</td>\n",
       "      <td>0</td>\n",
       "      <td>...</td>\n",
       "      <td>0</td>\n",
       "      <td>0</td>\n",
       "      <td>0</td>\n",
       "      <td>0</td>\n",
       "      <td>0</td>\n",
       "      <td>0</td>\n",
       "      <td>0</td>\n",
       "      <td>0</td>\n",
       "      <td>0</td>\n",
       "      <td>0</td>\n",
       "    </tr>\n",
       "    <tr>\n",
       "      <th>A100K2WJXXOBXC</th>\n",
       "      <td>0</td>\n",
       "      <td>0</td>\n",
       "      <td>0</td>\n",
       "      <td>0</td>\n",
       "      <td>0</td>\n",
       "      <td>0</td>\n",
       "      <td>0</td>\n",
       "      <td>0</td>\n",
       "      <td>0</td>\n",
       "      <td>0</td>\n",
       "      <td>...</td>\n",
       "      <td>0</td>\n",
       "      <td>0</td>\n",
       "      <td>0</td>\n",
       "      <td>0</td>\n",
       "      <td>0</td>\n",
       "      <td>0</td>\n",
       "      <td>0</td>\n",
       "      <td>0</td>\n",
       "      <td>0</td>\n",
       "      <td>0</td>\n",
       "    </tr>\n",
       "    <tr>\n",
       "      <th>A100LYLLJ4GPPM</th>\n",
       "      <td>0</td>\n",
       "      <td>0</td>\n",
       "      <td>0</td>\n",
       "      <td>0</td>\n",
       "      <td>0</td>\n",
       "      <td>0</td>\n",
       "      <td>0</td>\n",
       "      <td>0</td>\n",
       "      <td>0</td>\n",
       "      <td>0</td>\n",
       "      <td>...</td>\n",
       "      <td>0</td>\n",
       "      <td>0</td>\n",
       "      <td>0</td>\n",
       "      <td>0</td>\n",
       "      <td>0</td>\n",
       "      <td>0</td>\n",
       "      <td>0</td>\n",
       "      <td>5</td>\n",
       "      <td>0</td>\n",
       "      <td>0</td>\n",
       "    </tr>\n",
       "    <tr>\n",
       "      <th>A101ZOK2TBMRRO</th>\n",
       "      <td>0</td>\n",
       "      <td>0</td>\n",
       "      <td>0</td>\n",
       "      <td>0</td>\n",
       "      <td>0</td>\n",
       "      <td>0</td>\n",
       "      <td>0</td>\n",
       "      <td>0</td>\n",
       "      <td>0</td>\n",
       "      <td>0</td>\n",
       "      <td>...</td>\n",
       "      <td>0</td>\n",
       "      <td>0</td>\n",
       "      <td>0</td>\n",
       "      <td>0</td>\n",
       "      <td>0</td>\n",
       "      <td>0</td>\n",
       "      <td>0</td>\n",
       "      <td>0</td>\n",
       "      <td>0</td>\n",
       "      <td>0</td>\n",
       "    </tr>\n",
       "  </tbody>\n",
       "</table>\n",
       "<p>5 rows × 287 columns</p>\n",
       "</div>"
      ],
      "text/plain": [
       "asin                  0140503528  0245109919  0439394058  043949950X  \\\n",
       "reviewerID                                                             \n",
       "A0440970QIFGYIPSB9LS           0           0           0           0   \n",
       "A0776669NZZD6IZI2J5P           0           0           0           0   \n",
       "A100K2WJXXOBXC                 0           0           0           0   \n",
       "A100LYLLJ4GPPM                 0           0           0           0   \n",
       "A101ZOK2TBMRRO                 0           0           0           0   \n",
       "\n",
       "asin                  0439537886  0439654939  0439731593  0439731771  \\\n",
       "reviewerID                                                             \n",
       "A0440970QIFGYIPSB9LS           0           0           0           0   \n",
       "A0776669NZZD6IZI2J5P           0           0           0           0   \n",
       "A100K2WJXXOBXC                 0           0           0           0   \n",
       "A100LYLLJ4GPPM                 0           0           0           0   \n",
       "A101ZOK2TBMRRO                 0           0           0           0   \n",
       "\n",
       "asin                  0439784395  0439893577  ...  1604189541  1604189568  \\\n",
       "reviewerID                                    ...                           \n",
       "A0440970QIFGYIPSB9LS           0           0  ...           0           0   \n",
       "A0776669NZZD6IZI2J5P           0           0  ...           0           0   \n",
       "A100K2WJXXOBXC                 0           0  ...           0           0   \n",
       "A100LYLLJ4GPPM                 0           0  ...           0           0   \n",
       "A101ZOK2TBMRRO                 0           0  ...           0           0   \n",
       "\n",
       "asin                  1605160091  1605160210  160516156X  1605161594  \\\n",
       "reviewerID                                                             \n",
       "A0440970QIFGYIPSB9LS           0           0           0           0   \n",
       "A0776669NZZD6IZI2J5P           0           0           0           0   \n",
       "A100K2WJXXOBXC                 0           0           0           0   \n",
       "A100LYLLJ4GPPM                 0           0           0           0   \n",
       "A101ZOK2TBMRRO                 0           0           0           0   \n",
       "\n",
       "asin                  1605161713  1605162957  160817641X  1608176428  \n",
       "reviewerID                                                            \n",
       "A0440970QIFGYIPSB9LS           0           0           0           0  \n",
       "A0776669NZZD6IZI2J5P           0           0           0           0  \n",
       "A100K2WJXXOBXC                 0           0           0           0  \n",
       "A100LYLLJ4GPPM                 0           5           0           0  \n",
       "A101ZOK2TBMRRO                 0           0           0           0  \n",
       "\n",
       "[5 rows x 287 columns]"
      ]
     },
     "execution_count": 29,
     "metadata": {},
     "output_type": "execute_result"
    }
   ],
   "source": [
    "rating_matrix = df1.pivot_table(values='overall',index='reviewerID',columns='asin',fill_value=0)\n",
    "rating_matrix.head()"
   ]
  },
  {
   "cell_type": "markdown",
   "id": "85885c6a",
   "metadata": {},
   "source": [
    "above we have created a pivot table of the rating where the value of the column will overall(rating) and index will be userid and the column name will be asin(product id)"
   ]
  },
  {
   "cell_type": "code",
   "execution_count": 30,
   "id": "c648a23c",
   "metadata": {},
   "outputs": [
    {
     "data": {
      "text/plain": [
       "(11667, 287)"
      ]
     },
     "execution_count": 30,
     "metadata": {},
     "output_type": "execute_result"
    }
   ],
   "source": [
    "rating_matrix.shape"
   ]
  },
  {
   "cell_type": "code",
   "execution_count": 31,
   "id": "d09905c7",
   "metadata": {},
   "outputs": [
    {
     "data": {
      "text/html": [
       "<div>\n",
       "<style scoped>\n",
       "    .dataframe tbody tr th:only-of-type {\n",
       "        vertical-align: middle;\n",
       "    }\n",
       "\n",
       "    .dataframe tbody tr th {\n",
       "        vertical-align: top;\n",
       "    }\n",
       "\n",
       "    .dataframe thead th {\n",
       "        text-align: right;\n",
       "    }\n",
       "</style>\n",
       "<table border=\"1\" class=\"dataframe\">\n",
       "  <thead>\n",
       "    <tr style=\"text-align: right;\">\n",
       "      <th>reviewerID</th>\n",
       "      <th>A0440970QIFGYIPSB9LS</th>\n",
       "      <th>A0776669NZZD6IZI2J5P</th>\n",
       "      <th>A100K2WJXXOBXC</th>\n",
       "      <th>A100LYLLJ4GPPM</th>\n",
       "      <th>A101ZOK2TBMRRO</th>\n",
       "      <th>A102G2EEYYFSR8</th>\n",
       "      <th>A10313KPNBUF6N</th>\n",
       "      <th>A1040IWUDHDH68</th>\n",
       "      <th>A1043K299ZPBF3</th>\n",
       "      <th>A104BYW1P6Q0U0</th>\n",
       "      <th>...</th>\n",
       "      <th>AZW2CVCM2V4EK</th>\n",
       "      <th>AZXC0JHMZMSYA</th>\n",
       "      <th>AZXGFH8WHIKDV</th>\n",
       "      <th>AZXS8AO1H2JBI</th>\n",
       "      <th>AZXVVYQVDJSM0</th>\n",
       "      <th>AZY0XLDB3N5AU</th>\n",
       "      <th>AZY609AUO78IN</th>\n",
       "      <th>AZY6MR9GIMQ4Y</th>\n",
       "      <th>AZZHMMFW41DFI</th>\n",
       "      <th>AZZKYP9254H32</th>\n",
       "    </tr>\n",
       "    <tr>\n",
       "      <th>asin</th>\n",
       "      <th></th>\n",
       "      <th></th>\n",
       "      <th></th>\n",
       "      <th></th>\n",
       "      <th></th>\n",
       "      <th></th>\n",
       "      <th></th>\n",
       "      <th></th>\n",
       "      <th></th>\n",
       "      <th></th>\n",
       "      <th></th>\n",
       "      <th></th>\n",
       "      <th></th>\n",
       "      <th></th>\n",
       "      <th></th>\n",
       "      <th></th>\n",
       "      <th></th>\n",
       "      <th></th>\n",
       "      <th></th>\n",
       "      <th></th>\n",
       "      <th></th>\n",
       "    </tr>\n",
       "  </thead>\n",
       "  <tbody>\n",
       "    <tr>\n",
       "      <th>0140503528</th>\n",
       "      <td>0.0</td>\n",
       "      <td>0.0</td>\n",
       "      <td>0.0</td>\n",
       "      <td>0.0</td>\n",
       "      <td>0.0</td>\n",
       "      <td>0.0</td>\n",
       "      <td>0.0</td>\n",
       "      <td>0.0</td>\n",
       "      <td>0.0</td>\n",
       "      <td>0.0</td>\n",
       "      <td>...</td>\n",
       "      <td>0.0</td>\n",
       "      <td>0.0</td>\n",
       "      <td>0.0</td>\n",
       "      <td>0.0</td>\n",
       "      <td>0.0</td>\n",
       "      <td>0.0</td>\n",
       "      <td>0.0</td>\n",
       "      <td>0.0</td>\n",
       "      <td>0.0</td>\n",
       "      <td>0.0</td>\n",
       "    </tr>\n",
       "    <tr>\n",
       "      <th>0245109919</th>\n",
       "      <td>0.0</td>\n",
       "      <td>0.0</td>\n",
       "      <td>0.0</td>\n",
       "      <td>0.0</td>\n",
       "      <td>0.0</td>\n",
       "      <td>0.0</td>\n",
       "      <td>0.0</td>\n",
       "      <td>0.0</td>\n",
       "      <td>0.0</td>\n",
       "      <td>0.0</td>\n",
       "      <td>...</td>\n",
       "      <td>0.0</td>\n",
       "      <td>0.0</td>\n",
       "      <td>0.0</td>\n",
       "      <td>0.0</td>\n",
       "      <td>0.0</td>\n",
       "      <td>0.0</td>\n",
       "      <td>0.0</td>\n",
       "      <td>0.0</td>\n",
       "      <td>0.0</td>\n",
       "      <td>0.0</td>\n",
       "    </tr>\n",
       "    <tr>\n",
       "      <th>0439394058</th>\n",
       "      <td>0.0</td>\n",
       "      <td>0.0</td>\n",
       "      <td>0.0</td>\n",
       "      <td>0.0</td>\n",
       "      <td>0.0</td>\n",
       "      <td>0.0</td>\n",
       "      <td>0.0</td>\n",
       "      <td>0.0</td>\n",
       "      <td>0.0</td>\n",
       "      <td>0.0</td>\n",
       "      <td>...</td>\n",
       "      <td>0.0</td>\n",
       "      <td>0.0</td>\n",
       "      <td>0.0</td>\n",
       "      <td>0.0</td>\n",
       "      <td>0.0</td>\n",
       "      <td>0.0</td>\n",
       "      <td>0.0</td>\n",
       "      <td>0.0</td>\n",
       "      <td>0.0</td>\n",
       "      <td>0.0</td>\n",
       "    </tr>\n",
       "    <tr>\n",
       "      <th>043949950X</th>\n",
       "      <td>0.0</td>\n",
       "      <td>0.0</td>\n",
       "      <td>0.0</td>\n",
       "      <td>0.0</td>\n",
       "      <td>0.0</td>\n",
       "      <td>0.0</td>\n",
       "      <td>0.0</td>\n",
       "      <td>0.0</td>\n",
       "      <td>0.0</td>\n",
       "      <td>0.0</td>\n",
       "      <td>...</td>\n",
       "      <td>0.0</td>\n",
       "      <td>0.0</td>\n",
       "      <td>0.0</td>\n",
       "      <td>0.0</td>\n",
       "      <td>0.0</td>\n",
       "      <td>0.0</td>\n",
       "      <td>0.0</td>\n",
       "      <td>0.0</td>\n",
       "      <td>0.0</td>\n",
       "      <td>0.0</td>\n",
       "    </tr>\n",
       "    <tr>\n",
       "      <th>0439537886</th>\n",
       "      <td>0.0</td>\n",
       "      <td>0.0</td>\n",
       "      <td>0.0</td>\n",
       "      <td>0.0</td>\n",
       "      <td>0.0</td>\n",
       "      <td>0.0</td>\n",
       "      <td>0.0</td>\n",
       "      <td>0.0</td>\n",
       "      <td>0.0</td>\n",
       "      <td>0.0</td>\n",
       "      <td>...</td>\n",
       "      <td>0.0</td>\n",
       "      <td>0.0</td>\n",
       "      <td>0.0</td>\n",
       "      <td>0.0</td>\n",
       "      <td>0.0</td>\n",
       "      <td>0.0</td>\n",
       "      <td>0.0</td>\n",
       "      <td>0.0</td>\n",
       "      <td>0.0</td>\n",
       "      <td>0.0</td>\n",
       "    </tr>\n",
       "  </tbody>\n",
       "</table>\n",
       "<p>5 rows × 11667 columns</p>\n",
       "</div>"
      ],
      "text/plain": [
       "reviewerID  A0440970QIFGYIPSB9LS  A0776669NZZD6IZI2J5P  A100K2WJXXOBXC  \\\n",
       "asin                                                                     \n",
       "0140503528                   0.0                   0.0             0.0   \n",
       "0245109919                   0.0                   0.0             0.0   \n",
       "0439394058                   0.0                   0.0             0.0   \n",
       "043949950X                   0.0                   0.0             0.0   \n",
       "0439537886                   0.0                   0.0             0.0   \n",
       "\n",
       "reviewerID  A100LYLLJ4GPPM  A101ZOK2TBMRRO  A102G2EEYYFSR8  A10313KPNBUF6N  \\\n",
       "asin                                                                         \n",
       "0140503528             0.0             0.0             0.0             0.0   \n",
       "0245109919             0.0             0.0             0.0             0.0   \n",
       "0439394058             0.0             0.0             0.0             0.0   \n",
       "043949950X             0.0             0.0             0.0             0.0   \n",
       "0439537886             0.0             0.0             0.0             0.0   \n",
       "\n",
       "reviewerID  A1040IWUDHDH68  A1043K299ZPBF3  A104BYW1P6Q0U0  ...  \\\n",
       "asin                                                        ...   \n",
       "0140503528             0.0             0.0             0.0  ...   \n",
       "0245109919             0.0             0.0             0.0  ...   \n",
       "0439394058             0.0             0.0             0.0  ...   \n",
       "043949950X             0.0             0.0             0.0  ...   \n",
       "0439537886             0.0             0.0             0.0  ...   \n",
       "\n",
       "reviewerID  AZW2CVCM2V4EK  AZXC0JHMZMSYA  AZXGFH8WHIKDV  AZXS8AO1H2JBI  \\\n",
       "asin                                                                     \n",
       "0140503528            0.0            0.0            0.0            0.0   \n",
       "0245109919            0.0            0.0            0.0            0.0   \n",
       "0439394058            0.0            0.0            0.0            0.0   \n",
       "043949950X            0.0            0.0            0.0            0.0   \n",
       "0439537886            0.0            0.0            0.0            0.0   \n",
       "\n",
       "reviewerID  AZXVVYQVDJSM0  AZY0XLDB3N5AU  AZY609AUO78IN  AZY6MR9GIMQ4Y  \\\n",
       "asin                                                                     \n",
       "0140503528            0.0            0.0            0.0            0.0   \n",
       "0245109919            0.0            0.0            0.0            0.0   \n",
       "0439394058            0.0            0.0            0.0            0.0   \n",
       "043949950X            0.0            0.0            0.0            0.0   \n",
       "0439537886            0.0            0.0            0.0            0.0   \n",
       "\n",
       "reviewerID  AZZHMMFW41DFI  AZZKYP9254H32  \n",
       "asin                                      \n",
       "0140503528            0.0            0.0  \n",
       "0245109919            0.0            0.0  \n",
       "0439394058            0.0            0.0  \n",
       "043949950X            0.0            0.0  \n",
       "0439537886            0.0            0.0  \n",
       "\n",
       "[5 rows x 11667 columns]"
      ]
     },
     "execution_count": 31,
     "metadata": {},
     "output_type": "execute_result"
    }
   ],
   "source": [
    "# transpose\n",
    "x_rating_matrix = rating_matrix.T\n",
    "x_rating_matrix.head()"
   ]
  },
  {
   "cell_type": "code",
   "execution_count": 32,
   "id": "18164d92",
   "metadata": {},
   "outputs": [
    {
     "data": {
      "text/plain": [
       "(287, 11667)"
      ]
     },
     "execution_count": 32,
     "metadata": {},
     "output_type": "execute_result"
    }
   ],
   "source": [
    "x_rating_matrix.shape"
   ]
  },
  {
   "cell_type": "code",
   "execution_count": 33,
   "id": "6a44bfa0",
   "metadata": {},
   "outputs": [],
   "source": [
    "# Decomposition of the matrix\n",
    "from sklearn.decomposition import TruncatedSVD"
   ]
  },
  {
   "cell_type": "code",
   "execution_count": 34,
   "id": "b88a2acb",
   "metadata": {},
   "outputs": [
    {
     "data": {
      "text/plain": [
       "(287, 10)"
      ]
     },
     "execution_count": 34,
     "metadata": {},
     "output_type": "execute_result"
    }
   ],
   "source": [
    "SVD = TruncatedSVD(n_components=10)\n",
    "decomposed_matrix = SVD.fit_transform(x_rating_matrix)\n",
    "decomposed_matrix.shape"
   ]
  },
  {
   "cell_type": "code",
   "execution_count": 35,
   "id": "f7b7a77a",
   "metadata": {},
   "outputs": [
    {
     "data": {
      "text/plain": [
       "(287, 287)"
      ]
     },
     "execution_count": 35,
     "metadata": {},
     "output_type": "execute_result"
    }
   ],
   "source": [
    "#corelation matrix\n",
    "correlation_matrix = np.corrcoef(decomposed_matrix)\n",
    "correlation_matrix.shape"
   ]
  },
  {
   "cell_type": "code",
   "execution_count": 36,
   "id": "d7d223f1",
   "metadata": {},
   "outputs": [
    {
     "data": {
      "text/plain": [
       "'0439899095'"
      ]
     },
     "execution_count": 36,
     "metadata": {},
     "output_type": "execute_result"
    }
   ],
   "source": [
    "x_rating_matrix.index[10]"
   ]
  },
  {
   "cell_type": "code",
   "execution_count": 37,
   "id": "eb8a2856",
   "metadata": {},
   "outputs": [
    {
     "name": "stdout",
     "output_type": "stream",
     "text": [
      "10\n"
     ]
    }
   ],
   "source": [
    "i=\"0439899095\"\n",
    "product_name = list(x_rating_matrix.index)\n",
    "product_id = product_name.index(i)\n",
    "print(product_id)"
   ]
  },
  {
   "cell_type": "code",
   "execution_count": 38,
   "id": "ff059f98",
   "metadata": {},
   "outputs": [
    {
     "data": {
      "text/plain": [
       "(287,)"
      ]
     },
     "execution_count": 38,
     "metadata": {},
     "output_type": "execute_result"
    }
   ],
   "source": [
    "correlation_product_id = correlation_matrix[product_id]\n",
    "correlation_product_id.shape"
   ]
  },
  {
   "cell_type": "code",
   "execution_count": 39,
   "id": "7b7c4e9d",
   "metadata": {},
   "outputs": [
    {
     "data": {
      "text/plain": [
       "(3, 287)"
      ]
     },
     "execution_count": 39,
     "metadata": {},
     "output_type": "execute_result"
    }
   ],
   "source": [
    "correlation_matrix[correlation_product_id>0.85].shape"
   ]
  },
  {
   "cell_type": "code",
   "execution_count": 40,
   "id": "38753ff3",
   "metadata": {},
   "outputs": [],
   "source": [
    "#reccomending top 20 highly correlated products in sequence\n",
    "recommend = list(x_rating_matrix.index[correlation_product_id > 0.95])\n",
    "recco=recommend[:20]"
   ]
  },
  {
   "cell_type": "code",
   "execution_count": 41,
   "id": "1ef65276",
   "metadata": {},
   "outputs": [],
   "source": [
    "rec=pd.DataFrame(recco,columns=['asin'])"
   ]
  },
  {
   "cell_type": "code",
   "execution_count": 42,
   "id": "07620acb",
   "metadata": {},
   "outputs": [],
   "source": [
    "final=pd.merge(df,rec,on='asin',how='inner')"
   ]
  },
  {
   "cell_type": "code",
   "execution_count": 43,
   "id": "87f28f14",
   "metadata": {},
   "outputs": [
    {
     "data": {
      "text/html": [
       "<div>\n",
       "<style scoped>\n",
       "    .dataframe tbody tr th:only-of-type {\n",
       "        vertical-align: middle;\n",
       "    }\n",
       "\n",
       "    .dataframe tbody tr th {\n",
       "        vertical-align: top;\n",
       "    }\n",
       "\n",
       "    .dataframe thead th {\n",
       "        text-align: right;\n",
       "    }\n",
       "</style>\n",
       "<table border=\"1\" class=\"dataframe\">\n",
       "  <thead>\n",
       "    <tr style=\"text-align: right;\">\n",
       "      <th></th>\n",
       "      <th>title</th>\n",
       "      <th>asin</th>\n",
       "      <th>overall</th>\n",
       "    </tr>\n",
       "  </thead>\n",
       "  <tbody>\n",
       "    <tr>\n",
       "      <th>0</th>\n",
       "      <td>Differentiated Literacy Centers: 85 + Leveled ...</td>\n",
       "      <td>0439899095</td>\n",
       "      <td>3</td>\n",
       "    </tr>\n",
       "    <tr>\n",
       "      <th>1</th>\n",
       "      <td>Differentiated Literacy Centers: 85 + Leveled ...</td>\n",
       "      <td>0439899095</td>\n",
       "      <td>4</td>\n",
       "    </tr>\n",
       "    <tr>\n",
       "      <th>2</th>\n",
       "      <td>Differentiated Literacy Centers: 85 + Leveled ...</td>\n",
       "      <td>0439899095</td>\n",
       "      <td>3</td>\n",
       "    </tr>\n",
       "    <tr>\n",
       "      <th>3</th>\n",
       "      <td>Differentiated Literacy Centers: 85 + Leveled ...</td>\n",
       "      <td>0439899095</td>\n",
       "      <td>5</td>\n",
       "    </tr>\n",
       "    <tr>\n",
       "      <th>4</th>\n",
       "      <td>Differentiated Literacy Centers: 85 + Leveled ...</td>\n",
       "      <td>0439899095</td>\n",
       "      <td>5</td>\n",
       "    </tr>\n",
       "  </tbody>\n",
       "</table>\n",
       "</div>"
      ],
      "text/plain": [
       "                                               title        asin  overall\n",
       "0  Differentiated Literacy Centers: 85 + Leveled ...  0439899095        3\n",
       "1  Differentiated Literacy Centers: 85 + Leveled ...  0439899095        4\n",
       "2  Differentiated Literacy Centers: 85 + Leveled ...  0439899095        3\n",
       "3  Differentiated Literacy Centers: 85 + Leveled ...  0439899095        5\n",
       "4  Differentiated Literacy Centers: 85 + Leveled ...  0439899095        5"
      ]
     },
     "execution_count": 43,
     "metadata": {},
     "output_type": "execute_result"
    }
   ],
   "source": [
    "final[['title','asin','overall']]"
   ]
  },
  {
   "cell_type": "markdown",
   "id": "15e5ed5f",
   "metadata": {},
   "source": [
    "## Final Output:\n",
    "\n",
    "Display the top recommended products along with their titles and ratings to the user."
   ]
  },
  {
   "cell_type": "code",
   "execution_count": 44,
   "id": "6647abda",
   "metadata": {},
   "outputs": [
    {
     "data": {
      "text/plain": [
       "array(['Differentiated Literacy Centers: 85 + Leveled Activities-With Reproducible Planning Sheets and Student Pages-to Support Centers in Fluency, Reading Comprehension, and Word Study'],\n",
       "      dtype=object)"
      ]
     },
     "execution_count": 44,
     "metadata": {},
     "output_type": "execute_result"
    }
   ],
   "source": [
    "unique_values=final['title'].unique()"
   ]
  },
  {
   "cell_type": "code",
   "execution_count": 47,
   "id": "0d292e46",
   "metadata": {},
   "outputs": [
    {
     "data": {
      "text/plain": [
       "array(['Differentiated Literacy Centers: 85 + Leveled Activities-With Reproducible Planning Sheets and Student Pages-to Support Centers in Fluency, Reading Comprehension, and Word Study'],\n",
       "      dtype=object)"
      ]
     },
     "execution_count": 47,
     "metadata": {},
     "output_type": "execute_result"
    }
   ],
   "source": [
    "unique_values"
   ]
  },
  {
   "cell_type": "markdown",
   "id": "7b58602b",
   "metadata": {},
   "source": [
    "**These are the recommended product using collabration method**"
   ]
  },
  {
   "cell_type": "markdown",
   "id": "323f592d",
   "metadata": {},
   "source": [
    "## Conclusion:\n",
    "This project aims to provide personalized product recommendations to users by leveraging collaborative filtering techniques. It utilizes both memory-based and model-based approaches to analyze user-item interactions and identify patterns in the data. The final output is a list of recommended products tailored to each user's preferences, thereby enhancing their shopping experience and increasing user engagement."
   ]
  }
 ],
 "metadata": {
  "kernelspec": {
   "display_name": "Python 3 (ipykernel)",
   "language": "python",
   "name": "python3"
  },
  "language_info": {
   "codemirror_mode": {
    "name": "ipython",
    "version": 3
   },
   "file_extension": ".py",
   "mimetype": "text/x-python",
   "name": "python",
   "nbconvert_exporter": "python",
   "pygments_lexer": "ipython3",
   "version": "3.9.13"
  }
 },
 "nbformat": 4,
 "nbformat_minor": 5
}
