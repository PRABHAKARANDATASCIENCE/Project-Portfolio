{
 "cells": [
  {
   "cell_type": "markdown",
   "id": "d2e83499",
   "metadata": {},
   "source": [
    "# Recommendation based on collaboration Sports Category"
   ]
  },
  {
   "cell_type": "code",
   "execution_count": 1,
   "id": "7538a068",
   "metadata": {},
   "outputs": [
    {
     "name": "stdout",
     "output_type": "stream",
     "text": [
      "Requirement already satisfied: huggingface_hub[cli] in c:\\users\\prabh\\anaconda3\\lib\\site-packages (0.19.4)\n",
      "Requirement already satisfied: pyyaml>=5.1 in c:\\users\\prabh\\anaconda3\\lib\\site-packages (from huggingface_hub[cli]) (6.0)\n",
      "Requirement already satisfied: filelock in c:\\users\\prabh\\anaconda3\\lib\\site-packages (from huggingface_hub[cli]) (3.6.0)\n",
      "Requirement already satisfied: requests in c:\\users\\prabh\\anaconda3\\lib\\site-packages (from huggingface_hub[cli]) (2.28.1)\n",
      "Requirement already satisfied: tqdm>=4.42.1 in c:\\users\\prabh\\anaconda3\\lib\\site-packages (from huggingface_hub[cli]) (4.64.1)\n",
      "Requirement already satisfied: packaging>=20.9 in c:\\users\\prabh\\anaconda3\\lib\\site-packages (from huggingface_hub[cli]) (21.3)\n",
      "Requirement already satisfied: fsspec>=2023.5.0 in c:\\users\\prabh\\anaconda3\\lib\\site-packages (from huggingface_hub[cli]) (2023.12.2)\n",
      "Requirement already satisfied: typing-extensions>=3.7.4.3 in c:\\users\\prabh\\anaconda3\\lib\\site-packages (from huggingface_hub[cli]) (4.9.0)\n",
      "Requirement already satisfied: InquirerPy==0.3.4 in c:\\users\\prabh\\anaconda3\\lib\\site-packages (from huggingface_hub[cli]) (0.3.4)\n",
      "Requirement already satisfied: prompt-toolkit<4.0.0,>=3.0.1 in c:\\users\\prabh\\anaconda3\\lib\\site-packages (from InquirerPy==0.3.4->huggingface_hub[cli]) (3.0.20)\n",
      "Requirement already satisfied: pfzy<0.4.0,>=0.3.1 in c:\\users\\prabh\\anaconda3\\lib\\site-packages (from InquirerPy==0.3.4->huggingface_hub[cli]) (0.3.4)\n",
      "Requirement already satisfied: pyparsing!=3.0.5,>=2.0.2 in c:\\users\\prabh\\anaconda3\\lib\\site-packages (from packaging>=20.9->huggingface_hub[cli]) (3.0.9)\n",
      "Requirement already satisfied: colorama in c:\\users\\prabh\\anaconda3\\lib\\site-packages (from tqdm>=4.42.1->huggingface_hub[cli]) (0.4.6)\n",
      "Requirement already satisfied: certifi>=2017.4.17 in c:\\users\\prabh\\anaconda3\\lib\\site-packages (from requests->huggingface_hub[cli]) (2023.11.17)\n",
      "Requirement already satisfied: charset-normalizer<3,>=2 in c:\\users\\prabh\\anaconda3\\lib\\site-packages (from requests->huggingface_hub[cli]) (2.0.4)\n",
      "Requirement already satisfied: idna<4,>=2.5 in c:\\users\\prabh\\anaconda3\\lib\\site-packages (from requests->huggingface_hub[cli]) (3.3)\n",
      "Requirement already satisfied: urllib3<1.27,>=1.21.1 in c:\\users\\prabh\\anaconda3\\lib\\site-packages (from requests->huggingface_hub[cli]) (1.26.11)\n",
      "Requirement already satisfied: wcwidth in c:\\users\\prabh\\anaconda3\\lib\\site-packages (from prompt-toolkit<4.0.0,>=3.0.1->InquirerPy==0.3.4->huggingface_hub[cli]) (0.2.5)\n",
      "Note: you may need to restart the kernel to use updated packages.\n"
     ]
    }
   ],
   "source": [
    "pip install huggingface_hub[\"cli\"]"
   ]
  },
  {
   "cell_type": "markdown",
   "id": "fdd40ad4",
   "metadata": {},
   "source": [
    "## Project Overview:\n",
    "The project focuses on building a recommender system that suggests products to users based on their past ratings and preferences. It employs two main approaches: memory-based collaborative filtering and model-based collaborative filtering.\n",
    "\n",
    "### Data Loading and Preprocessing:\n",
    "- Load the dataset containing user ratings for products (presumably from an e-commerce platform).\n",
    "- Select relevant columns such as reviewerID, asin (product ID), and overall (rating)."
   ]
  },
  {
   "cell_type": "code",
   "execution_count": 2,
   "id": "f2e28a00",
   "metadata": {},
   "outputs": [],
   "source": [
    "import numpy as np\n",
    "import pandas as pd\n",
    "\n",
    "import matplotlib.pyplot as plt\n",
    "import seaborn as sb"
   ]
  },
  {
   "cell_type": "code",
   "execution_count": 3,
   "id": "c706f259",
   "metadata": {},
   "outputs": [
    {
     "data": {
      "text/html": [
       "<div>\n",
       "<style scoped>\n",
       "    .dataframe tbody tr th:only-of-type {\n",
       "        vertical-align: middle;\n",
       "    }\n",
       "\n",
       "    .dataframe tbody tr th {\n",
       "        vertical-align: top;\n",
       "    }\n",
       "\n",
       "    .dataframe thead th {\n",
       "        text-align: right;\n",
       "    }\n",
       "</style>\n",
       "<table border=\"1\" class=\"dataframe\">\n",
       "  <thead>\n",
       "    <tr style=\"text-align: right;\">\n",
       "      <th></th>\n",
       "      <th>Unnamed: 0</th>\n",
       "      <th>category</th>\n",
       "      <th>description</th>\n",
       "      <th>title</th>\n",
       "      <th>brand</th>\n",
       "      <th>date</th>\n",
       "      <th>price</th>\n",
       "      <th>asin</th>\n",
       "      <th>imageURL</th>\n",
       "      <th>overall</th>\n",
       "      <th>verified</th>\n",
       "      <th>reviewTime</th>\n",
       "      <th>reviewText</th>\n",
       "      <th>reviewerID</th>\n",
       "      <th>Sentimental</th>\n",
       "    </tr>\n",
       "  </thead>\n",
       "  <tbody>\n",
       "    <tr>\n",
       "      <th>0</th>\n",
       "      <td>128</td>\n",
       "      <td>['Sports &amp; Outdoors', 'Outdoor Recreation', 'C...</td>\n",
       "      <td>[\"Rely on delorme ATLAS &amp; gazetteer paper maps...</td>\n",
       "      <td>Garmin DeLorme Atlas &amp;amp; Gazetteer Paper Map...</td>\n",
       "      <td>Garmin</td>\n",
       "      <td>2003-08-04</td>\n",
       "      <td>21.96</td>\n",
       "      <td>0899333257</td>\n",
       "      <td>['https://images-na.ssl-images-amazon.com/imag...</td>\n",
       "      <td>5</td>\n",
       "      <td>False</td>\n",
       "      <td>01 25, 2008</td>\n",
       "      <td>These Delorme Atlas &amp; Gazetters are wondeful. ...</td>\n",
       "      <td>A2IUHI0QMEC9US</td>\n",
       "      <td>Positive</td>\n",
       "    </tr>\n",
       "    <tr>\n",
       "      <th>1</th>\n",
       "      <td>129</td>\n",
       "      <td>['Sports &amp; Outdoors', 'Outdoor Recreation', 'C...</td>\n",
       "      <td>[\"Rely on delorme ATLAS &amp; gazetteer paper maps...</td>\n",
       "      <td>Garmin DeLorme Atlas &amp;amp; Gazetteer Paper Map...</td>\n",
       "      <td>Garmin</td>\n",
       "      <td>2003-08-04</td>\n",
       "      <td>21.96</td>\n",
       "      <td>0899333257</td>\n",
       "      <td>['https://images-na.ssl-images-amazon.com/imag...</td>\n",
       "      <td>3</td>\n",
       "      <td>False</td>\n",
       "      <td>10 28, 2007</td>\n",
       "      <td>I purchased the maps so I could see the elevat...</td>\n",
       "      <td>APPM2Z3VPETEX</td>\n",
       "      <td>Neutral</td>\n",
       "    </tr>\n",
       "    <tr>\n",
       "      <th>2</th>\n",
       "      <td>130</td>\n",
       "      <td>['Sports &amp; Outdoors', 'Outdoor Recreation', 'C...</td>\n",
       "      <td>[\"Rely on delorme ATLAS &amp; gazetteer paper maps...</td>\n",
       "      <td>Garmin DeLorme Atlas &amp;amp; Gazetteer Paper Map...</td>\n",
       "      <td>Garmin</td>\n",
       "      <td>2003-08-04</td>\n",
       "      <td>21.96</td>\n",
       "      <td>0899333257</td>\n",
       "      <td>['https://images-na.ssl-images-amazon.com/imag...</td>\n",
       "      <td>5</td>\n",
       "      <td>True</td>\n",
       "      <td>05 7, 2007</td>\n",
       "      <td>Great Product! Nearly as good as having a sepe...</td>\n",
       "      <td>A210MD07WALT56</td>\n",
       "      <td>Positive</td>\n",
       "    </tr>\n",
       "    <tr>\n",
       "      <th>3</th>\n",
       "      <td>131</td>\n",
       "      <td>['Sports &amp; Outdoors', 'Outdoor Recreation', 'C...</td>\n",
       "      <td>[\"Rely on delorme ATLAS &amp; gazetteer paper maps...</td>\n",
       "      <td>Garmin DeLorme Atlas &amp;amp; Gazetteer Paper Map...</td>\n",
       "      <td>Garmin</td>\n",
       "      <td>2003-08-04</td>\n",
       "      <td>21.96</td>\n",
       "      <td>0899333257</td>\n",
       "      <td>['https://images-na.ssl-images-amazon.com/imag...</td>\n",
       "      <td>5</td>\n",
       "      <td>True</td>\n",
       "      <td>04 3, 2007</td>\n",
       "      <td>I have nothing but praise for DeLorme.  We hav...</td>\n",
       "      <td>A2DTG02DSNOLQY</td>\n",
       "      <td>Positive</td>\n",
       "    </tr>\n",
       "    <tr>\n",
       "      <th>4</th>\n",
       "      <td>132</td>\n",
       "      <td>['Sports &amp; Outdoors', 'Outdoor Recreation', 'C...</td>\n",
       "      <td>[\"Rely on delorme ATLAS &amp; gazetteer paper maps...</td>\n",
       "      <td>Garmin DeLorme Atlas &amp;amp; Gazetteer Paper Map...</td>\n",
       "      <td>Garmin</td>\n",
       "      <td>2003-08-04</td>\n",
       "      <td>21.96</td>\n",
       "      <td>0899333257</td>\n",
       "      <td>['https://images-na.ssl-images-amazon.com/imag...</td>\n",
       "      <td>5</td>\n",
       "      <td>True</td>\n",
       "      <td>02 15, 2007</td>\n",
       "      <td>This is a must have for finding the tucked awa...</td>\n",
       "      <td>A1T4WK0L835QHQ</td>\n",
       "      <td>Positive</td>\n",
       "    </tr>\n",
       "  </tbody>\n",
       "</table>\n",
       "</div>"
      ],
      "text/plain": [
       "   Unnamed: 0                                           category  \\\n",
       "0         128  ['Sports & Outdoors', 'Outdoor Recreation', 'C...   \n",
       "1         129  ['Sports & Outdoors', 'Outdoor Recreation', 'C...   \n",
       "2         130  ['Sports & Outdoors', 'Outdoor Recreation', 'C...   \n",
       "3         131  ['Sports & Outdoors', 'Outdoor Recreation', 'C...   \n",
       "4         132  ['Sports & Outdoors', 'Outdoor Recreation', 'C...   \n",
       "\n",
       "                                         description  \\\n",
       "0  [\"Rely on delorme ATLAS & gazetteer paper maps...   \n",
       "1  [\"Rely on delorme ATLAS & gazetteer paper maps...   \n",
       "2  [\"Rely on delorme ATLAS & gazetteer paper maps...   \n",
       "3  [\"Rely on delorme ATLAS & gazetteer paper maps...   \n",
       "4  [\"Rely on delorme ATLAS & gazetteer paper maps...   \n",
       "\n",
       "                                               title   brand        date  \\\n",
       "0  Garmin DeLorme Atlas &amp; Gazetteer Paper Map...  Garmin  2003-08-04   \n",
       "1  Garmin DeLorme Atlas &amp; Gazetteer Paper Map...  Garmin  2003-08-04   \n",
       "2  Garmin DeLorme Atlas &amp; Gazetteer Paper Map...  Garmin  2003-08-04   \n",
       "3  Garmin DeLorme Atlas &amp; Gazetteer Paper Map...  Garmin  2003-08-04   \n",
       "4  Garmin DeLorme Atlas &amp; Gazetteer Paper Map...  Garmin  2003-08-04   \n",
       "\n",
       "   price        asin                                           imageURL  \\\n",
       "0  21.96  0899333257  ['https://images-na.ssl-images-amazon.com/imag...   \n",
       "1  21.96  0899333257  ['https://images-na.ssl-images-amazon.com/imag...   \n",
       "2  21.96  0899333257  ['https://images-na.ssl-images-amazon.com/imag...   \n",
       "3  21.96  0899333257  ['https://images-na.ssl-images-amazon.com/imag...   \n",
       "4  21.96  0899333257  ['https://images-na.ssl-images-amazon.com/imag...   \n",
       "\n",
       "   overall  verified   reviewTime  \\\n",
       "0        5     False  01 25, 2008   \n",
       "1        3     False  10 28, 2007   \n",
       "2        5      True   05 7, 2007   \n",
       "3        5      True   04 3, 2007   \n",
       "4        5      True  02 15, 2007   \n",
       "\n",
       "                                          reviewText      reviewerID  \\\n",
       "0  These Delorme Atlas & Gazetters are wondeful. ...  A2IUHI0QMEC9US   \n",
       "1  I purchased the maps so I could see the elevat...   APPM2Z3VPETEX   \n",
       "2  Great Product! Nearly as good as having a sepe...  A210MD07WALT56   \n",
       "3  I have nothing but praise for DeLorme.  We hav...  A2DTG02DSNOLQY   \n",
       "4  This is a must have for finding the tucked awa...  A1T4WK0L835QHQ   \n",
       "\n",
       "  Sentimental  \n",
       "0    Positive  \n",
       "1     Neutral  \n",
       "2    Positive  \n",
       "3    Positive  \n",
       "4    Positive  "
      ]
     },
     "execution_count": 3,
     "metadata": {},
     "output_type": "execute_result"
    }
   ],
   "source": [
    "df= pd.read_csv('t2.csv')\n",
    "df.head()"
   ]
  },
  {
   "cell_type": "code",
   "execution_count": 4,
   "id": "5b57e371",
   "metadata": {},
   "outputs": [
    {
     "data": {
      "text/html": [
       "<div>\n",
       "<style scoped>\n",
       "    .dataframe tbody tr th:only-of-type {\n",
       "        vertical-align: middle;\n",
       "    }\n",
       "\n",
       "    .dataframe tbody tr th {\n",
       "        vertical-align: top;\n",
       "    }\n",
       "\n",
       "    .dataframe thead th {\n",
       "        text-align: right;\n",
       "    }\n",
       "</style>\n",
       "<table border=\"1\" class=\"dataframe\">\n",
       "  <thead>\n",
       "    <tr style=\"text-align: right;\">\n",
       "      <th></th>\n",
       "      <th>reviewerID</th>\n",
       "      <th>asin</th>\n",
       "      <th>overall</th>\n",
       "    </tr>\n",
       "  </thead>\n",
       "  <tbody>\n",
       "    <tr>\n",
       "      <th>0</th>\n",
       "      <td>A2IUHI0QMEC9US</td>\n",
       "      <td>0899333257</td>\n",
       "      <td>5</td>\n",
       "    </tr>\n",
       "    <tr>\n",
       "      <th>1</th>\n",
       "      <td>APPM2Z3VPETEX</td>\n",
       "      <td>0899333257</td>\n",
       "      <td>3</td>\n",
       "    </tr>\n",
       "    <tr>\n",
       "      <th>2</th>\n",
       "      <td>A210MD07WALT56</td>\n",
       "      <td>0899333257</td>\n",
       "      <td>5</td>\n",
       "    </tr>\n",
       "    <tr>\n",
       "      <th>3</th>\n",
       "      <td>A2DTG02DSNOLQY</td>\n",
       "      <td>0899333257</td>\n",
       "      <td>5</td>\n",
       "    </tr>\n",
       "    <tr>\n",
       "      <th>4</th>\n",
       "      <td>A1T4WK0L835QHQ</td>\n",
       "      <td>0899333257</td>\n",
       "      <td>5</td>\n",
       "    </tr>\n",
       "  </tbody>\n",
       "</table>\n",
       "</div>"
      ],
      "text/plain": [
       "       reviewerID        asin  overall\n",
       "0  A2IUHI0QMEC9US  0899333257        5\n",
       "1   APPM2Z3VPETEX  0899333257        3\n",
       "2  A210MD07WALT56  0899333257        5\n",
       "3  A2DTG02DSNOLQY  0899333257        5\n",
       "4  A1T4WK0L835QHQ  0899333257        5"
      ]
     },
     "execution_count": 4,
     "metadata": {},
     "output_type": "execute_result"
    }
   ],
   "source": [
    "df1=df[['reviewerID','asin','overall']][:12000]\n",
    "df1.head()"
   ]
  },
  {
   "cell_type": "markdown",
   "id": "51b4bdc0",
   "metadata": {},
   "source": [
    "## Data Exploration:\n",
    "Explore basic statistics and visualizations to understand the distribution of ratings and user behavior."
   ]
  },
  {
   "cell_type": "code",
   "execution_count": 5,
   "id": "81b15403",
   "metadata": {},
   "outputs": [
    {
     "name": "stdout",
     "output_type": "stream",
     "text": [
      "<class 'pandas.core.frame.DataFrame'>\n",
      "RangeIndex: 2683 entries, 0 to 2682\n",
      "Data columns (total 3 columns):\n",
      " #   Column      Non-Null Count  Dtype \n",
      "---  ------      --------------  ----- \n",
      " 0   reviewerID  2683 non-null   object\n",
      " 1   asin        2683 non-null   object\n",
      " 2   overall     2683 non-null   int64 \n",
      "dtypes: int64(1), object(2)\n",
      "memory usage: 63.0+ KB\n"
     ]
    }
   ],
   "source": [
    "df1.info()"
   ]
  },
  {
   "cell_type": "code",
   "execution_count": 6,
   "id": "24453449",
   "metadata": {},
   "outputs": [
    {
     "data": {
      "text/html": [
       "<div>\n",
       "<style scoped>\n",
       "    .dataframe tbody tr th:only-of-type {\n",
       "        vertical-align: middle;\n",
       "    }\n",
       "\n",
       "    .dataframe tbody tr th {\n",
       "        vertical-align: top;\n",
       "    }\n",
       "\n",
       "    .dataframe thead th {\n",
       "        text-align: right;\n",
       "    }\n",
       "</style>\n",
       "<table border=\"1\" class=\"dataframe\">\n",
       "  <thead>\n",
       "    <tr style=\"text-align: right;\">\n",
       "      <th></th>\n",
       "      <th>overall</th>\n",
       "    </tr>\n",
       "  </thead>\n",
       "  <tbody>\n",
       "    <tr>\n",
       "      <th>count</th>\n",
       "      <td>2683.000000</td>\n",
       "    </tr>\n",
       "    <tr>\n",
       "      <th>mean</th>\n",
       "      <td>4.101006</td>\n",
       "    </tr>\n",
       "    <tr>\n",
       "      <th>std</th>\n",
       "      <td>1.344698</td>\n",
       "    </tr>\n",
       "    <tr>\n",
       "      <th>min</th>\n",
       "      <td>1.000000</td>\n",
       "    </tr>\n",
       "    <tr>\n",
       "      <th>25%</th>\n",
       "      <td>4.000000</td>\n",
       "    </tr>\n",
       "    <tr>\n",
       "      <th>50%</th>\n",
       "      <td>5.000000</td>\n",
       "    </tr>\n",
       "    <tr>\n",
       "      <th>75%</th>\n",
       "      <td>5.000000</td>\n",
       "    </tr>\n",
       "    <tr>\n",
       "      <th>max</th>\n",
       "      <td>5.000000</td>\n",
       "    </tr>\n",
       "  </tbody>\n",
       "</table>\n",
       "</div>"
      ],
      "text/plain": [
       "           overall\n",
       "count  2683.000000\n",
       "mean      4.101006\n",
       "std       1.344698\n",
       "min       1.000000\n",
       "25%       4.000000\n",
       "50%       5.000000\n",
       "75%       5.000000\n",
       "max       5.000000"
      ]
     },
     "execution_count": 6,
     "metadata": {},
     "output_type": "execute_result"
    }
   ],
   "source": [
    "df1.describe()"
   ]
  },
  {
   "cell_type": "code",
   "execution_count": 7,
   "id": "00e6cd5e",
   "metadata": {},
   "outputs": [
    {
     "data": {
      "text/plain": [
       "reviewerID    0\n",
       "asin          0\n",
       "overall       0\n",
       "dtype: int64"
      ]
     },
     "execution_count": 7,
     "metadata": {},
     "output_type": "execute_result"
    }
   ],
   "source": [
    "df1.isnull().sum()"
   ]
  },
  {
   "cell_type": "code",
   "execution_count": 8,
   "id": "8ff7400f",
   "metadata": {},
   "outputs": [
    {
     "data": {
      "text/plain": [
       "(2683, 3)"
      ]
     },
     "execution_count": 8,
     "metadata": {},
     "output_type": "execute_result"
    }
   ],
   "source": [
    "df1.shape"
   ]
  },
  {
   "cell_type": "code",
   "execution_count": 9,
   "id": "f8051d9f",
   "metadata": {},
   "outputs": [],
   "source": [
    "df1.drop_duplicates(inplace=True)"
   ]
  },
  {
   "cell_type": "code",
   "execution_count": 10,
   "id": "232541e9",
   "metadata": {},
   "outputs": [
    {
     "data": {
      "text/plain": [
       "(1415, 3)"
      ]
     },
     "execution_count": 10,
     "metadata": {},
     "output_type": "execute_result"
    }
   ],
   "source": [
    "df1.shape"
   ]
  },
  {
   "cell_type": "code",
   "execution_count": 11,
   "id": "6dc98e3c",
   "metadata": {},
   "outputs": [
    {
     "name": "stderr",
     "output_type": "stream",
     "text": [
      "C:\\Users\\prabh\\anaconda3\\lib\\site-packages\\seaborn\\_decorators.py:36: FutureWarning: Pass the following variable as a keyword arg: x. From version 0.12, the only valid positional argument will be `data`, and passing other arguments without an explicit keyword will result in an error or misinterpretation.\n",
      "  warnings.warn(\n"
     ]
    },
    {
     "data": {
      "text/plain": [
       "<AxesSubplot:xlabel='overall', ylabel='count'>"
      ]
     },
     "execution_count": 11,
     "metadata": {},
     "output_type": "execute_result"
    },
    {
     "data": {
      "image/png": "[encoded data removed]",
      "text/plain": [
       "<Figure size 640x480 with 1 Axes>"
      ]
     },
     "metadata": {},
     "output_type": "display_data"
    }
   ],
   "source": [
    "sb.countplot(df1['overall'])"
   ]
  },
  {
   "cell_type": "code",
   "execution_count": 12,
   "id": "1bc728da",
   "metadata": {},
   "outputs": [
    {
     "name": "stdout",
     "output_type": "stream",
     "text": [
      "total rating = 1415\n",
      "Total unique users =  1407\n",
      "Total unique Products =  9\n"
     ]
    }
   ],
   "source": [
    "print(\"total rating =\",len(df1['overall']))\n",
    "print(\"Total unique users = \",df1['reviewerID'].nunique())\n",
    "print(\"Total unique Products = \",df1['asin'].nunique())"
   ]
  },
  {
   "cell_type": "markdown",
   "id": "d36abbb3",
   "metadata": {},
   "source": [
    "## Memory-Based Collaborative Filtering:\n",
    "- Calculate the number of rated products per user to understand user engagement.\n",
    "- Compute the average rating for each product to identify popular products.\n",
    "- Visualize the distribution of average ratings for products.\n",
    "- Utilize the Surprise library to implement KNN-based collaborative filtering.\n",
    "- Train the model using the training set and evaluate its performance using the test set.\n",
    "- Print the Root Mean Squared Error (RMSE) as a measure of model accuracy."
   ]
  },
  {
   "cell_type": "markdown",
   "id": "38befbeb",
   "metadata": {},
   "source": [
    "Analyzing the rating by user"
   ]
  },
  {
   "cell_type": "code",
   "execution_count": 13,
   "id": "cac8c61b",
   "metadata": {},
   "outputs": [
    {
     "data": {
      "text/plain": [
       "reviewerID\n",
       "A2PXL5ZL7H2S2A    2\n",
       "A3W1CX78I81IB1    2\n",
       "A3HL7PXNH88XKB    2\n",
       "A29YB6HE0TC3QG    2\n",
       "A164DFPAUWX1BA    2\n",
       "Name: overall, dtype: int64"
      ]
     },
     "execution_count": 13,
     "metadata": {},
     "output_type": "execute_result"
    }
   ],
   "source": [
    "no_of_rated_product_per_user = df1.groupby(by='reviewerID')['overall'].count().sort_values(ascending=False)\n",
    "no_of_rated_product_per_user.head()"
   ]
  },
  {
   "cell_type": "code",
   "execution_count": 14,
   "id": "c98a6b2e",
   "metadata": {},
   "outputs": [
    {
     "data": {
      "text/plain": [
       "<AxesSubplot:xlabel='reviewerID'>"
      ]
     },
     "execution_count": 14,
     "metadata": {},
     "output_type": "execute_result"
    },
    {
     "data": {
      "image/png": "[encoded data removed]",
      "text/plain": [
       "<Figure size 640x480 with 1 Axes>"
      ]
     },
     "metadata": {},
     "output_type": "display_data"
    }
   ],
   "source": [
    "no_of_rated_product_per_user.head(20).plot(kind='bar')"
   ]
  },
  {
   "cell_type": "markdown",
   "id": "2055c1a6",
   "metadata": {},
   "source": [
    "# Average Rating Product"
   ]
  },
  {
   "cell_type": "code",
   "execution_count": 15,
   "id": "6330b0d6",
   "metadata": {},
   "outputs": [],
   "source": [
    "mean_rating_prodcut_count = pd.DataFrame(df1.groupby('asin')['overall'].mean())"
   ]
  },
  {
   "cell_type": "code",
   "execution_count": 16,
   "id": "9e841223",
   "metadata": {},
   "outputs": [
    {
     "data": {
      "text/html": [
       "<div>\n",
       "<style scoped>\n",
       "    .dataframe tbody tr th:only-of-type {\n",
       "        vertical-align: middle;\n",
       "    }\n",
       "\n",
       "    .dataframe tbody tr th {\n",
       "        vertical-align: top;\n",
       "    }\n",
       "\n",
       "    .dataframe thead th {\n",
       "        text-align: right;\n",
       "    }\n",
       "</style>\n",
       "<table border=\"1\" class=\"dataframe\">\n",
       "  <thead>\n",
       "    <tr style=\"text-align: right;\">\n",
       "      <th></th>\n",
       "      <th>overall</th>\n",
       "    </tr>\n",
       "    <tr>\n",
       "      <th>asin</th>\n",
       "      <th></th>\n",
       "    </tr>\n",
       "  </thead>\n",
       "  <tbody>\n",
       "    <tr>\n",
       "      <th>0899333257</th>\n",
       "      <td>4.455782</td>\n",
       "    </tr>\n",
       "    <tr>\n",
       "      <th>6025006571</th>\n",
       "      <td>4.600000</td>\n",
       "    </tr>\n",
       "    <tr>\n",
       "      <th>B00002N6T4</th>\n",
       "      <td>4.507246</td>\n",
       "    </tr>\n",
       "    <tr>\n",
       "      <th>B00002N9FI</th>\n",
       "      <td>4.620690</td>\n",
       "    </tr>\n",
       "    <tr>\n",
       "      <th>B00004SQMD</th>\n",
       "      <td>1.714286</td>\n",
       "    </tr>\n",
       "  </tbody>\n",
       "</table>\n",
       "</div>"
      ],
      "text/plain": [
       "             overall\n",
       "asin                \n",
       "0899333257  4.455782\n",
       "6025006571  4.600000\n",
       "B00002N6T4  4.507246\n",
       "B00002N9FI  4.620690\n",
       "B00004SQMD  1.714286"
      ]
     },
     "execution_count": 16,
     "metadata": {},
     "output_type": "execute_result"
    }
   ],
   "source": [
    "mean_rating_prodcut_count.head()"
   ]
  },
  {
   "cell_type": "code",
   "execution_count": 17,
   "id": "36edc742",
   "metadata": {},
   "outputs": [
    {
     "data": {
      "image/png": "[encoded data removed]",
      "text/plain": [
       "<Figure size 640x480 with 1 Axes>"
      ]
     },
     "metadata": {},
     "output_type": "display_data"
    }
   ],
   "source": [
    "# plot the rating distribution of average rating product\n",
    "plt.hist(mean_rating_prodcut_count['overall'],bins=100);"
   ]
  },
  {
   "cell_type": "code",
   "execution_count": 18,
   "id": "7ce0f871",
   "metadata": {},
   "outputs": [
    {
     "data": {
      "text/plain": [
       "-2.700652293692187"
      ]
     },
     "execution_count": 18,
     "metadata": {},
     "output_type": "execute_result"
    }
   ],
   "source": [
    "mean_rating_prodcut_count['overall'].skew()"
   ]
  },
  {
   "cell_type": "code",
   "execution_count": 19,
   "id": "277336f7",
   "metadata": {},
   "outputs": [],
   "source": [
    "#conda install -c conda-forge scikit-surprise "
   ]
  },
  {
   "cell_type": "code",
   "execution_count": 20,
   "id": "eab0e909",
   "metadata": {},
   "outputs": [],
   "source": [
    "#conda install -c conda-forge scikit-surprise"
   ]
  },
  {
   "cell_type": "code",
   "execution_count": null,
   "id": "7f0d8f19",
   "metadata": {},
   "outputs": [],
   "source": []
  },
  {
   "cell_type": "code",
   "execution_count": 21,
   "id": "aff6f874",
   "metadata": {},
   "outputs": [],
   "source": [
    "\n",
    "from surprise import KNNWithMeans\n",
    "from surprise import Dataset\n",
    "from surprise import accuracy\n",
    "from surprise import Reader\n",
    "from surprise.model_selection import train_test_split"
   ]
  },
  {
   "cell_type": "code",
   "execution_count": 22,
   "id": "7fdb3993",
   "metadata": {},
   "outputs": [],
   "source": [
    "reader = Reader(rating_scale=(1,5))\n",
    "surprise_data = Dataset.load_from_df(df1,reader)"
   ]
  },
  {
   "cell_type": "code",
   "execution_count": 23,
   "id": "6bfe9ddd",
   "metadata": {},
   "outputs": [],
   "source": [
    "#splitting surprise the dataset into 80:20\n",
    "train,test= train_test_split(surprise_data,test_size=0.3,random_state=47)"
   ]
  },
  {
   "cell_type": "code",
   "execution_count": 24,
   "id": "1ac018cd",
   "metadata": {},
   "outputs": [
    {
     "name": "stdout",
     "output_type": "stream",
     "text": [
      "Estimating biases using als...\n",
      "Computing the pearson_baseline similarity matrix...\n",
      "Done computing similarity matrix.\n"
     ]
    },
    {
     "data": {
      "text/plain": [
       "<surprise.prediction_algorithms.knns.KNNWithMeans at 0x25ccda19760>"
      ]
     },
     "execution_count": 24,
     "metadata": {},
     "output_type": "execute_result"
    }
   ],
   "source": [
    "algo = KNNWithMeans(k=5,sim_options={'name':'pearson_baseline','used_based':False})\n",
    "algo.fit(train)"
   ]
  },
  {
   "cell_type": "code",
   "execution_count": 25,
   "id": "d389f4f5",
   "metadata": {},
   "outputs": [],
   "source": [
    "#make prediction using test\n",
    "test_pred = algo.test(test)"
   ]
  },
  {
   "cell_type": "code",
   "execution_count": 26,
   "id": "00782089",
   "metadata": {},
   "outputs": [
    {
     "name": "stdout",
     "output_type": "stream",
     "text": [
      "Item-Based Model : Test set\n",
      "RMSE: 1.3775\n"
     ]
    },
    {
     "data": {
      "text/plain": [
       "1.3774690638502614"
      ]
     },
     "execution_count": 26,
     "metadata": {},
     "output_type": "execute_result"
    }
   ],
   "source": [
    "#print RMSE\n",
    "print(\"Item-Based Model : Test set\")\n",
    "accuracy.rmse(test_pred,verbose=True)"
   ]
  },
  {
   "cell_type": "markdown",
   "id": "f109df6e",
   "metadata": {},
   "source": [
    "# Model Based collabrative filtering system\n",
    "- Create a user-item matrix where rows represent users, columns represent products, and cells contain ratings.\n",
    "- Transpose the matrix to get an item-user matrix.\n",
    "- Decompose the item-user matrix using Singular Value Decomposition (SVD) to capture latent factors.\n",
    "- Compute the correlation matrix between products based on decomposed features.\n",
    "- Recommend top correlated products for a given product based on correlation threshold.\n",
    "- Merge recommended products with the original dataset to retrieve additional information such as product titles and ratings."
   ]
  },
  {
   "cell_type": "code",
   "execution_count": 27,
   "id": "93f67c7d",
   "metadata": {},
   "outputs": [
    {
     "data": {
      "text/plain": [
       "(1415, 3)"
      ]
     },
     "execution_count": 27,
     "metadata": {},
     "output_type": "execute_result"
    }
   ],
   "source": [
    "df1.shape"
   ]
  },
  {
   "cell_type": "code",
   "execution_count": 28,
   "id": "c6262d70",
   "metadata": {},
   "outputs": [
    {
     "data": {
      "text/html": [
       "<div>\n",
       "<style scoped>\n",
       "    .dataframe tbody tr th:only-of-type {\n",
       "        vertical-align: middle;\n",
       "    }\n",
       "\n",
       "    .dataframe tbody tr th {\n",
       "        vertical-align: top;\n",
       "    }\n",
       "\n",
       "    .dataframe thead th {\n",
       "        text-align: right;\n",
       "    }\n",
       "</style>\n",
       "<table border=\"1\" class=\"dataframe\">\n",
       "  <thead>\n",
       "    <tr style=\"text-align: right;\">\n",
       "      <th>asin</th>\n",
       "      <th>0899333257</th>\n",
       "      <th>6025006571</th>\n",
       "      <th>B00002N6T4</th>\n",
       "      <th>B00002N9FI</th>\n",
       "      <th>B00004SQMD</th>\n",
       "      <th>B00004U9IW</th>\n",
       "      <th>B00004YTPE</th>\n",
       "      <th>B00004Z2XT</th>\n",
       "      <th>B000051ZHS</th>\n",
       "    </tr>\n",
       "    <tr>\n",
       "      <th>reviewerID</th>\n",
       "      <th></th>\n",
       "      <th></th>\n",
       "      <th></th>\n",
       "      <th></th>\n",
       "      <th></th>\n",
       "      <th></th>\n",
       "      <th></th>\n",
       "      <th></th>\n",
       "      <th></th>\n",
       "    </tr>\n",
       "  </thead>\n",
       "  <tbody>\n",
       "    <tr>\n",
       "      <th>A1056VJWTMOXLP</th>\n",
       "      <td>0</td>\n",
       "      <td>0</td>\n",
       "      <td>0</td>\n",
       "      <td>0</td>\n",
       "      <td>0</td>\n",
       "      <td>0</td>\n",
       "      <td>0</td>\n",
       "      <td>0</td>\n",
       "      <td>5</td>\n",
       "    </tr>\n",
       "    <tr>\n",
       "      <th>A106CN52405M9A</th>\n",
       "      <td>0</td>\n",
       "      <td>0</td>\n",
       "      <td>0</td>\n",
       "      <td>0</td>\n",
       "      <td>0</td>\n",
       "      <td>0</td>\n",
       "      <td>0</td>\n",
       "      <td>0</td>\n",
       "      <td>4</td>\n",
       "    </tr>\n",
       "    <tr>\n",
       "      <th>A106KQ7U0B4XZB</th>\n",
       "      <td>0</td>\n",
       "      <td>0</td>\n",
       "      <td>0</td>\n",
       "      <td>0</td>\n",
       "      <td>0</td>\n",
       "      <td>0</td>\n",
       "      <td>4</td>\n",
       "      <td>0</td>\n",
       "      <td>0</td>\n",
       "    </tr>\n",
       "    <tr>\n",
       "      <th>A10A7IAR5T4F85</th>\n",
       "      <td>0</td>\n",
       "      <td>0</td>\n",
       "      <td>0</td>\n",
       "      <td>0</td>\n",
       "      <td>0</td>\n",
       "      <td>0</td>\n",
       "      <td>0</td>\n",
       "      <td>0</td>\n",
       "      <td>5</td>\n",
       "    </tr>\n",
       "    <tr>\n",
       "      <th>A10BVZYYURC24P</th>\n",
       "      <td>0</td>\n",
       "      <td>0</td>\n",
       "      <td>5</td>\n",
       "      <td>0</td>\n",
       "      <td>0</td>\n",
       "      <td>0</td>\n",
       "      <td>0</td>\n",
       "      <td>0</td>\n",
       "      <td>0</td>\n",
       "    </tr>\n",
       "  </tbody>\n",
       "</table>\n",
       "</div>"
      ],
      "text/plain": [
       "asin            0899333257  6025006571  B00002N6T4  B00002N9FI  B00004SQMD  \\\n",
       "reviewerID                                                                   \n",
       "A1056VJWTMOXLP           0           0           0           0           0   \n",
       "A106CN52405M9A           0           0           0           0           0   \n",
       "A106KQ7U0B4XZB           0           0           0           0           0   \n",
       "A10A7IAR5T4F85           0           0           0           0           0   \n",
       "A10BVZYYURC24P           0           0           5           0           0   \n",
       "\n",
       "asin            B00004U9IW  B00004YTPE  B00004Z2XT  B000051ZHS  \n",
       "reviewerID                                                      \n",
       "A1056VJWTMOXLP           0           0           0           5  \n",
       "A106CN52405M9A           0           0           0           4  \n",
       "A106KQ7U0B4XZB           0           4           0           0  \n",
       "A10A7IAR5T4F85           0           0           0           5  \n",
       "A10BVZYYURC24P           0           0           0           0  "
      ]
     },
     "execution_count": 28,
     "metadata": {},
     "output_type": "execute_result"
    }
   ],
   "source": [
    "rating_matrix = df1.pivot_table(values='overall',index='reviewerID',columns='asin',fill_value=0)\n",
    "rating_matrix.head()"
   ]
  },
  {
   "cell_type": "markdown",
   "id": "85885c6a",
   "metadata": {},
   "source": [
    "above we have created a pivot table of the rating where the value of the column will overall(rating) and index will be userid and the column name will be asin(product id)"
   ]
  },
  {
   "cell_type": "code",
   "execution_count": 29,
   "id": "c648a23c",
   "metadata": {},
   "outputs": [
    {
     "data": {
      "text/plain": [
       "(1407, 9)"
      ]
     },
     "execution_count": 29,
     "metadata": {},
     "output_type": "execute_result"
    }
   ],
   "source": [
    "rating_matrix.shape"
   ]
  },
  {
   "cell_type": "code",
   "execution_count": 30,
   "id": "d09905c7",
   "metadata": {},
   "outputs": [
    {
     "data": {
      "text/html": [
       "<div>\n",
       "<style scoped>\n",
       "    .dataframe tbody tr th:only-of-type {\n",
       "        vertical-align: middle;\n",
       "    }\n",
       "\n",
       "    .dataframe tbody tr th {\n",
       "        vertical-align: top;\n",
       "    }\n",
       "\n",
       "    .dataframe thead th {\n",
       "        text-align: right;\n",
       "    }\n",
       "</style>\n",
       "<table border=\"1\" class=\"dataframe\">\n",
       "  <thead>\n",
       "    <tr style=\"text-align: right;\">\n",
       "      <th>reviewerID</th>\n",
       "      <th>A1056VJWTMOXLP</th>\n",
       "      <th>A106CN52405M9A</th>\n",
       "      <th>A106KQ7U0B4XZB</th>\n",
       "      <th>A10A7IAR5T4F85</th>\n",
       "      <th>A10BVZYYURC24P</th>\n",
       "      <th>A10FWWCR1P1TEC</th>\n",
       "      <th>A10HSOBGDIL1PL</th>\n",
       "      <th>A10LB6S2BXQ0GD</th>\n",
       "      <th>A10LT9FW6RWG6Y</th>\n",
       "      <th>A10N2G0EJPRP15</th>\n",
       "      <th>...</th>\n",
       "      <th>AZD37ZRPRZF69</th>\n",
       "      <th>AZHQZUYH59SPB</th>\n",
       "      <th>AZI7OLYY5EEX4</th>\n",
       "      <th>AZMR606RD05VM</th>\n",
       "      <th>AZO5N3LM2URDO</th>\n",
       "      <th>AZQP60XPXUQPH</th>\n",
       "      <th>AZR3V3TD5EDL7</th>\n",
       "      <th>AZUVU38922NZO</th>\n",
       "      <th>AZWOOLU6DYGRN</th>\n",
       "      <th>AZYJE40XW6MFG</th>\n",
       "    </tr>\n",
       "    <tr>\n",
       "      <th>asin</th>\n",
       "      <th></th>\n",
       "      <th></th>\n",
       "      <th></th>\n",
       "      <th></th>\n",
       "      <th></th>\n",
       "      <th></th>\n",
       "      <th></th>\n",
       "      <th></th>\n",
       "      <th></th>\n",
       "      <th></th>\n",
       "      <th></th>\n",
       "      <th></th>\n",
       "      <th></th>\n",
       "      <th></th>\n",
       "      <th></th>\n",
       "      <th></th>\n",
       "      <th></th>\n",
       "      <th></th>\n",
       "      <th></th>\n",
       "      <th></th>\n",
       "      <th></th>\n",
       "    </tr>\n",
       "  </thead>\n",
       "  <tbody>\n",
       "    <tr>\n",
       "      <th>0899333257</th>\n",
       "      <td>0</td>\n",
       "      <td>0</td>\n",
       "      <td>0</td>\n",
       "      <td>0</td>\n",
       "      <td>0</td>\n",
       "      <td>0</td>\n",
       "      <td>0</td>\n",
       "      <td>0</td>\n",
       "      <td>0</td>\n",
       "      <td>5</td>\n",
       "      <td>...</td>\n",
       "      <td>0</td>\n",
       "      <td>0</td>\n",
       "      <td>0</td>\n",
       "      <td>0</td>\n",
       "      <td>0</td>\n",
       "      <td>0</td>\n",
       "      <td>0</td>\n",
       "      <td>3</td>\n",
       "      <td>0</td>\n",
       "      <td>0</td>\n",
       "    </tr>\n",
       "    <tr>\n",
       "      <th>6025006571</th>\n",
       "      <td>0</td>\n",
       "      <td>0</td>\n",
       "      <td>0</td>\n",
       "      <td>0</td>\n",
       "      <td>0</td>\n",
       "      <td>0</td>\n",
       "      <td>0</td>\n",
       "      <td>0</td>\n",
       "      <td>0</td>\n",
       "      <td>0</td>\n",
       "      <td>...</td>\n",
       "      <td>0</td>\n",
       "      <td>0</td>\n",
       "      <td>0</td>\n",
       "      <td>0</td>\n",
       "      <td>0</td>\n",
       "      <td>0</td>\n",
       "      <td>0</td>\n",
       "      <td>0</td>\n",
       "      <td>0</td>\n",
       "      <td>0</td>\n",
       "    </tr>\n",
       "    <tr>\n",
       "      <th>B00002N6T4</th>\n",
       "      <td>0</td>\n",
       "      <td>0</td>\n",
       "      <td>0</td>\n",
       "      <td>0</td>\n",
       "      <td>5</td>\n",
       "      <td>0</td>\n",
       "      <td>0</td>\n",
       "      <td>0</td>\n",
       "      <td>0</td>\n",
       "      <td>0</td>\n",
       "      <td>...</td>\n",
       "      <td>0</td>\n",
       "      <td>0</td>\n",
       "      <td>0</td>\n",
       "      <td>0</td>\n",
       "      <td>0</td>\n",
       "      <td>0</td>\n",
       "      <td>0</td>\n",
       "      <td>0</td>\n",
       "      <td>0</td>\n",
       "      <td>0</td>\n",
       "    </tr>\n",
       "    <tr>\n",
       "      <th>B00002N9FI</th>\n",
       "      <td>0</td>\n",
       "      <td>0</td>\n",
       "      <td>0</td>\n",
       "      <td>0</td>\n",
       "      <td>0</td>\n",
       "      <td>0</td>\n",
       "      <td>0</td>\n",
       "      <td>0</td>\n",
       "      <td>0</td>\n",
       "      <td>0</td>\n",
       "      <td>...</td>\n",
       "      <td>5</td>\n",
       "      <td>0</td>\n",
       "      <td>0</td>\n",
       "      <td>0</td>\n",
       "      <td>0</td>\n",
       "      <td>0</td>\n",
       "      <td>0</td>\n",
       "      <td>0</td>\n",
       "      <td>0</td>\n",
       "      <td>0</td>\n",
       "    </tr>\n",
       "    <tr>\n",
       "      <th>B00004SQMD</th>\n",
       "      <td>0</td>\n",
       "      <td>0</td>\n",
       "      <td>0</td>\n",
       "      <td>0</td>\n",
       "      <td>0</td>\n",
       "      <td>0</td>\n",
       "      <td>0</td>\n",
       "      <td>0</td>\n",
       "      <td>0</td>\n",
       "      <td>0</td>\n",
       "      <td>...</td>\n",
       "      <td>0</td>\n",
       "      <td>0</td>\n",
       "      <td>0</td>\n",
       "      <td>0</td>\n",
       "      <td>0</td>\n",
       "      <td>0</td>\n",
       "      <td>0</td>\n",
       "      <td>0</td>\n",
       "      <td>0</td>\n",
       "      <td>0</td>\n",
       "    </tr>\n",
       "  </tbody>\n",
       "</table>\n",
       "<p>5 rows × 1407 columns</p>\n",
       "</div>"
      ],
      "text/plain": [
       "reviewerID  A1056VJWTMOXLP  A106CN52405M9A  A106KQ7U0B4XZB  A10A7IAR5T4F85  \\\n",
       "asin                                                                         \n",
       "0899333257               0               0               0               0   \n",
       "6025006571               0               0               0               0   \n",
       "B00002N6T4               0               0               0               0   \n",
       "B00002N9FI               0               0               0               0   \n",
       "B00004SQMD               0               0               0               0   \n",
       "\n",
       "reviewerID  A10BVZYYURC24P  A10FWWCR1P1TEC  A10HSOBGDIL1PL  A10LB6S2BXQ0GD  \\\n",
       "asin                                                                         \n",
       "0899333257               0               0               0               0   \n",
       "6025006571               0               0               0               0   \n",
       "B00002N6T4               5               0               0               0   \n",
       "B00002N9FI               0               0               0               0   \n",
       "B00004SQMD               0               0               0               0   \n",
       "\n",
       "reviewerID  A10LT9FW6RWG6Y  A10N2G0EJPRP15  ...  AZD37ZRPRZF69  AZHQZUYH59SPB  \\\n",
       "asin                                        ...                                 \n",
       "0899333257               0               5  ...              0              0   \n",
       "6025006571               0               0  ...              0              0   \n",
       "B00002N6T4               0               0  ...              0              0   \n",
       "B00002N9FI               0               0  ...              5              0   \n",
       "B00004SQMD               0               0  ...              0              0   \n",
       "\n",
       "reviewerID  AZI7OLYY5EEX4  AZMR606RD05VM  AZO5N3LM2URDO  AZQP60XPXUQPH  \\\n",
       "asin                                                                     \n",
       "0899333257              0              0              0              0   \n",
       "6025006571              0              0              0              0   \n",
       "B00002N6T4              0              0              0              0   \n",
       "B00002N9FI              0              0              0              0   \n",
       "B00004SQMD              0              0              0              0   \n",
       "\n",
       "reviewerID  AZR3V3TD5EDL7  AZUVU38922NZO  AZWOOLU6DYGRN  AZYJE40XW6MFG  \n",
       "asin                                                                    \n",
       "0899333257              0              3              0              0  \n",
       "6025006571              0              0              0              0  \n",
       "B00002N6T4              0              0              0              0  \n",
       "B00002N9FI              0              0              0              0  \n",
       "B00004SQMD              0              0              0              0  \n",
       "\n",
       "[5 rows x 1407 columns]"
      ]
     },
     "execution_count": 30,
     "metadata": {},
     "output_type": "execute_result"
    }
   ],
   "source": [
    "# transpose\n",
    "x_rating_matrix = rating_matrix.T\n",
    "x_rating_matrix.head()"
   ]
  },
  {
   "cell_type": "code",
   "execution_count": 31,
   "id": "18164d92",
   "metadata": {},
   "outputs": [
    {
     "data": {
      "text/plain": [
       "(9, 1407)"
      ]
     },
     "execution_count": 31,
     "metadata": {},
     "output_type": "execute_result"
    }
   ],
   "source": [
    "x_rating_matrix.shape"
   ]
  },
  {
   "cell_type": "code",
   "execution_count": 32,
   "id": "6a44bfa0",
   "metadata": {},
   "outputs": [],
   "source": [
    "# Decomposition of the matrix\n",
    "from sklearn.decomposition import TruncatedSVD"
   ]
  },
  {
   "cell_type": "code",
   "execution_count": 33,
   "id": "b88a2acb",
   "metadata": {},
   "outputs": [
    {
     "data": {
      "text/plain": [
       "(9, 9)"
      ]
     },
     "execution_count": 33,
     "metadata": {},
     "output_type": "execute_result"
    }
   ],
   "source": [
    "SVD = TruncatedSVD(n_components=10)\n",
    "decomposed_matrix = SVD.fit_transform(x_rating_matrix)\n",
    "decomposed_matrix.shape"
   ]
  },
  {
   "cell_type": "code",
   "execution_count": 34,
   "id": "f7b7a77a",
   "metadata": {},
   "outputs": [
    {
     "data": {
      "text/plain": [
       "(9, 9)"
      ]
     },
     "execution_count": 34,
     "metadata": {},
     "output_type": "execute_result"
    }
   ],
   "source": [
    "#corelation matrix\n",
    "correlation_matrix = np.corrcoef(decomposed_matrix)\n",
    "correlation_matrix.shape"
   ]
  },
  {
   "cell_type": "code",
   "execution_count": 35,
   "id": "d7d223f1",
   "metadata": {},
   "outputs": [
    {
     "data": {
      "text/plain": [
       "'B00004SQMD'"
      ]
     },
     "execution_count": 35,
     "metadata": {},
     "output_type": "execute_result"
    }
   ],
   "source": [
    "x_rating_matrix.index[4]"
   ]
  },
  {
   "cell_type": "code",
   "execution_count": 36,
   "id": "eb8a2856",
   "metadata": {},
   "outputs": [
    {
     "name": "stdout",
     "output_type": "stream",
     "text": [
      "7\n"
     ]
    }
   ],
   "source": [
    "i=\"B00004Z2XT\"\n",
    "product_name = list(x_rating_matrix.index)\n",
    "product_id = product_name.index(i)\n",
    "print(product_id)"
   ]
  },
  {
   "cell_type": "code",
   "execution_count": 37,
   "id": "ff059f98",
   "metadata": {},
   "outputs": [
    {
     "data": {
      "text/plain": [
       "(9,)"
      ]
     },
     "execution_count": 37,
     "metadata": {},
     "output_type": "execute_result"
    }
   ],
   "source": [
    "correlation_product_id = correlation_matrix[product_id]\n",
    "correlation_product_id.shape"
   ]
  },
  {
   "cell_type": "code",
   "execution_count": 38,
   "id": "7b7c4e9d",
   "metadata": {},
   "outputs": [
    {
     "data": {
      "text/plain": [
       "(1, 9)"
      ]
     },
     "execution_count": 38,
     "metadata": {},
     "output_type": "execute_result"
    }
   ],
   "source": [
    "correlation_matrix[correlation_product_id>0.85].shape"
   ]
  },
  {
   "cell_type": "code",
   "execution_count": 39,
   "id": "38753ff3",
   "metadata": {},
   "outputs": [],
   "source": [
    "#reccomending top 20 highly correlated products in sequence\n",
    "recommend = list(x_rating_matrix.index[correlation_product_id > 0.75])\n",
    "recco=recommend[:20]"
   ]
  },
  {
   "cell_type": "code",
   "execution_count": 40,
   "id": "8340b3c1",
   "metadata": {},
   "outputs": [],
   "source": [
    "rec=pd.DataFrame(recco,columns=['asin'])"
   ]
  },
  {
   "cell_type": "code",
   "execution_count": 41,
   "id": "07620acb",
   "metadata": {},
   "outputs": [],
   "source": [
    "final=pd.merge(df,rec,on='asin',how='inner')"
   ]
  },
  {
   "cell_type": "code",
   "execution_count": 42,
   "id": "a7467efd",
   "metadata": {},
   "outputs": [
    {
     "data": {
      "text/html": [
       "<div>\n",
       "<style scoped>\n",
       "    .dataframe tbody tr th:only-of-type {\n",
       "        vertical-align: middle;\n",
       "    }\n",
       "\n",
       "    .dataframe tbody tr th {\n",
       "        vertical-align: top;\n",
       "    }\n",
       "\n",
       "    .dataframe thead th {\n",
       "        text-align: right;\n",
       "    }\n",
       "</style>\n",
       "<table border=\"1\" class=\"dataframe\">\n",
       "  <thead>\n",
       "    <tr style=\"text-align: right;\">\n",
       "      <th></th>\n",
       "      <th>title</th>\n",
       "      <th>asin</th>\n",
       "      <th>overall</th>\n",
       "    </tr>\n",
       "  </thead>\n",
       "  <tbody>\n",
       "    <tr>\n",
       "      <th>0</th>\n",
       "      <td>Vaughan RB 28-Ounce Rig Builders Hatchet, Hick...</td>\n",
       "      <td>B00004Z2XT</td>\n",
       "      <td>5</td>\n",
       "    </tr>\n",
       "    <tr>\n",
       "      <th>1</th>\n",
       "      <td>Vaughan RB 28-Ounce Rig Builders Hatchet, Hick...</td>\n",
       "      <td>B00004Z2XT</td>\n",
       "      <td>5</td>\n",
       "    </tr>\n",
       "    <tr>\n",
       "      <th>2</th>\n",
       "      <td>Vaughan RB 28-Ounce Rig Builders Hatchet, Hick...</td>\n",
       "      <td>B00004Z2XT</td>\n",
       "      <td>5</td>\n",
       "    </tr>\n",
       "    <tr>\n",
       "      <th>3</th>\n",
       "      <td>Vaughan RB 28-Ounce Rig Builders Hatchet, Hick...</td>\n",
       "      <td>B00004Z2XT</td>\n",
       "      <td>4</td>\n",
       "    </tr>\n",
       "    <tr>\n",
       "      <th>4</th>\n",
       "      <td>Vaughan RB 28-Ounce Rig Builders Hatchet, Hick...</td>\n",
       "      <td>B00004Z2XT</td>\n",
       "      <td>3</td>\n",
       "    </tr>\n",
       "    <tr>\n",
       "      <th>5</th>\n",
       "      <td>Vaughan RB 28-Ounce Rig Builders Hatchet, Hick...</td>\n",
       "      <td>B00004Z2XT</td>\n",
       "      <td>5</td>\n",
       "    </tr>\n",
       "    <tr>\n",
       "      <th>6</th>\n",
       "      <td>Vaughan RB 28-Ounce Rig Builders Hatchet, Hick...</td>\n",
       "      <td>B00004Z2XT</td>\n",
       "      <td>4</td>\n",
       "    </tr>\n",
       "    <tr>\n",
       "      <th>7</th>\n",
       "      <td>Vaughan RB 28-Ounce Rig Builders Hatchet, Hick...</td>\n",
       "      <td>B00004Z2XT</td>\n",
       "      <td>5</td>\n",
       "    </tr>\n",
       "    <tr>\n",
       "      <th>8</th>\n",
       "      <td>Vaughan RB 28-Ounce Rig Builders Hatchet, Hick...</td>\n",
       "      <td>B00004Z2XT</td>\n",
       "      <td>5</td>\n",
       "    </tr>\n",
       "    <tr>\n",
       "      <th>9</th>\n",
       "      <td>Vaughan RB 28-Ounce Rig Builders Hatchet, Hick...</td>\n",
       "      <td>B00004Z2XT</td>\n",
       "      <td>4</td>\n",
       "    </tr>\n",
       "    <tr>\n",
       "      <th>10</th>\n",
       "      <td>Vaughan RB 28-Ounce Rig Builders Hatchet, Hick...</td>\n",
       "      <td>B00004Z2XT</td>\n",
       "      <td>1</td>\n",
       "    </tr>\n",
       "    <tr>\n",
       "      <th>11</th>\n",
       "      <td>Vaughan RB 28-Ounce Rig Builders Hatchet, Hick...</td>\n",
       "      <td>B00004Z2XT</td>\n",
       "      <td>5</td>\n",
       "    </tr>\n",
       "    <tr>\n",
       "      <th>12</th>\n",
       "      <td>Vaughan RB 28-Ounce Rig Builders Hatchet, Hick...</td>\n",
       "      <td>B00004Z2XT</td>\n",
       "      <td>5</td>\n",
       "    </tr>\n",
       "    <tr>\n",
       "      <th>13</th>\n",
       "      <td>Vaughan RB 28-Ounce Rig Builders Hatchet, Hick...</td>\n",
       "      <td>B00004Z2XT</td>\n",
       "      <td>5</td>\n",
       "    </tr>\n",
       "    <tr>\n",
       "      <th>14</th>\n",
       "      <td>Vaughan RB 28-Ounce Rig Builders Hatchet, Hick...</td>\n",
       "      <td>B00004Z2XT</td>\n",
       "      <td>5</td>\n",
       "    </tr>\n",
       "    <tr>\n",
       "      <th>15</th>\n",
       "      <td>Vaughan RB 28-Ounce Rig Builders Hatchet, Hick...</td>\n",
       "      <td>B00004Z2XT</td>\n",
       "      <td>5</td>\n",
       "    </tr>\n",
       "    <tr>\n",
       "      <th>16</th>\n",
       "      <td>Vaughan RB 28-Ounce Rig Builders Hatchet, Hick...</td>\n",
       "      <td>B00004Z2XT</td>\n",
       "      <td>5</td>\n",
       "    </tr>\n",
       "    <tr>\n",
       "      <th>17</th>\n",
       "      <td>Vaughan RB 28-Ounce Rig Builders Hatchet, Hick...</td>\n",
       "      <td>B00004Z2XT</td>\n",
       "      <td>5</td>\n",
       "    </tr>\n",
       "    <tr>\n",
       "      <th>18</th>\n",
       "      <td>Vaughan RB 28-Ounce Rig Builders Hatchet, Hick...</td>\n",
       "      <td>B00004Z2XT</td>\n",
       "      <td>5</td>\n",
       "    </tr>\n",
       "    <tr>\n",
       "      <th>19</th>\n",
       "      <td>Vaughan RB 28-Ounce Rig Builders Hatchet, Hick...</td>\n",
       "      <td>B00004Z2XT</td>\n",
       "      <td>5</td>\n",
       "    </tr>\n",
       "    <tr>\n",
       "      <th>20</th>\n",
       "      <td>Vaughan RB 28-Ounce Rig Builders Hatchet, Hick...</td>\n",
       "      <td>B00004Z2XT</td>\n",
       "      <td>5</td>\n",
       "    </tr>\n",
       "    <tr>\n",
       "      <th>21</th>\n",
       "      <td>Vaughan RB 28-Ounce Rig Builders Hatchet, Hick...</td>\n",
       "      <td>B00004Z2XT</td>\n",
       "      <td>4</td>\n",
       "    </tr>\n",
       "    <tr>\n",
       "      <th>22</th>\n",
       "      <td>Vaughan RB 28-Ounce Rig Builders Hatchet, Hick...</td>\n",
       "      <td>B00004Z2XT</td>\n",
       "      <td>3</td>\n",
       "    </tr>\n",
       "    <tr>\n",
       "      <th>23</th>\n",
       "      <td>Vaughan RB 28-Ounce Rig Builders Hatchet, Hick...</td>\n",
       "      <td>B00004Z2XT</td>\n",
       "      <td>5</td>\n",
       "    </tr>\n",
       "    <tr>\n",
       "      <th>24</th>\n",
       "      <td>Vaughan RB 28-Ounce Rig Builders Hatchet, Hick...</td>\n",
       "      <td>B00004Z2XT</td>\n",
       "      <td>4</td>\n",
       "    </tr>\n",
       "    <tr>\n",
       "      <th>25</th>\n",
       "      <td>Vaughan RB 28-Ounce Rig Builders Hatchet, Hick...</td>\n",
       "      <td>B00004Z2XT</td>\n",
       "      <td>5</td>\n",
       "    </tr>\n",
       "    <tr>\n",
       "      <th>26</th>\n",
       "      <td>Vaughan RB 28-Ounce Rig Builders Hatchet, Hick...</td>\n",
       "      <td>B00004Z2XT</td>\n",
       "      <td>5</td>\n",
       "    </tr>\n",
       "    <tr>\n",
       "      <th>27</th>\n",
       "      <td>Vaughan RB 28-Ounce Rig Builders Hatchet, Hick...</td>\n",
       "      <td>B00004Z2XT</td>\n",
       "      <td>4</td>\n",
       "    </tr>\n",
       "    <tr>\n",
       "      <th>28</th>\n",
       "      <td>Vaughan RB 28-Ounce Rig Builders Hatchet, Hick...</td>\n",
       "      <td>B00004Z2XT</td>\n",
       "      <td>1</td>\n",
       "    </tr>\n",
       "    <tr>\n",
       "      <th>29</th>\n",
       "      <td>Vaughan RB 28-Ounce Rig Builders Hatchet, Hick...</td>\n",
       "      <td>B00004Z2XT</td>\n",
       "      <td>5</td>\n",
       "    </tr>\n",
       "    <tr>\n",
       "      <th>30</th>\n",
       "      <td>Vaughan RB 28-Ounce Rig Builders Hatchet, Hick...</td>\n",
       "      <td>B00004Z2XT</td>\n",
       "      <td>5</td>\n",
       "    </tr>\n",
       "    <tr>\n",
       "      <th>31</th>\n",
       "      <td>Vaughan RB 28-Ounce Rig Builders Hatchet, Hick...</td>\n",
       "      <td>B00004Z2XT</td>\n",
       "      <td>5</td>\n",
       "    </tr>\n",
       "    <tr>\n",
       "      <th>32</th>\n",
       "      <td>Vaughan RB 28-Ounce Rig Builders Hatchet, Hick...</td>\n",
       "      <td>B00004Z2XT</td>\n",
       "      <td>5</td>\n",
       "    </tr>\n",
       "    <tr>\n",
       "      <th>33</th>\n",
       "      <td>Vaughan RB 28-Ounce Rig Builders Hatchet, Hick...</td>\n",
       "      <td>B00004Z2XT</td>\n",
       "      <td>5</td>\n",
       "    </tr>\n",
       "    <tr>\n",
       "      <th>34</th>\n",
       "      <td>Vaughan RB 28-Ounce Rig Builders Hatchet, Hick...</td>\n",
       "      <td>B00004Z2XT</td>\n",
       "      <td>5</td>\n",
       "    </tr>\n",
       "    <tr>\n",
       "      <th>35</th>\n",
       "      <td>Vaughan RB 28-Ounce Rig Builders Hatchet, Hick...</td>\n",
       "      <td>B00004Z2XT</td>\n",
       "      <td>5</td>\n",
       "    </tr>\n",
       "  </tbody>\n",
       "</table>\n",
       "</div>"
      ],
      "text/plain": [
       "                                                title        asin  overall\n",
       "0   Vaughan RB 28-Ounce Rig Builders Hatchet, Hick...  B00004Z2XT        5\n",
       "1   Vaughan RB 28-Ounce Rig Builders Hatchet, Hick...  B00004Z2XT        5\n",
       "2   Vaughan RB 28-Ounce Rig Builders Hatchet, Hick...  B00004Z2XT        5\n",
       "3   Vaughan RB 28-Ounce Rig Builders Hatchet, Hick...  B00004Z2XT        4\n",
       "4   Vaughan RB 28-Ounce Rig Builders Hatchet, Hick...  B00004Z2XT        3\n",
       "5   Vaughan RB 28-Ounce Rig Builders Hatchet, Hick...  B00004Z2XT        5\n",
       "6   Vaughan RB 28-Ounce Rig Builders Hatchet, Hick...  B00004Z2XT        4\n",
       "7   Vaughan RB 28-Ounce Rig Builders Hatchet, Hick...  B00004Z2XT        5\n",
       "8   Vaughan RB 28-Ounce Rig Builders Hatchet, Hick...  B00004Z2XT        5\n",
       "9   Vaughan RB 28-Ounce Rig Builders Hatchet, Hick...  B00004Z2XT        4\n",
       "10  Vaughan RB 28-Ounce Rig Builders Hatchet, Hick...  B00004Z2XT        1\n",
       "11  Vaughan RB 28-Ounce Rig Builders Hatchet, Hick...  B00004Z2XT        5\n",
       "12  Vaughan RB 28-Ounce Rig Builders Hatchet, Hick...  B00004Z2XT        5\n",
       "13  Vaughan RB 28-Ounce Rig Builders Hatchet, Hick...  B00004Z2XT        5\n",
       "14  Vaughan RB 28-Ounce Rig Builders Hatchet, Hick...  B00004Z2XT        5\n",
       "15  Vaughan RB 28-Ounce Rig Builders Hatchet, Hick...  B00004Z2XT        5\n",
       "16  Vaughan RB 28-Ounce Rig Builders Hatchet, Hick...  B00004Z2XT        5\n",
       "17  Vaughan RB 28-Ounce Rig Builders Hatchet, Hick...  B00004Z2XT        5\n",
       "18  Vaughan RB 28-Ounce Rig Builders Hatchet, Hick...  B00004Z2XT        5\n",
       "19  Vaughan RB 28-Ounce Rig Builders Hatchet, Hick...  B00004Z2XT        5\n",
       "20  Vaughan RB 28-Ounce Rig Builders Hatchet, Hick...  B00004Z2XT        5\n",
       "21  Vaughan RB 28-Ounce Rig Builders Hatchet, Hick...  B00004Z2XT        4\n",
       "22  Vaughan RB 28-Ounce Rig Builders Hatchet, Hick...  B00004Z2XT        3\n",
       "23  Vaughan RB 28-Ounce Rig Builders Hatchet, Hick...  B00004Z2XT        5\n",
       "24  Vaughan RB 28-Ounce Rig Builders Hatchet, Hick...  B00004Z2XT        4\n",
       "25  Vaughan RB 28-Ounce Rig Builders Hatchet, Hick...  B00004Z2XT        5\n",
       "26  Vaughan RB 28-Ounce Rig Builders Hatchet, Hick...  B00004Z2XT        5\n",
       "27  Vaughan RB 28-Ounce Rig Builders Hatchet, Hick...  B00004Z2XT        4\n",
       "28  Vaughan RB 28-Ounce Rig Builders Hatchet, Hick...  B00004Z2XT        1\n",
       "29  Vaughan RB 28-Ounce Rig Builders Hatchet, Hick...  B00004Z2XT        5\n",
       "30  Vaughan RB 28-Ounce Rig Builders Hatchet, Hick...  B00004Z2XT        5\n",
       "31  Vaughan RB 28-Ounce Rig Builders Hatchet, Hick...  B00004Z2XT        5\n",
       "32  Vaughan RB 28-Ounce Rig Builders Hatchet, Hick...  B00004Z2XT        5\n",
       "33  Vaughan RB 28-Ounce Rig Builders Hatchet, Hick...  B00004Z2XT        5\n",
       "34  Vaughan RB 28-Ounce Rig Builders Hatchet, Hick...  B00004Z2XT        5\n",
       "35  Vaughan RB 28-Ounce Rig Builders Hatchet, Hick...  B00004Z2XT        5"
      ]
     },
     "execution_count": 42,
     "metadata": {},
     "output_type": "execute_result"
    }
   ],
   "source": [
    "final[['title','asin','overall']]"
   ]
  },
  {
   "cell_type": "markdown",
   "id": "9e4a3117",
   "metadata": {},
   "source": [
    "## Final Output:\n",
    "**Display the top recommended products along with their titles and ratings to the user.**"
   ]
  },
  {
   "cell_type": "code",
   "execution_count": 44,
   "id": "917a3721",
   "metadata": {},
   "outputs": [],
   "source": [
    "unique_values=final['title'].unique()"
   ]
  },
  {
   "cell_type": "code",
   "execution_count": 45,
   "id": "4a49ebc9",
   "metadata": {},
   "outputs": [
    {
     "data": {
      "text/plain": [
       "array(['Vaughan RB 28-Ounce Rig Builders Hatchet, Hickory Handle for heavy construction, 17-Inch Long.'],\n",
       "      dtype=object)"
      ]
     },
     "execution_count": 45,
     "metadata": {},
     "output_type": "execute_result"
    }
   ],
   "source": [
    "unique_values"
   ]
  },
  {
   "cell_type": "markdown",
   "id": "8e374c17",
   "metadata": {},
   "source": [
    "**These are the recommended product using collabration method**"
   ]
  },
  {
   "cell_type": "markdown",
   "id": "27461fd0",
   "metadata": {},
   "source": [
    "## Conclusion:\n",
    "This project aims to provide personalized product recommendations to users by leveraging collaborative filtering techniques. It utilizes both memory-based and model-based approaches to analyze user-item interactions and identify patterns in the data. The final output is a list of recommended products tailored to each user's preferences, thereby enhancing their shopping experience and increasing user engagement."
   ]
  }
 ],
 "metadata": {
  "kernelspec": {
   "display_name": "Python 3 (ipykernel)",
   "language": "python",
   "name": "python3"
  },
  "language_info": {
   "codemirror_mode": {
    "name": "ipython",
    "version": 3
   },
   "file_extension": ".py",
   "mimetype": "text/x-python",
   "name": "python",
   "nbconvert_exporter": "python",
   "pygments_lexer": "ipython3",
   "version": "3.9.13"
  }
 },
 "nbformat": 4,
 "nbformat_minor": 5
}
